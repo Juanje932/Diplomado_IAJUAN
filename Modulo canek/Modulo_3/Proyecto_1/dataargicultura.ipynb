{
 "cells": [
  {
   "cell_type": "code",
   "execution_count": 1,
   "metadata": {},
   "outputs": [],
   "source": [
    "import pandas as pd"
   ]
  },
  {
   "cell_type": "code",
   "execution_count": null,
   "metadata": {},
   "outputs": [],
   "source": [
    "datosagricolas = pd.read_csv('Agriculture.csv')\n",
    "datosagricolas"
   ]
  },
  {
   "cell_type": "code",
   "execution_count": 4,
   "metadata": {},
   "outputs": [
    {
     "data": {
      "text/plain": [
       "pandas.core.frame.DataFrame"
      ]
     },
     "execution_count": 4,
     "metadata": {},
     "output_type": "execute_result"
    }
   ],
   "source": [
    "type(datosagricolas)"
   ]
  },
  {
   "cell_type": "code",
   "execution_count": 5,
   "metadata": {},
   "outputs": [
    {
     "data": {
      "text/html": [
       "<div>\n",
       "<style scoped>\n",
       "    .dataframe tbody tr th:only-of-type {\n",
       "        vertical-align: middle;\n",
       "    }\n",
       "\n",
       "    .dataframe tbody tr th {\n",
       "        vertical-align: top;\n",
       "    }\n",
       "\n",
       "    .dataframe thead th {\n",
       "        text-align: right;\n",
       "    }\n",
       "</style>\n",
       "<table border=\"1\" class=\"dataframe\">\n",
       "  <thead>\n",
       "    <tr style=\"text-align: right;\">\n",
       "      <th></th>\n",
       "      <th>NGA</th>\n",
       "      <th>Variable</th>\n",
       "      <th>Value From</th>\n",
       "      <th>Value To</th>\n",
       "      <th>Value Note</th>\n",
       "      <th>Date From</th>\n",
       "      <th>Date To</th>\n",
       "      <th>Unit</th>\n",
       "      <th>Explanation</th>\n",
       "    </tr>\n",
       "  </thead>\n",
       "  <tbody>\n",
       "    <tr>\n",
       "      <th>0</th>\n",
       "      <td>Big Island Hawaii</td>\n",
       "      <td>Carbohydrate Source 1</td>\n",
       "      <td>sweet potato</td>\n",
       "      <td>NaN</td>\n",
       "      <td>NaN</td>\n",
       "      <td>750</td>\n",
       "      <td>1800</td>\n",
       "      <td>NaN</td>\n",
       "      <td>Sweet potato was the the dominant crop in the ...</td>\n",
       "    </tr>\n",
       "    <tr>\n",
       "      <th>1</th>\n",
       "      <td>Big Island Hawaii</td>\n",
       "      <td>Cropping System</td>\n",
       "      <td>swidden</td>\n",
       "      <td>NaN</td>\n",
       "      <td>NaN</td>\n",
       "      <td>750</td>\n",
       "      <td>1400</td>\n",
       "      <td>NaN</td>\n",
       "      <td>Shifting cultivation (in the form of swidden a...</td>\n",
       "    </tr>\n",
       "  </tbody>\n",
       "</table>\n",
       "</div>"
      ],
      "text/plain": [
       "                 NGA               Variable    Value From Value To Value Note  \\\n",
       "0  Big Island Hawaii  Carbohydrate Source 1  sweet potato      NaN        NaN   \n",
       "1  Big Island Hawaii        Cropping System       swidden      NaN        NaN   \n",
       "\n",
       "   Date From  Date To Unit                                        Explanation  \n",
       "0        750     1800  NaN  Sweet potato was the the dominant crop in the ...  \n",
       "1        750     1400  NaN  Shifting cultivation (in the form of swidden a...  "
      ]
     },
     "execution_count": 5,
     "metadata": {},
     "output_type": "execute_result"
    }
   ],
   "source": [
    "datosagricolas.head(2)"
   ]
  },
  {
   "cell_type": "code",
   "execution_count": 6,
   "metadata": {},
   "outputs": [
    {
     "data": {
      "text/html": [
       "<div>\n",
       "<style scoped>\n",
       "    .dataframe tbody tr th:only-of-type {\n",
       "        vertical-align: middle;\n",
       "    }\n",
       "\n",
       "    .dataframe tbody tr th {\n",
       "        vertical-align: top;\n",
       "    }\n",
       "\n",
       "    .dataframe thead th {\n",
       "        text-align: right;\n",
       "    }\n",
       "</style>\n",
       "<table border=\"1\" class=\"dataframe\">\n",
       "  <thead>\n",
       "    <tr style=\"text-align: right;\">\n",
       "      <th></th>\n",
       "      <th>NGA</th>\n",
       "      <th>Variable</th>\n",
       "      <th>Value From</th>\n",
       "      <th>Value To</th>\n",
       "      <th>Value Note</th>\n",
       "      <th>Date From</th>\n",
       "      <th>Date To</th>\n",
       "      <th>Unit</th>\n",
       "      <th>Explanation</th>\n",
       "    </tr>\n",
       "  </thead>\n",
       "  <tbody>\n",
       "    <tr>\n",
       "      <th>328</th>\n",
       "      <td>Yemeni Coastal Plain</td>\n",
       "      <td>Irrigation</td>\n",
       "      <td>present</td>\n",
       "      <td>NaN</td>\n",
       "      <td>NaN</td>\n",
       "      <td>-1500</td>\n",
       "      <td>2001</td>\n",
       "      <td>NaN</td>\n",
       "      <td>According to Ethnographic Atlas variable 28 'I...</td>\n",
       "    </tr>\n",
       "    <tr>\n",
       "      <th>329</th>\n",
       "      <td>Yemeni Coastal Plain</td>\n",
       "      <td>Irrigation Coefficient</td>\n",
       "      <td>1.48</td>\n",
       "      <td>NaN</td>\n",
       "      <td>NaN</td>\n",
       "      <td>-1500</td>\n",
       "      <td>2000</td>\n",
       "      <td>NaN</td>\n",
       "      <td>CC estimate</td>\n",
       "    </tr>\n",
       "  </tbody>\n",
       "</table>\n",
       "</div>"
      ],
      "text/plain": [
       "                      NGA                Variable Value From Value To  \\\n",
       "328  Yemeni Coastal Plain              Irrigation    present      NaN   \n",
       "329  Yemeni Coastal Plain  Irrigation Coefficient       1.48      NaN   \n",
       "\n",
       "    Value Note  Date From  Date To Unit  \\\n",
       "328        NaN      -1500     2001  NaN   \n",
       "329        NaN      -1500     2000  NaN   \n",
       "\n",
       "                                           Explanation  \n",
       "328  According to Ethnographic Atlas variable 28 'I...  \n",
       "329                                        CC estimate  "
      ]
     },
     "execution_count": 6,
     "metadata": {},
     "output_type": "execute_result"
    }
   ],
   "source": [
    "datosagricolas.tail(2)"
   ]
  },
  {
   "cell_type": "code",
   "execution_count": 7,
   "metadata": {},
   "outputs": [],
   "source": [
    "pd.set_option('display.max_columns',None)"
   ]
  },
  {
   "cell_type": "code",
   "execution_count": 9,
   "metadata": {},
   "outputs": [
    {
     "data": {
      "text/plain": [
       "NGA             30\n",
       "Variable         9\n",
       "Value From      93\n",
       "Value To        40\n",
       "Value Note       4\n",
       "Date From       94\n",
       "Date To         88\n",
       "Unit             1\n",
       "Explanation    252\n",
       "dtype: int64"
      ]
     },
     "execution_count": 9,
     "metadata": {},
     "output_type": "execute_result"
    }
   ],
   "source": [
    "datosagricolas.nunique()"
   ]
  },
  {
   "cell_type": "code",
   "execution_count": null,
   "metadata": {},
   "outputs": [],
   "source": [
    "datos_cl"
   ]
  },
  {
   "cell_type": "code",
   "execution_count": null,
   "metadata": {},
   "outputs": [],
   "source": [
    "datosagricolas.drop()"
   ]
  },
  {
   "cell_type": "markdown",
   "metadata": {},
   "source": [
    "#df.drop(columnas_sn_info,axis=1,inplace=T) elimina del data frame original\n",
    "df_clean = df.drop(columnas_sn_info, axis=1)"
   ]
  }
 ],
 "metadata": {
  "kernelspec": {
   "display_name": "Diplomado",
   "language": "python",
   "name": "python3"
  },
  "language_info": {
   "codemirror_mode": {
    "name": "ipython",
    "version": 3
   },
   "file_extension": ".py",
   "mimetype": "text/x-python",
   "name": "python",
   "nbconvert_exporter": "python",
   "pygments_lexer": "ipython3",
   "version": "3.10.14"
  }
 },
 "nbformat": 4,
 "nbformat_minor": 2
}
