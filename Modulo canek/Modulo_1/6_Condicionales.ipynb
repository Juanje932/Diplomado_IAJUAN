{
 "cells": [
  {
   "cell_type": "markdown",
   "metadata": {},
   "source": [
    "# Condicional"
   ]
  },
  {
   "cell_type": "code",
   "execution_count": 12,
   "metadata": {},
   "outputs": [],
   "source": [
    "temperatura = 30\n",
    "if temperatura > 35:\n",
    "     print('Aviso por alta temperatura')\n"
   ]
  },
  {
   "cell_type": "code",
   "execution_count": 15,
   "metadata": {},
   "outputs": [
    {
     "name": "stdout",
     "output_type": "stream",
     "text": [
      "Alerta roja\n"
     ]
    }
   ],
   "source": [
    "if temperatura < 20:\n",
    "     if temperatura < 10:\n",
    "          Print('Alerta Azul')\n",
    "     else:\n",
    "          print('Alerta verde')\n",
    "else:\n",
    "     if temperatura < 30:\n",
    "          print('Alerta Naranja')\n",
    "     else:\n",
    "          print('Alerta roja')"
   ]
  },
  {
   "cell_type": "code",
   "execution_count": 18,
   "metadata": {},
   "outputs": [
    {
     "name": "stdout",
     "output_type": "stream",
     "text": [
      "Alerta Naranja\n"
     ]
    }
   ],
   "source": [
    "if temperatura < 20:\n",
    "     if temperatura < 10:\n",
    "          Print('Alerta Azul')\n",
    "     else:\n",
    "          print('Alerta verde')\n",
    "elif  temperatura <= 30:\n",
    "          print('Alerta Naranja')\n",
    "else: print('Alerta roja')"
   ]
  },
  {
   "cell_type": "code",
   "execution_count": 20,
   "metadata": {},
   "outputs": [
    {
     "name": "stdout",
     "output_type": "stream",
     "text": [
      "Alerta Naranja\n"
     ]
    }
   ],
   "source": [
    "temperatura = 21 \n",
    "\n",
    "if temperatura < 10:\n",
    "    Print('Alerta Azul')\n",
    "elif temperatura < 20:\n",
    "     print('Alerta verde')\n",
    "elif  temperatura <= 30:\n",
    "          print('Alerta Naranja')\n",
    "else: print('Alerta roja')"
   ]
  }
 ],
 "metadata": {
  "kernelspec": {
   "display_name": "Diplomado",
   "language": "python",
   "name": "python3"
  },
  "language_info": {
   "codemirror_mode": {
    "name": "ipython",
    "version": 3
   },
   "file_extension": ".py",
   "mimetype": "text/x-python",
   "name": "python",
   "nbconvert_exporter": "python",
   "pygments_lexer": "ipython3",
   "version": "3.10.14"
  }
 },
 "nbformat": 4,
 "nbformat_minor": 2
}
