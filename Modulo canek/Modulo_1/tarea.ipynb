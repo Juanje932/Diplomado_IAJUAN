{
 "cells": [
  {
   "cell_type": "code",
   "execution_count": null,
   "metadata": {},
   "outputs": [],
   "source": [
    "#array a ordenar\n",
    "arr = [50, 20, 40, 80, 30]\n",
    "\n",
    "n= len(arr) # numer de elementos de arrelgo\n",
    "for i in range(n-1):\n",
    "    interruptor =False\n",
    "    for j in range(0,n-i-1):\n",
    "        if arr[j]> arr[j +1]:\n",
    "            arr[j],arr[j +1]= arr[j +1],arr[j]"
   ]
  }
 ],
 "metadata": {
  "language_info": {
   "name": "python"
  }
 },
 "nbformat": 4,
 "nbformat_minor": 2
}
