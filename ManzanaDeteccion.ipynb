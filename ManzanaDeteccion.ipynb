{
  "cells": [
    {
      "cell_type": "markdown",
      "metadata": {
        "id": "view-in-github",
        "colab_type": "text"
      },
      "source": [
        "<a href=\"https://colab.research.google.com/github/Juanje932/Diplomado_IAJUAN/blob/Modulo-4/ManzanaDeteccion.ipynb\" target=\"_parent\"><img src=\"https://colab.research.google.com/assets/colab-badge.svg\" alt=\"Open In Colab\"/></a>"
      ]
    },
    {
      "cell_type": "markdown",
      "metadata": {
        "id": "jVANNS1mwdKe"
      },
      "source": [
        "# Detección de strawberries"
      ]
    },
    {
      "cell_type": "markdown",
      "metadata": {
        "id": "XiqHKB8ywdKh"
      },
      "source": [
        "link del dataset: https://universe.roboflow.com/saruta-nonthasiriwat-sr2y9/strawberry-tyqqb/dataset/2\n",
        "\n",
        "Link interesante, datos de paga:  https://www.kaggle.com/datasets/trainingdatapro/ripe-strawberries-detection/data\n",
        "\n",
        "Mas imagenes, no revisadas: https://universe.roboflow.com/cs2/farm-detect9/dataset/3"
      ]
    },
    {
      "cell_type": "code",
      "execution_count": 1,
      "metadata": {
        "colab": {
          "base_uri": "https://localhost:8080/"
        },
        "collapsed": true,
        "id": "VQZOnG_UwdKj",
        "outputId": "0c5b9ea3-f729-49fc-8d85-07fda8876786"
      },
      "outputs": [
        {
          "output_type": "stream",
          "name": "stdout",
          "text": [
            "Collecting roboflow\n",
            "  Downloading roboflow-1.1.37-py3-none-any.whl.metadata (9.4 kB)\n",
            "Requirement already satisfied: certifi in /usr/local/lib/python3.10/dist-packages (from roboflow) (2024.7.4)\n",
            "Collecting chardet==4.0.0 (from roboflow)\n",
            "  Downloading chardet-4.0.0-py2.py3-none-any.whl.metadata (3.5 kB)\n",
            "Requirement already satisfied: idna==3.7 in /usr/local/lib/python3.10/dist-packages (from roboflow) (3.7)\n",
            "Requirement already satisfied: cycler in /usr/local/lib/python3.10/dist-packages (from roboflow) (0.12.1)\n",
            "Requirement already satisfied: kiwisolver>=1.3.1 in /usr/local/lib/python3.10/dist-packages (from roboflow) (1.4.5)\n",
            "Requirement already satisfied: matplotlib in /usr/local/lib/python3.10/dist-packages (from roboflow) (3.7.1)\n",
            "Requirement already satisfied: numpy>=1.18.5 in /usr/local/lib/python3.10/dist-packages (from roboflow) (1.26.4)\n",
            "Requirement already satisfied: opencv-python-headless==4.10.0.84 in /usr/local/lib/python3.10/dist-packages (from roboflow) (4.10.0.84)\n",
            "Requirement already satisfied: Pillow>=7.1.2 in /usr/local/lib/python3.10/dist-packages (from roboflow) (9.4.0)\n",
            "Requirement already satisfied: python-dateutil in /usr/local/lib/python3.10/dist-packages (from roboflow) (2.8.2)\n",
            "Collecting python-dotenv (from roboflow)\n",
            "  Downloading python_dotenv-1.0.1-py3-none-any.whl.metadata (23 kB)\n",
            "Requirement already satisfied: requests in /usr/local/lib/python3.10/dist-packages (from roboflow) (2.31.0)\n",
            "Requirement already satisfied: six in /usr/local/lib/python3.10/dist-packages (from roboflow) (1.16.0)\n",
            "Requirement already satisfied: urllib3>=1.26.6 in /usr/local/lib/python3.10/dist-packages (from roboflow) (2.0.7)\n",
            "Requirement already satisfied: tqdm>=4.41.0 in /usr/local/lib/python3.10/dist-packages (from roboflow) (4.66.4)\n",
            "Requirement already satisfied: PyYAML>=5.3.1 in /usr/local/lib/python3.10/dist-packages (from roboflow) (6.0.1)\n",
            "Collecting requests-toolbelt (from roboflow)\n",
            "  Downloading requests_toolbelt-1.0.0-py2.py3-none-any.whl.metadata (14 kB)\n",
            "Collecting filetype (from roboflow)\n",
            "  Downloading filetype-1.2.0-py2.py3-none-any.whl.metadata (6.5 kB)\n",
            "Requirement already satisfied: contourpy>=1.0.1 in /usr/local/lib/python3.10/dist-packages (from matplotlib->roboflow) (1.2.1)\n",
            "Requirement already satisfied: fonttools>=4.22.0 in /usr/local/lib/python3.10/dist-packages (from matplotlib->roboflow) (4.53.1)\n",
            "Requirement already satisfied: packaging>=20.0 in /usr/local/lib/python3.10/dist-packages (from matplotlib->roboflow) (24.1)\n",
            "Requirement already satisfied: pyparsing>=2.3.1 in /usr/local/lib/python3.10/dist-packages (from matplotlib->roboflow) (3.1.2)\n",
            "Requirement already satisfied: charset-normalizer<4,>=2 in /usr/local/lib/python3.10/dist-packages (from requests->roboflow) (3.3.2)\n",
            "Downloading roboflow-1.1.37-py3-none-any.whl (76 kB)\n",
            "\u001b[2K   \u001b[90m━━━━━━━━━━━━━━━━━━━━━━━━━━━━━━━━━━━━━━━━\u001b[0m \u001b[32m76.9/76.9 kB\u001b[0m \u001b[31m4.9 MB/s\u001b[0m eta \u001b[36m0:00:00\u001b[0m\n",
            "\u001b[?25hDownloading chardet-4.0.0-py2.py3-none-any.whl (178 kB)\n",
            "\u001b[2K   \u001b[90m━━━━━━━━━━━━━━━━━━━━━━━━━━━━━━━━━━━━━━━━\u001b[0m \u001b[32m178.7/178.7 kB\u001b[0m \u001b[31m15.2 MB/s\u001b[0m eta \u001b[36m0:00:00\u001b[0m\n",
            "\u001b[?25hDownloading filetype-1.2.0-py2.py3-none-any.whl (19 kB)\n",
            "Downloading python_dotenv-1.0.1-py3-none-any.whl (19 kB)\n",
            "Downloading requests_toolbelt-1.0.0-py2.py3-none-any.whl (54 kB)\n",
            "\u001b[2K   \u001b[90m━━━━━━━━━━━━━━━━━━━━━━━━━━━━━━━━━━━━━━━━\u001b[0m \u001b[32m54.5/54.5 kB\u001b[0m \u001b[31m5.7 MB/s\u001b[0m eta \u001b[36m0:00:00\u001b[0m\n",
            "\u001b[?25hInstalling collected packages: filetype, python-dotenv, chardet, requests-toolbelt, roboflow\n",
            "  Attempting uninstall: chardet\n",
            "    Found existing installation: chardet 5.2.0\n",
            "    Uninstalling chardet-5.2.0:\n",
            "      Successfully uninstalled chardet-5.2.0\n",
            "Successfully installed chardet-4.0.0 filetype-1.2.0 python-dotenv-1.0.1 requests-toolbelt-1.0.0 roboflow-1.1.37\n"
          ]
        }
      ],
      "source": [
        "# Uso de la API de roboflow\n",
        "%pip install roboflow"
      ]
    },
    {
      "cell_type": "markdown",
      "metadata": {
        "id": "sOD4f5S3wdKk"
      },
      "source": [
        "## Descargar el dataset\n"
      ]
    },
    {
      "cell_type": "code",
      "source": [
        "from roboflow import Roboflow\n",
        "rf = Roboflow(api_key=\"fDfY37GxkyGoaJ1AfIFM\")\n",
        "project = rf.workspace(\"juanjesus\").project(\"manzanas-clases\")\n",
        "version = project.version(1)\n",
        "dataset = version.download(\"yolov5\")\n",
        "\n"
      ],
      "metadata": {
        "colab": {
          "base_uri": "https://localhost:8080/"
        },
        "id": "EyPhLZx8y0oi",
        "outputId": "892acfcf-793b-4f64-fce4-161281eb6771"
      },
      "execution_count": 2,
      "outputs": [
        {
          "output_type": "stream",
          "name": "stdout",
          "text": [
            "loading Roboflow workspace...\n",
            "loading Roboflow project...\n"
          ]
        },
        {
          "output_type": "stream",
          "name": "stderr",
          "text": [
            "Downloading Dataset Version Zip in Manzanas-clases-1 to yolov5pytorch:: 100%|██████████| 39821/39821 [00:03<00:00, 11501.77it/s]"
          ]
        },
        {
          "output_type": "stream",
          "name": "stdout",
          "text": [
            "\n"
          ]
        },
        {
          "output_type": "stream",
          "name": "stderr",
          "text": [
            "\n",
            "Extracting Dataset Version Zip to Manzanas-clases-1 in yolov5pytorch:: 100%|██████████| 1580/1580 [00:00<00:00, 6671.05it/s]\n"
          ]
        }
      ]
    },
    {
      "cell_type": "markdown",
      "metadata": {
        "id": "dbBLdv_rwdKk"
      },
      "source": [
        "## Visualización de los datos"
      ]
    },
    {
      "cell_type": "code",
      "execution_count": 3,
      "metadata": {
        "id": "YznkBfXQwdKk"
      },
      "outputs": [],
      "source": [
        "# Codigo utilizable como libreria\n",
        "import os\n",
        "import yaml\n",
        "from collections import Counter\n",
        "import pandas as pd\n",
        "import matplotlib.pyplot as plt\n",
        "import shutil\n",
        "\n",
        "def load_yaml_config(yaml_path):\n",
        "    \"\"\"\n",
        "    Carga un archivo de configuración YAML.\n",
        "\n",
        "    Args:\n",
        "        yaml_path (str): Ruta al archivo YAML.\n",
        "\n",
        "    Returns:\n",
        "        dict: Contenido del YAML parseado.\n",
        "    \"\"\"\n",
        "    with open(yaml_path, 'r') as file:\n",
        "        return yaml.safe_load(file)\n",
        "\n",
        "def count_classes(labels_dir):\n",
        "    \"\"\"\n",
        "    Cuenta las ocurrencias de cada clase en los archivos de etiquetas de un directorio dado.\n",
        "\n",
        "    Args:\n",
        "        labels_dir (str): Ruta al directorio que contiene los archivos de etiquetas.\n",
        "\n",
        "    Returns:\n",
        "        Counter: Un objeto Counter con los conteos de clases.\n",
        "    \"\"\"\n",
        "    class_counter = Counter()\n",
        "    for label_file in os.listdir(labels_dir):\n",
        "        if label_file.endswith('.txt'):\n",
        "            with open(os.path.join(labels_dir, label_file), 'r') as file:\n",
        "                for line in file:\n",
        "                    class_id = int(line.split()[0])\n",
        "                    class_counter[class_id] += 1\n",
        "    return class_counter\n",
        "\n",
        "def analyze_class_balance(config_path):\n",
        "    \"\"\"\n",
        "    Analiza el balance de clases en el conjunto de datos según lo especificado en el archivo de configuración.\n",
        "\n",
        "    Args:\n",
        "        config_path (str): Ruta al archivo de configuración YAML.\n",
        "\n",
        "    Returns:\n",
        "        pd.DataFrame: DataFrame que contiene los conteos de clases para cada división del conjunto de datos.\n",
        "    \"\"\"\n",
        "    config = load_yaml_config(config_path)\n",
        "    classes = config['names']\n",
        "    datasets = ['train', 'valid', 'test']\n",
        "    base_dir = os.path.dirname(config_path)\n",
        "\n",
        "    results = {}\n",
        "    for dataset in datasets:\n",
        "        labels_dir = os.path.join(base_dir, dataset, 'labels')\n",
        "        if os.path.exists(labels_dir):\n",
        "            results[dataset] = count_classes(labels_dir)\n",
        "        else:\n",
        "            print(f\"Advertencia: El directorio '{labels_dir}' no existe. Saltando el conjunto de datos {dataset}.\")\n",
        "            results[dataset] = Counter()\n",
        "\n",
        "    # Creación del DataFrame\n",
        "    df = pd.DataFrame({dataset: [results[dataset].get(i, 0) for i in range(len(classes))] for dataset in datasets}, index=classes)\n",
        "\n",
        "    return df\n",
        "\n",
        "\n",
        "def plot_class_balance(df):\n",
        "    \"\"\"\n",
        "    Genera un gráfico de barras para visualizar el balance de clases en los diferentes conjuntos de datos.\n",
        "\n",
        "    Args:\n",
        "        df (pd.DataFrame): DataFrame que contiene los conteos de clases para cada división del conjunto de datos.\n",
        "    \"\"\"\n",
        "    ax = df.plot(kind='bar', figsize=(10, 6), width=0.8)\n",
        "    plt.title('Balance de Clases en los Conjuntos de Datos')\n",
        "    plt.xlabel('Clases')\n",
        "    plt.ylabel('Conteo')\n",
        "    plt.xticks(rotation=45)\n",
        "    plt.legend(title='Conjuntos de Datos')\n",
        "    plt.tight_layout()\n",
        "    plt.show()\n",
        "\n",
        "\n",
        "def remove_directory_if_exists(directory_path):\n",
        "    \"\"\"\n",
        "    Elimina un directorio si existe.\n",
        "\n",
        "    Args:\n",
        "        directory_path (str): La ruta del directorio a eliminar.\n",
        "    \"\"\"\n",
        "    if os.path.exists(directory_path):\n",
        "        shutil.rmtree(directory_path)\n",
        "        print(f\"Directorio '{directory_path}' eliminado exitosamente.\")\n",
        "    else:\n",
        "        print(f\"Directorio '{directory_path}' no existe.\")"
      ]
    },
    {
      "cell_type": "markdown",
      "metadata": {
        "id": "VKpaxfbawdKl"
      },
      "source": [
        "**NOTA: Es necesario que el dataset se encuentre en el siguiente formato.**\n",
        "\n",
        "\n",
        "```plaintext\n",
        "strawberry-2\n",
        "├── test\n",
        "├── train\n",
        "├── valid\n",
        "└── data.yaml\n",
        "```\n",
        "\n"
      ]
    },
    {
      "cell_type": "code",
      "execution_count": 4,
      "metadata": {
        "colab": {
          "base_uri": "https://localhost:8080/",
          "height": 683
        },
        "id": "94sw1oAZwdKm",
        "outputId": "cef16a1a-ac34-4ad6-88e9-4010475f2254"
      },
      "outputs": [
        {
          "output_type": "display_data",
          "data": {
            "text/plain": [
              "<Figure size 1000x600 with 1 Axes>"
            ],
            "image/png": "[encoded data removed]"
          },
          "metadata": {}
        },
        {
          "output_type": "stream",
          "name": "stdout",
          "text": [
            "        train  valid  test\n",
            "Gala      144     14     8\n",
            "Golden    141     14     8\n",
            "Granny    162     16     8\n",
            "Red       164     18     6\n"
          ]
        }
      ],
      "source": [
        "class_balance_df = analyze_class_balance(r'/content/Manzanas-clases-1/data.yaml')\n",
        "plot_class_balance(class_balance_df)\n",
        "print(class_balance_df)"
      ]
    },
    {
      "cell_type": "markdown",
      "metadata": {
        "id": "eG6k4hYewdKm"
      },
      "source": [
        "# Instalación de Ultralytics"
      ]
    },
    {
      "cell_type": "code",
      "execution_count": 5,
      "metadata": {
        "colab": {
          "base_uri": "https://localhost:8080/"
        },
        "collapsed": true,
        "id": "whETnWXJwdKn",
        "outputId": "39580893-7d98-40c5-8bcc-0082cfde0f64"
      },
      "outputs": [
        {
          "output_type": "stream",
          "name": "stdout",
          "text": [
            "Collecting ultralytics\n",
            "  Downloading ultralytics-8.2.69-py3-none-any.whl.metadata (41 kB)\n",
            "\u001b[?25l     \u001b[90m━━━━━━━━━━━━━━━━━━━━━━━━━━━━━━━━━━━━━━━━\u001b[0m \u001b[32m0.0/41.3 kB\u001b[0m \u001b[31m?\u001b[0m eta \u001b[36m-:--:--\u001b[0m\r\u001b[2K     \u001b[90m━━━━━━━━━━━━━━━━━━━━━━━━━━━━━━━━━━━━━━━━\u001b[0m \u001b[32m41.3/41.3 kB\u001b[0m \u001b[31m3.7 MB/s\u001b[0m eta \u001b[36m0:00:00\u001b[0m\n",
            "\u001b[?25hRequirement already satisfied: numpy<2.0.0,>=1.23.0 in /usr/local/lib/python3.10/dist-packages (from ultralytics) (1.26.4)\n",
            "Requirement already satisfied: matplotlib>=3.3.0 in /usr/local/lib/python3.10/dist-packages (from ultralytics) (3.7.1)\n",
            "Requirement already satisfied: opencv-python>=4.6.0 in /usr/local/lib/python3.10/dist-packages (from ultralytics) (4.10.0.84)\n",
            "Requirement already satisfied: pillow>=7.1.2 in /usr/local/lib/python3.10/dist-packages (from ultralytics) (9.4.0)\n",
            "Requirement already satisfied: pyyaml>=5.3.1 in /usr/local/lib/python3.10/dist-packages (from ultralytics) (6.0.1)\n",
            "Requirement already satisfied: requests>=2.23.0 in /usr/local/lib/python3.10/dist-packages (from ultralytics) (2.31.0)\n",
            "Requirement already satisfied: scipy>=1.4.1 in /usr/local/lib/python3.10/dist-packages (from ultralytics) (1.13.1)\n",
            "Requirement already satisfied: torch>=1.8.0 in /usr/local/lib/python3.10/dist-packages (from ultralytics) (2.3.1+cu121)\n",
            "Requirement already satisfied: torchvision>=0.9.0 in /usr/local/lib/python3.10/dist-packages (from ultralytics) (0.18.1+cu121)\n",
            "Requirement already satisfied: tqdm>=4.64.0 in /usr/local/lib/python3.10/dist-packages (from ultralytics) (4.66.4)\n",
            "Requirement already satisfied: psutil in /usr/local/lib/python3.10/dist-packages (from ultralytics) (5.9.5)\n",
            "Requirement already satisfied: py-cpuinfo in /usr/local/lib/python3.10/dist-packages (from ultralytics) (9.0.0)\n",
            "Requirement already satisfied: pandas>=1.1.4 in /usr/local/lib/python3.10/dist-packages (from ultralytics) (2.1.4)\n",
            "Requirement already satisfied: seaborn>=0.11.0 in /usr/local/lib/python3.10/dist-packages (from ultralytics) (0.13.1)\n",
            "Collecting ultralytics-thop>=2.0.0 (from ultralytics)\n",
            "  Downloading ultralytics_thop-2.0.0-py3-none-any.whl.metadata (8.5 kB)\n",
            "Requirement already satisfied: contourpy>=1.0.1 in /usr/local/lib/python3.10/dist-packages (from matplotlib>=3.3.0->ultralytics) (1.2.1)\n",
            "Requirement already satisfied: cycler>=0.10 in /usr/local/lib/python3.10/dist-packages (from matplotlib>=3.3.0->ultralytics) (0.12.1)\n",
            "Requirement already satisfied: fonttools>=4.22.0 in /usr/local/lib/python3.10/dist-packages (from matplotlib>=3.3.0->ultralytics) (4.53.1)\n",
            "Requirement already satisfied: kiwisolver>=1.0.1 in /usr/local/lib/python3.10/dist-packages (from matplotlib>=3.3.0->ultralytics) (1.4.5)\n",
            "Requirement already satisfied: packaging>=20.0 in /usr/local/lib/python3.10/dist-packages (from matplotlib>=3.3.0->ultralytics) (24.1)\n",
            "Requirement already satisfied: pyparsing>=2.3.1 in /usr/local/lib/python3.10/dist-packages (from matplotlib>=3.3.0->ultralytics) (3.1.2)\n",
            "Requirement already satisfied: python-dateutil>=2.7 in /usr/local/lib/python3.10/dist-packages (from matplotlib>=3.3.0->ultralytics) (2.8.2)\n",
            "Requirement already satisfied: pytz>=2020.1 in /usr/local/lib/python3.10/dist-packages (from pandas>=1.1.4->ultralytics) (2024.1)\n",
            "Requirement already satisfied: tzdata>=2022.1 in /usr/local/lib/python3.10/dist-packages (from pandas>=1.1.4->ultralytics) (2024.1)\n",
            "Requirement already satisfied: charset-normalizer<4,>=2 in /usr/local/lib/python3.10/dist-packages (from requests>=2.23.0->ultralytics) (3.3.2)\n",
            "Requirement already satisfied: idna<4,>=2.5 in /usr/local/lib/python3.10/dist-packages (from requests>=2.23.0->ultralytics) (3.7)\n",
            "Requirement already satisfied: urllib3<3,>=1.21.1 in /usr/local/lib/python3.10/dist-packages (from requests>=2.23.0->ultralytics) (2.0.7)\n",
            "Requirement already satisfied: certifi>=2017.4.17 in /usr/local/lib/python3.10/dist-packages (from requests>=2.23.0->ultralytics) (2024.7.4)\n",
            "Requirement already satisfied: filelock in /usr/local/lib/python3.10/dist-packages (from torch>=1.8.0->ultralytics) (3.15.4)\n",
            "Requirement already satisfied: typing-extensions>=4.8.0 in /usr/local/lib/python3.10/dist-packages (from torch>=1.8.0->ultralytics) (4.12.2)\n",
            "Requirement already satisfied: sympy in /usr/local/lib/python3.10/dist-packages (from torch>=1.8.0->ultralytics) (1.13.1)\n",
            "Requirement already satisfied: networkx in /usr/local/lib/python3.10/dist-packages (from torch>=1.8.0->ultralytics) (3.3)\n",
            "Requirement already satisfied: jinja2 in /usr/local/lib/python3.10/dist-packages (from torch>=1.8.0->ultralytics) (3.1.4)\n",
            "Requirement already satisfied: fsspec in /usr/local/lib/python3.10/dist-packages (from torch>=1.8.0->ultralytics) (2024.6.1)\n",
            "Collecting nvidia-cuda-nvrtc-cu12==12.1.105 (from torch>=1.8.0->ultralytics)\n",
            "  Using cached nvidia_cuda_nvrtc_cu12-12.1.105-py3-none-manylinux1_x86_64.whl.metadata (1.5 kB)\n",
            "Collecting nvidia-cuda-runtime-cu12==12.1.105 (from torch>=1.8.0->ultralytics)\n",
            "  Using cached nvidia_cuda_runtime_cu12-12.1.105-py3-none-manylinux1_x86_64.whl.metadata (1.5 kB)\n",
            "Collecting nvidia-cuda-cupti-cu12==12.1.105 (from torch>=1.8.0->ultralytics)\n",
            "  Using cached nvidia_cuda_cupti_cu12-12.1.105-py3-none-manylinux1_x86_64.whl.metadata (1.6 kB)\n",
            "Collecting nvidia-cudnn-cu12==8.9.2.26 (from torch>=1.8.0->ultralytics)\n",
            "  Using cached nvidia_cudnn_cu12-8.9.2.26-py3-none-manylinux1_x86_64.whl.metadata (1.6 kB)\n",
            "Collecting nvidia-cublas-cu12==12.1.3.1 (from torch>=1.8.0->ultralytics)\n",
            "  Using cached nvidia_cublas_cu12-12.1.3.1-py3-none-manylinux1_x86_64.whl.metadata (1.5 kB)\n",
            "Collecting nvidia-cufft-cu12==11.0.2.54 (from torch>=1.8.0->ultralytics)\n",
            "  Using cached nvidia_cufft_cu12-11.0.2.54-py3-none-manylinux1_x86_64.whl.metadata (1.5 kB)\n",
            "Collecting nvidia-curand-cu12==10.3.2.106 (from torch>=1.8.0->ultralytics)\n",
            "  Using cached nvidia_curand_cu12-10.3.2.106-py3-none-manylinux1_x86_64.whl.metadata (1.5 kB)\n",
            "Collecting nvidia-cusolver-cu12==11.4.5.107 (from torch>=1.8.0->ultralytics)\n",
            "  Using cached nvidia_cusolver_cu12-11.4.5.107-py3-none-manylinux1_x86_64.whl.metadata (1.6 kB)\n",
            "Collecting nvidia-cusparse-cu12==12.1.0.106 (from torch>=1.8.0->ultralytics)\n",
            "  Using cached nvidia_cusparse_cu12-12.1.0.106-py3-none-manylinux1_x86_64.whl.metadata (1.6 kB)\n",
            "Collecting nvidia-nccl-cu12==2.20.5 (from torch>=1.8.0->ultralytics)\n",
            "  Using cached nvidia_nccl_cu12-2.20.5-py3-none-manylinux2014_x86_64.whl.metadata (1.8 kB)\n",
            "Collecting nvidia-nvtx-cu12==12.1.105 (from torch>=1.8.0->ultralytics)\n",
            "  Using cached nvidia_nvtx_cu12-12.1.105-py3-none-manylinux1_x86_64.whl.metadata (1.7 kB)\n",
            "Requirement already satisfied: triton==2.3.1 in /usr/local/lib/python3.10/dist-packages (from torch>=1.8.0->ultralytics) (2.3.1)\n",
            "Collecting nvidia-nvjitlink-cu12 (from nvidia-cusolver-cu12==11.4.5.107->torch>=1.8.0->ultralytics)\n",
            "  Downloading nvidia_nvjitlink_cu12-12.5.82-py3-none-manylinux2014_x86_64.whl.metadata (1.5 kB)\n",
            "Requirement already satisfied: six>=1.5 in /usr/local/lib/python3.10/dist-packages (from python-dateutil>=2.7->matplotlib>=3.3.0->ultralytics) (1.16.0)\n",
            "Requirement already satisfied: MarkupSafe>=2.0 in /usr/local/lib/python3.10/dist-packages (from jinja2->torch>=1.8.0->ultralytics) (2.1.5)\n",
            "Requirement already satisfied: mpmath<1.4,>=1.1.0 in /usr/local/lib/python3.10/dist-packages (from sympy->torch>=1.8.0->ultralytics) (1.3.0)\n",
            "Downloading ultralytics-8.2.69-py3-none-any.whl (825 kB)\n",
            "\u001b[2K   \u001b[90m━━━━━━━━━━━━━━━━━━━━━━━━━━━━━━━━━━━━━━━━\u001b[0m \u001b[32m825.4/825.4 kB\u001b[0m \u001b[31m55.7 MB/s\u001b[0m eta \u001b[36m0:00:00\u001b[0m\n",
            "\u001b[?25hUsing cached nvidia_cublas_cu12-12.1.3.1-py3-none-manylinux1_x86_64.whl (410.6 MB)\n",
            "Using cached nvidia_cuda_cupti_cu12-12.1.105-py3-none-manylinux1_x86_64.whl (14.1 MB)\n",
            "Using cached nvidia_cuda_nvrtc_cu12-12.1.105-py3-none-manylinux1_x86_64.whl (23.7 MB)\n",
            "Using cached nvidia_cuda_runtime_cu12-12.1.105-py3-none-manylinux1_x86_64.whl (823 kB)\n",
            "Using cached nvidia_cudnn_cu12-8.9.2.26-py3-none-manylinux1_x86_64.whl (731.7 MB)\n",
            "Using cached nvidia_cufft_cu12-11.0.2.54-py3-none-manylinux1_x86_64.whl (121.6 MB)\n",
            "Using cached nvidia_curand_cu12-10.3.2.106-py3-none-manylinux1_x86_64.whl (56.5 MB)\n",
            "Using cached nvidia_cusolver_cu12-11.4.5.107-py3-none-manylinux1_x86_64.whl (124.2 MB)\n",
            "Using cached nvidia_cusparse_cu12-12.1.0.106-py3-none-manylinux1_x86_64.whl (196.0 MB)\n",
            "Using cached nvidia_nccl_cu12-2.20.5-py3-none-manylinux2014_x86_64.whl (176.2 MB)\n",
            "Using cached nvidia_nvtx_cu12-12.1.105-py3-none-manylinux1_x86_64.whl (99 kB)\n",
            "Downloading ultralytics_thop-2.0.0-py3-none-any.whl (25 kB)\n",
            "Downloading nvidia_nvjitlink_cu12-12.5.82-py3-none-manylinux2014_x86_64.whl (21.3 MB)\n",
            "\u001b[2K   \u001b[90m━━━━━━━━━━━━━━━━━━━━━━━━━━━━━━━━━━━━━━━━\u001b[0m \u001b[32m21.3/21.3 MB\u001b[0m \u001b[31m78.2 MB/s\u001b[0m eta \u001b[36m0:00:00\u001b[0m\n",
            "\u001b[?25hInstalling collected packages: nvidia-nvtx-cu12, nvidia-nvjitlink-cu12, nvidia-nccl-cu12, nvidia-curand-cu12, nvidia-cufft-cu12, nvidia-cuda-runtime-cu12, nvidia-cuda-nvrtc-cu12, nvidia-cuda-cupti-cu12, nvidia-cublas-cu12, nvidia-cusparse-cu12, nvidia-cudnn-cu12, nvidia-cusolver-cu12, ultralytics-thop, ultralytics\n",
            "Successfully installed nvidia-cublas-cu12-12.1.3.1 nvidia-cuda-cupti-cu12-12.1.105 nvidia-cuda-nvrtc-cu12-12.1.105 nvidia-cuda-runtime-cu12-12.1.105 nvidia-cudnn-cu12-8.9.2.26 nvidia-cufft-cu12-11.0.2.54 nvidia-curand-cu12-10.3.2.106 nvidia-cusolver-cu12-11.4.5.107 nvidia-cusparse-cu12-12.1.0.106 nvidia-nccl-cu12-2.20.5 nvidia-nvjitlink-cu12-12.5.82 nvidia-nvtx-cu12-12.1.105 ultralytics-8.2.69 ultralytics-thop-2.0.0\n"
          ]
        }
      ],
      "source": [
        "%pip install ultralytics"
      ]
    },
    {
      "cell_type": "code",
      "execution_count": 6,
      "metadata": {
        "colab": {
          "base_uri": "https://localhost:8080/"
        },
        "id": "TYNyR8X5wdKn",
        "outputId": "e8f14c9e-81f7-4f4f-baa0-cbddd1260cc6"
      },
      "outputs": [
        {
          "output_type": "stream",
          "name": "stdout",
          "text": [
            "Archivo data.yaml creado exitosamente.\n"
          ]
        }
      ],
      "source": [
        "import yaml\n",
        "\n",
        "# Definir el contenido del archivo YAML\n",
        "data = {\n",
        "    'names': ['Gala', 'Golden', 'Granny','Red'],\n",
        "    'nc': 4,\n",
        "    'test': '/content/Manzanas-clases-1/test',\n",
        "    'train': '/content/Manzanas-clases-1/train',\n",
        "    'val': '/content/Manzanas-clases-1/valid'\n",
        "}\n",
        "\n",
        "path = r'/content/Manzanas-clases-1/data.yaml'\n",
        "\n",
        "# Escribir el contenido en un archivo YAML\n",
        "with open(path , 'w') as file:\n",
        "    yaml.dump(data, file, default_flow_style=False)\n",
        "\n",
        "print(\"Archivo data.yaml creado exitosamente.\")\n"
      ]
    },
    {
      "cell_type": "markdown",
      "metadata": {
        "id": "EGTprVl5wdKo"
      },
      "source": [
        "Descripción de la Arquitectura: https://docs.ultralytics.com/yolov5/tutorials/architecture_description/"
      ]
    },
    {
      "cell_type": "code",
      "execution_count": null,
      "metadata": {
        "id": "C5-wAs81wdKo"
      },
      "outputs": [],
      "source": [
        "remove_directory_if_exists(r'D:\\Diplomado-IA\\Modulo_5_extendido\\Proyecto_1\\runs')"
      ]
    },
    {
      "cell_type": "code",
      "execution_count": 7,
      "metadata": {
        "colab": {
          "base_uri": "https://localhost:8080/"
        },
        "id": "XgR1dsShwdKp",
        "outputId": "53a829b3-6096-44d2-f6ea-a60feb9bac44"
      },
      "outputs": [
        {
          "output_type": "stream",
          "name": "stdout",
          "text": [
            "Downloading https://github.com/ultralytics/assets/releases/download/v8.2.0/yolov5nu.pt to 'yolov5nu.pt'...\n"
          ]
        },
        {
          "output_type": "stream",
          "name": "stderr",
          "text": [
            "100%|██████████| 5.31M/5.31M [00:00<00:00, 334MB/s]\n"
          ]
        },
        {
          "output_type": "stream",
          "name": "stdout",
          "text": [
            "Ultralytics YOLOv8.2.69 🚀 Python-3.10.12 torch-2.3.1+cu121 CUDA:0 (NVIDIA L4, 22700MiB)\n",
            "\u001b[34m\u001b[1mengine/trainer: \u001b[0mtask=detect, mode=train, model=yolov5nu.pt, data=/content/Manzanas-clases-1/data.yaml, epochs=50, time=None, patience=100, batch=16, imgsz=640, save=True, save_period=-1, cache=False, device=None, workers=8, project=None, name=exp-YOLOV5N, exist_ok=False, pretrained=True, optimizer=auto, verbose=True, seed=0, deterministic=True, single_cls=False, rect=False, cos_lr=False, close_mosaic=10, resume=False, amp=True, fraction=1.0, profile=False, freeze=None, multi_scale=False, overlap_mask=True, mask_ratio=4, dropout=0.0, val=True, split=val, save_json=False, save_hybrid=False, conf=None, iou=0.7, max_det=300, half=False, dnn=False, plots=True, source=None, vid_stride=1, stream_buffer=False, visualize=False, augment=False, agnostic_nms=False, classes=None, retina_masks=False, embed=None, show=False, save_frames=False, save_txt=False, save_conf=False, save_crop=False, show_labels=True, show_conf=True, show_boxes=True, line_width=None, format=torchscript, keras=False, optimize=False, int8=False, dynamic=False, simplify=False, opset=None, workspace=4, nms=False, lr0=0.01, lrf=0.01, momentum=0.937, weight_decay=0.0005, warmup_epochs=3.0, warmup_momentum=0.8, warmup_bias_lr=0.1, box=7.5, cls=0.5, dfl=1.5, pose=12.0, kobj=1.0, label_smoothing=0.0, nbs=64, hsv_h=0.015, hsv_s=0.7, hsv_v=0.4, degrees=0.0, translate=0.1, scale=0.5, shear=0.0, perspective=0.0, flipud=0.0, fliplr=0.5, bgr=0.0, mosaic=1.0, mixup=0.0, copy_paste=0.0, auto_augment=randaugment, erasing=0.4, crop_fraction=1.0, cfg=None, tracker=botsort.yaml, save_dir=runs/detect/exp-YOLOV5N\n",
            "Downloading https://ultralytics.com/assets/Arial.ttf to '/root/.config/Ultralytics/Arial.ttf'...\n"
          ]
        },
        {
          "output_type": "stream",
          "name": "stderr",
          "text": [
            "100%|██████████| 755k/755k [00:00<00:00, 117MB/s]\n"
          ]
        },
        {
          "output_type": "stream",
          "name": "stdout",
          "text": [
            "Overriding model.yaml nc=80 with nc=4\n",
            "\n",
            "                   from  n    params  module                                       arguments                     \n",
            "  0                  -1  1      1760  ultralytics.nn.modules.conv.Conv             [3, 16, 6, 2, 2]              \n",
            "  1                  -1  1      4672  ultralytics.nn.modules.conv.Conv             [16, 32, 3, 2]                \n",
            "  2                  -1  1      4800  ultralytics.nn.modules.block.C3              [32, 32, 1]                   \n",
            "  3                  -1  1     18560  ultralytics.nn.modules.conv.Conv             [32, 64, 3, 2]                \n",
            "  4                  -1  2     29184  ultralytics.nn.modules.block.C3              [64, 64, 2]                   \n",
            "  5                  -1  1     73984  ultralytics.nn.modules.conv.Conv             [64, 128, 3, 2]               \n",
            "  6                  -1  3    156928  ultralytics.nn.modules.block.C3              [128, 128, 3]                 \n",
            "  7                  -1  1    295424  ultralytics.nn.modules.conv.Conv             [128, 256, 3, 2]              \n",
            "  8                  -1  1    296448  ultralytics.nn.modules.block.C3              [256, 256, 1]                 \n",
            "  9                  -1  1    164608  ultralytics.nn.modules.block.SPPF            [256, 256, 5]                 \n",
            " 10                  -1  1     33024  ultralytics.nn.modules.conv.Conv             [256, 128, 1, 1]              \n",
            " 11                  -1  1         0  torch.nn.modules.upsampling.Upsample         [None, 2, 'nearest']          \n",
            " 12             [-1, 6]  1         0  ultralytics.nn.modules.conv.Concat           [1]                           \n",
            " 13                  -1  1     90880  ultralytics.nn.modules.block.C3              [256, 128, 1, False]          \n",
            " 14                  -1  1      8320  ultralytics.nn.modules.conv.Conv             [128, 64, 1, 1]               \n",
            " 15                  -1  1         0  torch.nn.modules.upsampling.Upsample         [None, 2, 'nearest']          \n",
            " 16             [-1, 4]  1         0  ultralytics.nn.modules.conv.Concat           [1]                           \n",
            " 17                  -1  1     22912  ultralytics.nn.modules.block.C3              [128, 64, 1, False]           \n",
            " 18                  -1  1     36992  ultralytics.nn.modules.conv.Conv             [64, 64, 3, 2]                \n",
            " 19            [-1, 14]  1         0  ultralytics.nn.modules.conv.Concat           [1]                           \n",
            " 20                  -1  1     74496  ultralytics.nn.modules.block.C3              [128, 128, 1, False]          \n",
            " 21                  -1  1    147712  ultralytics.nn.modules.conv.Conv             [128, 128, 3, 2]              \n",
            " 22            [-1, 10]  1         0  ultralytics.nn.modules.conv.Concat           [1]                           \n",
            " 23                  -1  1    296448  ultralytics.nn.modules.block.C3              [256, 256, 1, False]          \n",
            " 24        [17, 20, 23]  1    752092  ultralytics.nn.modules.head.Detect           [4, [64, 128, 256]]           \n",
            "YOLOv5n summary: 262 layers, 2,509,244 parameters, 2,509,228 gradients, 7.2 GFLOPs\n",
            "\n",
            "Transferred 391/427 items from pretrained weights\n",
            "\u001b[34m\u001b[1mTensorBoard: \u001b[0mStart with 'tensorboard --logdir runs/detect/exp-YOLOV5N', view at http://localhost:6006/\n",
            "Freezing layer 'model.24.dfl.conv.weight'\n",
            "\u001b[34m\u001b[1mAMP: \u001b[0mrunning Automatic Mixed Precision (AMP) checks with YOLOv8n...\n",
            "Downloading https://github.com/ultralytics/assets/releases/download/v8.2.0/yolov8n.pt to 'yolov8n.pt'...\n"
          ]
        },
        {
          "output_type": "stream",
          "name": "stderr",
          "text": [
            "100%|██████████| 6.25M/6.25M [00:00<00:00, 399MB/s]\n"
          ]
        },
        {
          "output_type": "stream",
          "name": "stdout",
          "text": [
            "\u001b[34m\u001b[1mAMP: \u001b[0mchecks passed ✅\n"
          ]
        },
        {
          "output_type": "stream",
          "name": "stderr",
          "text": [
            "\u001b[34m\u001b[1mtrain: \u001b[0mScanning /content/Manzanas-clases-1/train/labels... 684 images, 73 backgrounds, 0 corrupt: 100%|██████████| 684/684 [00:00<00:00, 1446.04it/s]"
          ]
        },
        {
          "output_type": "stream",
          "name": "stdout",
          "text": [
            "\u001b[34m\u001b[1mtrain: \u001b[0mNew cache created: /content/Manzanas-clases-1/train/labels.cache\n"
          ]
        },
        {
          "output_type": "stream",
          "name": "stderr",
          "text": [
            "\n"
          ]
        },
        {
          "output_type": "stream",
          "name": "stdout",
          "text": [
            "\u001b[34m\u001b[1malbumentations: \u001b[0mBlur(p=0.01, blur_limit=(3, 7)), MedianBlur(p=0.01, blur_limit=(3, 7)), ToGray(p=0.01), CLAHE(p=0.01, clip_limit=(1, 4.0), tile_grid_size=(8, 8))\n"
          ]
        },
        {
          "output_type": "stream",
          "name": "stderr",
          "text": [
            "os.fork() was called. os.fork() is incompatible with multithreaded code, and JAX is multithreaded, so this will likely lead to a deadlock.\n",
            "\u001b[34m\u001b[1mval: \u001b[0mScanning /content/Manzanas-clases-1/valid/labels... 68 images, 6 backgrounds, 0 corrupt: 100%|██████████| 68/68 [00:00<00:00, 1283.34it/s]"
          ]
        },
        {
          "output_type": "stream",
          "name": "stdout",
          "text": [
            "\u001b[34m\u001b[1mval: \u001b[0mNew cache created: /content/Manzanas-clases-1/valid/labels.cache\n"
          ]
        },
        {
          "output_type": "stream",
          "name": "stderr",
          "text": [
            "\n"
          ]
        },
        {
          "output_type": "stream",
          "name": "stdout",
          "text": [
            "Plotting labels to runs/detect/exp-YOLOV5N/labels.jpg... \n",
            "\u001b[34m\u001b[1moptimizer:\u001b[0m 'optimizer=auto' found, ignoring 'lr0=0.01' and 'momentum=0.937' and determining best 'optimizer', 'lr0' and 'momentum' automatically... \n",
            "\u001b[34m\u001b[1moptimizer:\u001b[0m AdamW(lr=0.00125, momentum=0.9) with parameter groups 69 weight(decay=0.0), 76 weight(decay=0.0005), 75 bias(decay=0.0)\n",
            "\u001b[34m\u001b[1mTensorBoard: \u001b[0mmodel graph visualization added ✅\n",
            "Image sizes 640 train, 640 val\n",
            "Using 8 dataloader workers\n",
            "Logging results to \u001b[1mruns/detect/exp-YOLOV5N\u001b[0m\n",
            "Starting training for 50 epochs...\n",
            "\n",
            "      Epoch    GPU_mem   box_loss   cls_loss   dfl_loss  Instances       Size\n"
          ]
        },
        {
          "output_type": "stream",
          "name": "stderr",
          "text": [
            "       1/50      2.16G      1.037      3.144       1.33         18        640: 100%|██████████| 43/43 [00:07<00:00,  6.07it/s]\n",
            "                 Class     Images  Instances      Box(P          R      mAP50  mAP50-95): 100%|██████████| 3/3 [00:01<00:00,  1.96it/s]"
          ]
        },
        {
          "output_type": "stream",
          "name": "stdout",
          "text": [
            "                   all         68         62      0.557      0.178      0.352       0.29\n"
          ]
        },
        {
          "output_type": "stream",
          "name": "stderr",
          "text": [
            "\n"
          ]
        },
        {
          "output_type": "stream",
          "name": "stdout",
          "text": [
            "\n",
            "      Epoch    GPU_mem   box_loss   cls_loss   dfl_loss  Instances       Size\n"
          ]
        },
        {
          "output_type": "stream",
          "name": "stderr",
          "text": [
            "       2/50      1.98G     0.9843      2.305      1.241         20        640: 100%|██████████| 43/43 [00:04<00:00,  9.36it/s]\n",
            "                 Class     Images  Instances      Box(P          R      mAP50  mAP50-95): 100%|██████████| 3/3 [00:00<00:00,  6.52it/s]\n"
          ]
        },
        {
          "output_type": "stream",
          "name": "stdout",
          "text": [
            "                   all         68         62      0.312      0.518      0.426      0.301\n",
            "\n",
            "      Epoch    GPU_mem   box_loss   cls_loss   dfl_loss  Instances       Size\n"
          ]
        },
        {
          "output_type": "stream",
          "name": "stderr",
          "text": [
            "       3/50      1.98G      1.002      2.111      1.257         15        640: 100%|██████████| 43/43 [00:04<00:00, 10.31it/s]\n",
            "                 Class     Images  Instances      Box(P          R      mAP50  mAP50-95): 100%|██████████| 3/3 [00:00<00:00,  8.39it/s]\n"
          ]
        },
        {
          "output_type": "stream",
          "name": "stdout",
          "text": [
            "                   all         68         62      0.488      0.538      0.548      0.414\n",
            "\n",
            "      Epoch    GPU_mem   box_loss   cls_loss   dfl_loss  Instances       Size\n"
          ]
        },
        {
          "output_type": "stream",
          "name": "stderr",
          "text": [
            "       4/50      1.98G     0.9642      1.746      1.235         18        640: 100%|██████████| 43/43 [00:04<00:00,  9.62it/s]\n",
            "                 Class     Images  Instances      Box(P          R      mAP50  mAP50-95): 100%|██████████| 3/3 [00:00<00:00,  7.59it/s]"
          ]
        },
        {
          "output_type": "stream",
          "name": "stdout",
          "text": [
            "                   all         68         62      0.831      0.403      0.568      0.449\n"
          ]
        },
        {
          "output_type": "stream",
          "name": "stderr",
          "text": [
            "\n"
          ]
        },
        {
          "output_type": "stream",
          "name": "stdout",
          "text": [
            "\n",
            "      Epoch    GPU_mem   box_loss   cls_loss   dfl_loss  Instances       Size\n"
          ]
        },
        {
          "output_type": "stream",
          "name": "stderr",
          "text": [
            "       5/50      1.98G      1.025      1.722      1.255         19        640: 100%|██████████| 43/43 [00:04<00:00,  9.15it/s]\n",
            "                 Class     Images  Instances      Box(P          R      mAP50  mAP50-95): 100%|██████████| 3/3 [00:00<00:00,  8.77it/s]\n"
          ]
        },
        {
          "output_type": "stream",
          "name": "stdout",
          "text": [
            "                   all         68         62      0.419      0.712      0.616      0.489\n",
            "\n",
            "      Epoch    GPU_mem   box_loss   cls_loss   dfl_loss  Instances       Size\n"
          ]
        },
        {
          "output_type": "stream",
          "name": "stderr",
          "text": [
            "       6/50      1.98G     0.9565      1.534      1.199         22        640: 100%|██████████| 43/43 [00:04<00:00, 10.42it/s]\n",
            "                 Class     Images  Instances      Box(P          R      mAP50  mAP50-95): 100%|██████████| 3/3 [00:00<00:00,  9.31it/s]"
          ]
        },
        {
          "output_type": "stream",
          "name": "stdout",
          "text": [
            "                   all         68         62      0.849      0.815      0.878      0.715\n"
          ]
        },
        {
          "output_type": "stream",
          "name": "stderr",
          "text": [
            "\n"
          ]
        },
        {
          "output_type": "stream",
          "name": "stdout",
          "text": [
            "\n",
            "      Epoch    GPU_mem   box_loss   cls_loss   dfl_loss  Instances       Size\n"
          ]
        },
        {
          "output_type": "stream",
          "name": "stderr",
          "text": [
            "       7/50      1.98G     0.9754      1.442      1.203         20        640: 100%|██████████| 43/43 [00:04<00:00, 10.49it/s]\n",
            "                 Class     Images  Instances      Box(P          R      mAP50  mAP50-95): 100%|██████████| 3/3 [00:00<00:00,  9.25it/s]"
          ]
        },
        {
          "output_type": "stream",
          "name": "stdout",
          "text": [
            "                   all         68         62      0.843      0.815      0.854      0.727\n"
          ]
        },
        {
          "output_type": "stream",
          "name": "stderr",
          "text": [
            "\n"
          ]
        },
        {
          "output_type": "stream",
          "name": "stdout",
          "text": [
            "\n",
            "      Epoch    GPU_mem   box_loss   cls_loss   dfl_loss  Instances       Size\n"
          ]
        },
        {
          "output_type": "stream",
          "name": "stderr",
          "text": [
            "       8/50      1.97G     0.9124      1.334      1.191         27        640: 100%|██████████| 43/43 [00:04<00:00,  9.73it/s]\n",
            "                 Class     Images  Instances      Box(P          R      mAP50  mAP50-95): 100%|██████████| 3/3 [00:00<00:00,  8.48it/s]"
          ]
        },
        {
          "output_type": "stream",
          "name": "stdout",
          "text": [
            "                   all         68         62      0.796       0.84      0.887      0.753\n"
          ]
        },
        {
          "output_type": "stream",
          "name": "stderr",
          "text": [
            "\n"
          ]
        },
        {
          "output_type": "stream",
          "name": "stdout",
          "text": [
            "\n",
            "      Epoch    GPU_mem   box_loss   cls_loss   dfl_loss  Instances       Size\n"
          ]
        },
        {
          "output_type": "stream",
          "name": "stderr",
          "text": [
            "       9/50      1.97G     0.8519      1.218       1.14         23        640: 100%|██████████| 43/43 [00:04<00:00, 10.19it/s]\n",
            "                 Class     Images  Instances      Box(P          R      mAP50  mAP50-95): 100%|██████████| 3/3 [00:00<00:00,  9.32it/s]"
          ]
        },
        {
          "output_type": "stream",
          "name": "stdout",
          "text": [
            "                   all         68         62      0.885      0.776       0.86      0.732\n"
          ]
        },
        {
          "output_type": "stream",
          "name": "stderr",
          "text": [
            "\n"
          ]
        },
        {
          "output_type": "stream",
          "name": "stdout",
          "text": [
            "\n",
            "      Epoch    GPU_mem   box_loss   cls_loss   dfl_loss  Instances       Size\n"
          ]
        },
        {
          "output_type": "stream",
          "name": "stderr",
          "text": [
            "      10/50      1.98G     0.8811      1.146      1.162         20        640: 100%|██████████| 43/43 [00:04<00:00, 10.27it/s]\n",
            "                 Class     Images  Instances      Box(P          R      mAP50  mAP50-95): 100%|██████████| 3/3 [00:00<00:00,  9.27it/s]"
          ]
        },
        {
          "output_type": "stream",
          "name": "stdout",
          "text": [
            "                   all         68         62      0.837      0.849      0.874      0.737\n"
          ]
        },
        {
          "output_type": "stream",
          "name": "stderr",
          "text": [
            "\n"
          ]
        },
        {
          "output_type": "stream",
          "name": "stdout",
          "text": [
            "\n",
            "      Epoch    GPU_mem   box_loss   cls_loss   dfl_loss  Instances       Size\n"
          ]
        },
        {
          "output_type": "stream",
          "name": "stderr",
          "text": [
            "      11/50      1.97G     0.8682      1.089      1.155         16        640: 100%|██████████| 43/43 [00:04<00:00,  9.83it/s]\n",
            "                 Class     Images  Instances      Box(P          R      mAP50  mAP50-95): 100%|██████████| 3/3 [00:00<00:00,  9.08it/s]"
          ]
        },
        {
          "output_type": "stream",
          "name": "stdout",
          "text": [
            "                   all         68         62      0.912      0.849      0.899      0.787\n"
          ]
        },
        {
          "output_type": "stream",
          "name": "stderr",
          "text": [
            "\n"
          ]
        },
        {
          "output_type": "stream",
          "name": "stdout",
          "text": [
            "\n",
            "      Epoch    GPU_mem   box_loss   cls_loss   dfl_loss  Instances       Size\n"
          ]
        },
        {
          "output_type": "stream",
          "name": "stderr",
          "text": [
            "      12/50      1.97G     0.8279      1.011      1.132         15        640: 100%|██████████| 43/43 [00:04<00:00, 10.04it/s]\n",
            "                 Class     Images  Instances      Box(P          R      mAP50  mAP50-95): 100%|██████████| 3/3 [00:00<00:00,  9.10it/s]"
          ]
        },
        {
          "output_type": "stream",
          "name": "stdout",
          "text": [
            "                   all         68         62       0.83      0.827      0.863      0.755\n"
          ]
        },
        {
          "output_type": "stream",
          "name": "stderr",
          "text": [
            "\n"
          ]
        },
        {
          "output_type": "stream",
          "name": "stdout",
          "text": [
            "\n",
            "      Epoch    GPU_mem   box_loss   cls_loss   dfl_loss  Instances       Size\n"
          ]
        },
        {
          "output_type": "stream",
          "name": "stderr",
          "text": [
            "      13/50      1.97G     0.8082     0.9528      1.115         20        640: 100%|██████████| 43/43 [00:04<00:00, 10.28it/s]\n",
            "                 Class     Images  Instances      Box(P          R      mAP50  mAP50-95): 100%|██████████| 3/3 [00:00<00:00,  9.72it/s]"
          ]
        },
        {
          "output_type": "stream",
          "name": "stdout",
          "text": [
            "                   all         68         62       0.91      0.853      0.881      0.786\n"
          ]
        },
        {
          "output_type": "stream",
          "name": "stderr",
          "text": [
            "\n"
          ]
        },
        {
          "output_type": "stream",
          "name": "stdout",
          "text": [
            "\n",
            "      Epoch    GPU_mem   box_loss   cls_loss   dfl_loss  Instances       Size\n"
          ]
        },
        {
          "output_type": "stream",
          "name": "stderr",
          "text": [
            "      14/50      1.98G      0.833     0.9538       1.12         17        640: 100%|██████████| 43/43 [00:04<00:00,  9.81it/s]\n",
            "                 Class     Images  Instances      Box(P          R      mAP50  mAP50-95): 100%|██████████| 3/3 [00:00<00:00,  8.96it/s]"
          ]
        },
        {
          "output_type": "stream",
          "name": "stdout",
          "text": [
            "                   all         68         62      0.942      0.784      0.892      0.749\n"
          ]
        },
        {
          "output_type": "stream",
          "name": "stderr",
          "text": [
            "\n"
          ]
        },
        {
          "output_type": "stream",
          "name": "stdout",
          "text": [
            "\n",
            "      Epoch    GPU_mem   box_loss   cls_loss   dfl_loss  Instances       Size\n"
          ]
        },
        {
          "output_type": "stream",
          "name": "stderr",
          "text": [
            "      15/50      1.97G     0.8301       0.92      1.116         18        640: 100%|██████████| 43/43 [00:04<00:00,  9.79it/s]\n",
            "                 Class     Images  Instances      Box(P          R      mAP50  mAP50-95): 100%|██████████| 3/3 [00:00<00:00,  9.68it/s]"
          ]
        },
        {
          "output_type": "stream",
          "name": "stdout",
          "text": [
            "                   all         68         62       0.94      0.863      0.911      0.771\n"
          ]
        },
        {
          "output_type": "stream",
          "name": "stderr",
          "text": [
            "\n"
          ]
        },
        {
          "output_type": "stream",
          "name": "stdout",
          "text": [
            "\n",
            "      Epoch    GPU_mem   box_loss   cls_loss   dfl_loss  Instances       Size\n"
          ]
        },
        {
          "output_type": "stream",
          "name": "stderr",
          "text": [
            "      16/50      1.97G     0.7982     0.8972      1.103         22        640: 100%|██████████| 43/43 [00:04<00:00, 10.26it/s]\n",
            "                 Class     Images  Instances      Box(P          R      mAP50  mAP50-95): 100%|██████████| 3/3 [00:00<00:00,  9.46it/s]"
          ]
        },
        {
          "output_type": "stream",
          "name": "stdout",
          "text": [
            "                   all         68         62      0.901      0.864      0.914      0.801\n"
          ]
        },
        {
          "output_type": "stream",
          "name": "stderr",
          "text": [
            "\n"
          ]
        },
        {
          "output_type": "stream",
          "name": "stdout",
          "text": [
            "\n",
            "      Epoch    GPU_mem   box_loss   cls_loss   dfl_loss  Instances       Size\n"
          ]
        },
        {
          "output_type": "stream",
          "name": "stderr",
          "text": [
            "      17/50      1.97G     0.7586     0.8326      1.079         22        640: 100%|██████████| 43/43 [00:04<00:00, 10.14it/s]\n",
            "                 Class     Images  Instances      Box(P          R      mAP50  mAP50-95): 100%|██████████| 3/3 [00:00<00:00,  9.67it/s]"
          ]
        },
        {
          "output_type": "stream",
          "name": "stdout",
          "text": [
            "                   all         68         62      0.911      0.831      0.879       0.79\n"
          ]
        },
        {
          "output_type": "stream",
          "name": "stderr",
          "text": [
            "\n"
          ]
        },
        {
          "output_type": "stream",
          "name": "stdout",
          "text": [
            "\n",
            "      Epoch    GPU_mem   box_loss   cls_loss   dfl_loss  Instances       Size\n"
          ]
        },
        {
          "output_type": "stream",
          "name": "stderr",
          "text": [
            "      18/50      1.98G     0.7781     0.8507      1.085         19        640: 100%|██████████| 43/43 [00:04<00:00,  9.67it/s]\n",
            "                 Class     Images  Instances      Box(P          R      mAP50  mAP50-95): 100%|██████████| 3/3 [00:00<00:00,  9.59it/s]"
          ]
        },
        {
          "output_type": "stream",
          "name": "stdout",
          "text": [
            "                   all         68         62      0.902      0.866       0.88      0.804\n"
          ]
        },
        {
          "output_type": "stream",
          "name": "stderr",
          "text": [
            "\n"
          ]
        },
        {
          "output_type": "stream",
          "name": "stdout",
          "text": [
            "\n",
            "      Epoch    GPU_mem   box_loss   cls_loss   dfl_loss  Instances       Size\n"
          ]
        },
        {
          "output_type": "stream",
          "name": "stderr",
          "text": [
            "      19/50      1.97G     0.7701     0.7831      1.084         23        640: 100%|██████████| 43/43 [00:04<00:00, 10.29it/s]\n",
            "                 Class     Images  Instances      Box(P          R      mAP50  mAP50-95): 100%|██████████| 3/3 [00:00<00:00,  9.21it/s]"
          ]
        },
        {
          "output_type": "stream",
          "name": "stdout",
          "text": [
            "                   all         68         62      0.892      0.833      0.843      0.711\n"
          ]
        },
        {
          "output_type": "stream",
          "name": "stderr",
          "text": [
            "\n"
          ]
        },
        {
          "output_type": "stream",
          "name": "stdout",
          "text": [
            "\n",
            "      Epoch    GPU_mem   box_loss   cls_loss   dfl_loss  Instances       Size\n"
          ]
        },
        {
          "output_type": "stream",
          "name": "stderr",
          "text": [
            "      20/50      1.97G     0.7614     0.8105      1.089         23        640: 100%|██████████| 43/43 [00:04<00:00, 10.49it/s]\n",
            "                 Class     Images  Instances      Box(P          R      mAP50  mAP50-95): 100%|██████████| 3/3 [00:00<00:00,  9.67it/s]"
          ]
        },
        {
          "output_type": "stream",
          "name": "stdout",
          "text": [
            "                   all         68         62      0.943      0.879      0.901      0.768\n"
          ]
        },
        {
          "output_type": "stream",
          "name": "stderr",
          "text": [
            "\n"
          ]
        },
        {
          "output_type": "stream",
          "name": "stdout",
          "text": [
            "\n",
            "      Epoch    GPU_mem   box_loss   cls_loss   dfl_loss  Instances       Size\n"
          ]
        },
        {
          "output_type": "stream",
          "name": "stderr",
          "text": [
            "      21/50      1.97G      0.761      0.801      1.083         21        640: 100%|██████████| 43/43 [00:04<00:00,  9.67it/s]\n",
            "                 Class     Images  Instances      Box(P          R      mAP50  mAP50-95): 100%|██████████| 3/3 [00:00<00:00,  9.07it/s]"
          ]
        },
        {
          "output_type": "stream",
          "name": "stdout",
          "text": [
            "                   all         68         62      0.969      0.871      0.907      0.799\n"
          ]
        },
        {
          "output_type": "stream",
          "name": "stderr",
          "text": [
            "\n"
          ]
        },
        {
          "output_type": "stream",
          "name": "stdout",
          "text": [
            "\n",
            "      Epoch    GPU_mem   box_loss   cls_loss   dfl_loss  Instances       Size\n"
          ]
        },
        {
          "output_type": "stream",
          "name": "stderr",
          "text": [
            "      22/50      1.98G      0.728     0.7366      1.076         23        640: 100%|██████████| 43/43 [00:04<00:00, 10.27it/s]\n",
            "                 Class     Images  Instances      Box(P          R      mAP50  mAP50-95): 100%|██████████| 3/3 [00:00<00:00,  9.83it/s]"
          ]
        },
        {
          "output_type": "stream",
          "name": "stdout",
          "text": [
            "                   all         68         62      0.962      0.852      0.904      0.804\n"
          ]
        },
        {
          "output_type": "stream",
          "name": "stderr",
          "text": [
            "\n"
          ]
        },
        {
          "output_type": "stream",
          "name": "stdout",
          "text": [
            "\n",
            "      Epoch    GPU_mem   box_loss   cls_loss   dfl_loss  Instances       Size\n"
          ]
        },
        {
          "output_type": "stream",
          "name": "stderr",
          "text": [
            "      23/50      1.97G      0.683     0.7078      1.061         32        640: 100%|██████████| 43/43 [00:04<00:00, 10.40it/s]\n",
            "                 Class     Images  Instances      Box(P          R      mAP50  mAP50-95): 100%|██████████| 3/3 [00:00<00:00,  9.33it/s]"
          ]
        },
        {
          "output_type": "stream",
          "name": "stdout",
          "text": [
            "                   all         68         62      0.951      0.917      0.921      0.847\n"
          ]
        },
        {
          "output_type": "stream",
          "name": "stderr",
          "text": [
            "\n"
          ]
        },
        {
          "output_type": "stream",
          "name": "stdout",
          "text": [
            "\n",
            "      Epoch    GPU_mem   box_loss   cls_loss   dfl_loss  Instances       Size\n"
          ]
        },
        {
          "output_type": "stream",
          "name": "stderr",
          "text": [
            "      24/50      1.97G     0.7092     0.7063      1.054         17        640: 100%|██████████| 43/43 [00:04<00:00,  9.67it/s]\n",
            "                 Class     Images  Instances      Box(P          R      mAP50  mAP50-95): 100%|██████████| 3/3 [00:00<00:00,  9.44it/s]"
          ]
        },
        {
          "output_type": "stream",
          "name": "stdout",
          "text": [
            "                   all         68         62      0.973      0.906      0.918      0.835\n"
          ]
        },
        {
          "output_type": "stream",
          "name": "stderr",
          "text": [
            "\n"
          ]
        },
        {
          "output_type": "stream",
          "name": "stdout",
          "text": [
            "\n",
            "      Epoch    GPU_mem   box_loss   cls_loss   dfl_loss  Instances       Size\n"
          ]
        },
        {
          "output_type": "stream",
          "name": "stderr",
          "text": [
            "      25/50      1.97G     0.6913     0.6912      1.046         22        640: 100%|██████████| 43/43 [00:04<00:00,  9.96it/s]\n",
            "                 Class     Images  Instances      Box(P          R      mAP50  mAP50-95): 100%|██████████| 3/3 [00:00<00:00,  9.71it/s]"
          ]
        },
        {
          "output_type": "stream",
          "name": "stdout",
          "text": [
            "                   all         68         62       0.88       0.81      0.889      0.771\n"
          ]
        },
        {
          "output_type": "stream",
          "name": "stderr",
          "text": [
            "\n"
          ]
        },
        {
          "output_type": "stream",
          "name": "stdout",
          "text": [
            "\n",
            "      Epoch    GPU_mem   box_loss   cls_loss   dfl_loss  Instances       Size\n"
          ]
        },
        {
          "output_type": "stream",
          "name": "stderr",
          "text": [
            "      26/50      1.98G     0.7149     0.7025      1.066         23        640: 100%|██████████| 43/43 [00:04<00:00, 10.23it/s]\n",
            "                 Class     Images  Instances      Box(P          R      mAP50  mAP50-95): 100%|██████████| 3/3 [00:00<00:00, 10.03it/s]"
          ]
        },
        {
          "output_type": "stream",
          "name": "stdout",
          "text": [
            "                   all         68         62      0.939      0.907      0.911      0.814\n"
          ]
        },
        {
          "output_type": "stream",
          "name": "stderr",
          "text": [
            "\n"
          ]
        },
        {
          "output_type": "stream",
          "name": "stdout",
          "text": [
            "\n",
            "      Epoch    GPU_mem   box_loss   cls_loss   dfl_loss  Instances       Size\n"
          ]
        },
        {
          "output_type": "stream",
          "name": "stderr",
          "text": [
            "      27/50      1.97G      0.714     0.6719      1.051         20        640: 100%|██████████| 43/43 [00:04<00:00,  9.83it/s]\n",
            "                 Class     Images  Instances      Box(P          R      mAP50  mAP50-95): 100%|██████████| 3/3 [00:00<00:00,  8.83it/s]"
          ]
        },
        {
          "output_type": "stream",
          "name": "stdout",
          "text": [
            "                   all         68         62      0.895      0.909      0.909      0.834\n"
          ]
        },
        {
          "output_type": "stream",
          "name": "stderr",
          "text": [
            "\n"
          ]
        },
        {
          "output_type": "stream",
          "name": "stdout",
          "text": [
            "\n",
            "      Epoch    GPU_mem   box_loss   cls_loss   dfl_loss  Instances       Size\n"
          ]
        },
        {
          "output_type": "stream",
          "name": "stderr",
          "text": [
            "      28/50      1.97G     0.6894     0.6548      1.045         20        640: 100%|██████████| 43/43 [00:04<00:00,  9.80it/s]\n",
            "                 Class     Images  Instances      Box(P          R      mAP50  mAP50-95): 100%|██████████| 3/3 [00:00<00:00,  9.52it/s]"
          ]
        },
        {
          "output_type": "stream",
          "name": "stdout",
          "text": [
            "                   all         68         62      0.954      0.895      0.921      0.839\n"
          ]
        },
        {
          "output_type": "stream",
          "name": "stderr",
          "text": [
            "\n"
          ]
        },
        {
          "output_type": "stream",
          "name": "stdout",
          "text": [
            "\n",
            "      Epoch    GPU_mem   box_loss   cls_loss   dfl_loss  Instances       Size\n"
          ]
        },
        {
          "output_type": "stream",
          "name": "stderr",
          "text": [
            "      29/50      1.97G     0.6669      0.612      1.025         17        640: 100%|██████████| 43/43 [00:04<00:00, 10.25it/s]\n",
            "                 Class     Images  Instances      Box(P          R      mAP50  mAP50-95): 100%|██████████| 3/3 [00:00<00:00,  9.43it/s]"
          ]
        },
        {
          "output_type": "stream",
          "name": "stdout",
          "text": [
            "                   all         68         62      0.964      0.902      0.918      0.844\n"
          ]
        },
        {
          "output_type": "stream",
          "name": "stderr",
          "text": [
            "\n"
          ]
        },
        {
          "output_type": "stream",
          "name": "stdout",
          "text": [
            "\n",
            "      Epoch    GPU_mem   box_loss   cls_loss   dfl_loss  Instances       Size\n"
          ]
        },
        {
          "output_type": "stream",
          "name": "stderr",
          "text": [
            "      30/50      1.98G       0.69     0.6209      1.059         12        640: 100%|██████████| 43/43 [00:04<00:00,  9.93it/s]\n",
            "                 Class     Images  Instances      Box(P          R      mAP50  mAP50-95): 100%|██████████| 3/3 [00:00<00:00,  9.74it/s]"
          ]
        },
        {
          "output_type": "stream",
          "name": "stdout",
          "text": [
            "                   all         68         62      0.911      0.891      0.903      0.813\n"
          ]
        },
        {
          "output_type": "stream",
          "name": "stderr",
          "text": [
            "\n"
          ]
        },
        {
          "output_type": "stream",
          "name": "stdout",
          "text": [
            "\n",
            "      Epoch    GPU_mem   box_loss   cls_loss   dfl_loss  Instances       Size\n"
          ]
        },
        {
          "output_type": "stream",
          "name": "stderr",
          "text": [
            "      31/50      1.97G     0.6645      0.616      1.034         25        640: 100%|██████████| 43/43 [00:04<00:00,  9.83it/s]\n",
            "                 Class     Images  Instances      Box(P          R      mAP50  mAP50-95): 100%|██████████| 3/3 [00:00<00:00,  9.97it/s]"
          ]
        },
        {
          "output_type": "stream",
          "name": "stdout",
          "text": [
            "                   all         68         62      0.958      0.897      0.911      0.833\n"
          ]
        },
        {
          "output_type": "stream",
          "name": "stderr",
          "text": [
            "\n"
          ]
        },
        {
          "output_type": "stream",
          "name": "stdout",
          "text": [
            "\n",
            "      Epoch    GPU_mem   box_loss   cls_loss   dfl_loss  Instances       Size\n"
          ]
        },
        {
          "output_type": "stream",
          "name": "stderr",
          "text": [
            "      32/50      1.97G     0.6808     0.6401       1.05         29        640: 100%|██████████| 43/43 [00:04<00:00, 10.51it/s]\n",
            "                 Class     Images  Instances      Box(P          R      mAP50  mAP50-95): 100%|██████████| 3/3 [00:00<00:00,  9.93it/s]"
          ]
        },
        {
          "output_type": "stream",
          "name": "stdout",
          "text": [
            "                   all         68         62      0.942      0.864      0.912      0.823\n"
          ]
        },
        {
          "output_type": "stream",
          "name": "stderr",
          "text": [
            "\n"
          ]
        },
        {
          "output_type": "stream",
          "name": "stdout",
          "text": [
            "\n",
            "      Epoch    GPU_mem   box_loss   cls_loss   dfl_loss  Instances       Size\n"
          ]
        },
        {
          "output_type": "stream",
          "name": "stderr",
          "text": [
            "      33/50      1.97G     0.6523     0.6168      1.031         18        640: 100%|██████████| 43/43 [00:04<00:00, 10.20it/s]\n",
            "                 Class     Images  Instances      Box(P          R      mAP50  mAP50-95): 100%|██████████| 3/3 [00:00<00:00,  8.89it/s]"
          ]
        },
        {
          "output_type": "stream",
          "name": "stdout",
          "text": [
            "                   all         68         62      0.953      0.907      0.916      0.848\n"
          ]
        },
        {
          "output_type": "stream",
          "name": "stderr",
          "text": [
            "\n"
          ]
        },
        {
          "output_type": "stream",
          "name": "stdout",
          "text": [
            "\n",
            "      Epoch    GPU_mem   box_loss   cls_loss   dfl_loss  Instances       Size\n"
          ]
        },
        {
          "output_type": "stream",
          "name": "stderr",
          "text": [
            "      34/50      1.98G     0.6434     0.5899      1.023         17        640: 100%|██████████| 43/43 [00:04<00:00,  9.76it/s]\n",
            "                 Class     Images  Instances      Box(P          R      mAP50  mAP50-95): 100%|██████████| 3/3 [00:00<00:00,  9.53it/s]"
          ]
        },
        {
          "output_type": "stream",
          "name": "stdout",
          "text": [
            "                   all         68         62      0.976      0.904       0.92      0.857\n"
          ]
        },
        {
          "output_type": "stream",
          "name": "stderr",
          "text": [
            "\n"
          ]
        },
        {
          "output_type": "stream",
          "name": "stdout",
          "text": [
            "\n",
            "      Epoch    GPU_mem   box_loss   cls_loss   dfl_loss  Instances       Size\n"
          ]
        },
        {
          "output_type": "stream",
          "name": "stderr",
          "text": [
            "      35/50      1.97G     0.6301     0.5689      1.021         19        640: 100%|██████████| 43/43 [00:04<00:00, 10.48it/s]\n",
            "                 Class     Images  Instances      Box(P          R      mAP50  mAP50-95): 100%|██████████| 3/3 [00:00<00:00,  9.50it/s]"
          ]
        },
        {
          "output_type": "stream",
          "name": "stdout",
          "text": [
            "                   all         68         62      0.955       0.87      0.912      0.837\n"
          ]
        },
        {
          "output_type": "stream",
          "name": "stderr",
          "text": [
            "\n"
          ]
        },
        {
          "output_type": "stream",
          "name": "stdout",
          "text": [
            "\n",
            "      Epoch    GPU_mem   box_loss   cls_loss   dfl_loss  Instances       Size\n"
          ]
        },
        {
          "output_type": "stream",
          "name": "stderr",
          "text": [
            "      36/50      1.97G     0.6308     0.5697      1.019         20        640: 100%|██████████| 43/43 [00:04<00:00, 10.40it/s]\n",
            "                 Class     Images  Instances      Box(P          R      mAP50  mAP50-95): 100%|██████████| 3/3 [00:00<00:00,  9.77it/s]"
          ]
        },
        {
          "output_type": "stream",
          "name": "stdout",
          "text": [
            "                   all         68         62      0.958      0.909      0.915       0.83\n"
          ]
        },
        {
          "output_type": "stream",
          "name": "stderr",
          "text": [
            "\n"
          ]
        },
        {
          "output_type": "stream",
          "name": "stdout",
          "text": [
            "\n",
            "      Epoch    GPU_mem   box_loss   cls_loss   dfl_loss  Instances       Size\n"
          ]
        },
        {
          "output_type": "stream",
          "name": "stderr",
          "text": [
            "      37/50      1.97G     0.6148     0.5423      1.022         17        640: 100%|██████████| 43/43 [00:04<00:00,  9.72it/s]\n",
            "                 Class     Images  Instances      Box(P          R      mAP50  mAP50-95): 100%|██████████| 3/3 [00:00<00:00,  9.13it/s]\n"
          ]
        },
        {
          "output_type": "stream",
          "name": "stdout",
          "text": [
            "                   all         68         62      0.945      0.896      0.915      0.837\n",
            "\n",
            "      Epoch    GPU_mem   box_loss   cls_loss   dfl_loss  Instances       Size\n"
          ]
        },
        {
          "output_type": "stream",
          "name": "stderr",
          "text": [
            "      38/50      1.98G     0.6131     0.5581      1.009         22        640: 100%|██████████| 43/43 [00:04<00:00, 10.24it/s]\n",
            "                 Class     Images  Instances      Box(P          R      mAP50  mAP50-95): 100%|██████████| 3/3 [00:00<00:00,  9.84it/s]"
          ]
        },
        {
          "output_type": "stream",
          "name": "stdout",
          "text": [
            "                   all         68         62      0.899      0.883      0.911      0.817\n"
          ]
        },
        {
          "output_type": "stream",
          "name": "stderr",
          "text": [
            "\n"
          ]
        },
        {
          "output_type": "stream",
          "name": "stdout",
          "text": [
            "\n",
            "      Epoch    GPU_mem   box_loss   cls_loss   dfl_loss  Instances       Size\n"
          ]
        },
        {
          "output_type": "stream",
          "name": "stderr",
          "text": [
            "      39/50      1.97G     0.6011     0.5586      1.009         29        640: 100%|██████████| 43/43 [00:04<00:00, 10.48it/s]\n",
            "                 Class     Images  Instances      Box(P          R      mAP50  mAP50-95): 100%|██████████| 3/3 [00:00<00:00,  9.65it/s]"
          ]
        },
        {
          "output_type": "stream",
          "name": "stdout",
          "text": [
            "                   all         68         62      0.988      0.897      0.922       0.85\n"
          ]
        },
        {
          "output_type": "stream",
          "name": "stderr",
          "text": [
            "\n"
          ]
        },
        {
          "output_type": "stream",
          "name": "stdout",
          "text": [
            "\n",
            "      Epoch    GPU_mem   box_loss   cls_loss   dfl_loss  Instances       Size\n"
          ]
        },
        {
          "output_type": "stream",
          "name": "stderr",
          "text": [
            "      40/50      1.97G     0.5981     0.5529      1.004         18        640: 100%|██████████| 43/43 [00:04<00:00,  9.20it/s]\n",
            "                 Class     Images  Instances      Box(P          R      mAP50  mAP50-95): 100%|██████████| 3/3 [00:00<00:00,  7.95it/s]\n"
          ]
        },
        {
          "output_type": "stream",
          "name": "stdout",
          "text": [
            "                   all         68         62      0.926      0.907      0.921      0.856\n",
            "Closing dataloader mosaic\n",
            "\u001b[34m\u001b[1malbumentations: \u001b[0mBlur(p=0.01, blur_limit=(3, 7)), MedianBlur(p=0.01, blur_limit=(3, 7)), ToGray(p=0.01), CLAHE(p=0.01, clip_limit=(1, 4.0), tile_grid_size=(8, 8))\n"
          ]
        },
        {
          "output_type": "stream",
          "name": "stderr",
          "text": [
            "os.fork() was called. os.fork() is incompatible with multithreaded code, and JAX is multithreaded, so this will likely lead to a deadlock.\n"
          ]
        },
        {
          "output_type": "stream",
          "name": "stdout",
          "text": [
            "\n",
            "      Epoch    GPU_mem   box_loss   cls_loss   dfl_loss  Instances       Size\n"
          ]
        },
        {
          "output_type": "stream",
          "name": "stderr",
          "text": [
            "      41/50      1.98G     0.6062     0.5119      1.046          9        640: 100%|██████████| 43/43 [00:05<00:00,  7.85it/s]\n",
            "                 Class     Images  Instances      Box(P          R      mAP50  mAP50-95): 100%|██████████| 3/3 [00:00<00:00,  9.39it/s]"
          ]
        },
        {
          "output_type": "stream",
          "name": "stdout",
          "text": [
            "                   all         68         62      0.955      0.909      0.916      0.858\n"
          ]
        },
        {
          "output_type": "stream",
          "name": "stderr",
          "text": [
            "\n"
          ]
        },
        {
          "output_type": "stream",
          "name": "stdout",
          "text": [
            "\n",
            "      Epoch    GPU_mem   box_loss   cls_loss   dfl_loss  Instances       Size\n"
          ]
        },
        {
          "output_type": "stream",
          "name": "stderr",
          "text": [
            "      42/50      1.98G     0.6051     0.4801      1.047         10        640: 100%|██████████| 43/43 [00:04<00:00, 10.42it/s]\n",
            "                 Class     Images  Instances      Box(P          R      mAP50  mAP50-95): 100%|██████████| 3/3 [00:00<00:00,  9.73it/s]"
          ]
        },
        {
          "output_type": "stream",
          "name": "stdout",
          "text": [
            "                   all         68         62      0.987      0.902      0.925      0.841\n"
          ]
        },
        {
          "output_type": "stream",
          "name": "stderr",
          "text": [
            "\n"
          ]
        },
        {
          "output_type": "stream",
          "name": "stdout",
          "text": [
            "\n",
            "      Epoch    GPU_mem   box_loss   cls_loss   dfl_loss  Instances       Size\n"
          ]
        },
        {
          "output_type": "stream",
          "name": "stderr",
          "text": [
            "      43/50      1.98G      0.577     0.4675      1.031         11        640: 100%|██████████| 43/43 [00:04<00:00,  9.88it/s]\n",
            "                 Class     Images  Instances      Box(P          R      mAP50  mAP50-95): 100%|██████████| 3/3 [00:00<00:00,  9.41it/s]"
          ]
        },
        {
          "output_type": "stream",
          "name": "stdout",
          "text": [
            "                   all         68         62      0.954      0.909       0.91      0.843\n"
          ]
        },
        {
          "output_type": "stream",
          "name": "stderr",
          "text": [
            "\n"
          ]
        },
        {
          "output_type": "stream",
          "name": "stdout",
          "text": [
            "\n",
            "      Epoch    GPU_mem   box_loss   cls_loss   dfl_loss  Instances       Size\n"
          ]
        },
        {
          "output_type": "stream",
          "name": "stderr",
          "text": [
            "      44/50      1.98G     0.5669     0.4462      1.019          9        640: 100%|██████████| 43/43 [00:04<00:00, 10.31it/s]\n",
            "                 Class     Images  Instances      Box(P          R      mAP50  mAP50-95): 100%|██████████| 3/3 [00:00<00:00,  9.85it/s]"
          ]
        },
        {
          "output_type": "stream",
          "name": "stdout",
          "text": [
            "                   all         68         62      0.965      0.902      0.918      0.843\n"
          ]
        },
        {
          "output_type": "stream",
          "name": "stderr",
          "text": [
            "\n"
          ]
        },
        {
          "output_type": "stream",
          "name": "stdout",
          "text": [
            "\n",
            "      Epoch    GPU_mem   box_loss   cls_loss   dfl_loss  Instances       Size\n"
          ]
        },
        {
          "output_type": "stream",
          "name": "stderr",
          "text": [
            "      45/50      1.98G     0.5633     0.4565      1.018         10        640: 100%|██████████| 43/43 [00:04<00:00, 10.50it/s]\n",
            "                 Class     Images  Instances      Box(P          R      mAP50  mAP50-95): 100%|██████████| 3/3 [00:00<00:00,  9.63it/s]"
          ]
        },
        {
          "output_type": "stream",
          "name": "stdout",
          "text": [
            "                   all         68         62       0.97      0.905       0.91       0.84\n"
          ]
        },
        {
          "output_type": "stream",
          "name": "stderr",
          "text": [
            "\n"
          ]
        },
        {
          "output_type": "stream",
          "name": "stdout",
          "text": [
            "\n",
            "      Epoch    GPU_mem   box_loss   cls_loss   dfl_loss  Instances       Size\n"
          ]
        },
        {
          "output_type": "stream",
          "name": "stderr",
          "text": [
            "      46/50      1.98G     0.5693     0.4573       1.02         12        640: 100%|██████████| 43/43 [00:04<00:00,  9.88it/s]\n",
            "                 Class     Images  Instances      Box(P          R      mAP50  mAP50-95): 100%|██████████| 3/3 [00:00<00:00,  9.40it/s]"
          ]
        },
        {
          "output_type": "stream",
          "name": "stdout",
          "text": [
            "                   all         68         62       0.97      0.906      0.932      0.842\n"
          ]
        },
        {
          "output_type": "stream",
          "name": "stderr",
          "text": [
            "\n"
          ]
        },
        {
          "output_type": "stream",
          "name": "stdout",
          "text": [
            "\n",
            "      Epoch    GPU_mem   box_loss   cls_loss   dfl_loss  Instances       Size\n"
          ]
        },
        {
          "output_type": "stream",
          "name": "stderr",
          "text": [
            "      47/50      1.98G     0.5483     0.4431      1.012         10        640: 100%|██████████| 43/43 [00:04<00:00, 10.08it/s]\n",
            "                 Class     Images  Instances      Box(P          R      mAP50  mAP50-95): 100%|██████████| 3/3 [00:00<00:00,  9.40it/s]"
          ]
        },
        {
          "output_type": "stream",
          "name": "stdout",
          "text": [
            "                   all         68         62      0.972      0.908      0.932      0.856\n"
          ]
        },
        {
          "output_type": "stream",
          "name": "stderr",
          "text": [
            "\n"
          ]
        },
        {
          "output_type": "stream",
          "name": "stdout",
          "text": [
            "\n",
            "      Epoch    GPU_mem   box_loss   cls_loss   dfl_loss  Instances       Size\n"
          ]
        },
        {
          "output_type": "stream",
          "name": "stderr",
          "text": [
            "      48/50      1.98G     0.5376     0.4232     0.9992          8        640: 100%|██████████| 43/43 [00:04<00:00, 10.44it/s]\n",
            "                 Class     Images  Instances      Box(P          R      mAP50  mAP50-95): 100%|██████████| 3/3 [00:00<00:00,  9.56it/s]"
          ]
        },
        {
          "output_type": "stream",
          "name": "stdout",
          "text": [
            "                   all         68         62      0.971       0.92      0.926      0.861\n"
          ]
        },
        {
          "output_type": "stream",
          "name": "stderr",
          "text": [
            "\n"
          ]
        },
        {
          "output_type": "stream",
          "name": "stdout",
          "text": [
            "\n",
            "      Epoch    GPU_mem   box_loss   cls_loss   dfl_loss  Instances       Size\n"
          ]
        },
        {
          "output_type": "stream",
          "name": "stderr",
          "text": [
            "      49/50      1.97G     0.5054     0.3842     0.9981         11        640: 100%|██████████| 43/43 [00:04<00:00, 10.07it/s]\n",
            "                 Class     Images  Instances      Box(P          R      mAP50  mAP50-95): 100%|██████████| 3/3 [00:00<00:00,  9.66it/s]"
          ]
        },
        {
          "output_type": "stream",
          "name": "stdout",
          "text": [
            "                   all         68         62      0.978      0.912      0.932      0.858\n"
          ]
        },
        {
          "output_type": "stream",
          "name": "stderr",
          "text": [
            "\n"
          ]
        },
        {
          "output_type": "stream",
          "name": "stdout",
          "text": [
            "\n",
            "      Epoch    GPU_mem   box_loss   cls_loss   dfl_loss  Instances       Size\n"
          ]
        },
        {
          "output_type": "stream",
          "name": "stderr",
          "text": [
            "      50/50      1.98G     0.4962      0.379     0.9729          8        640: 100%|██████████| 43/43 [00:04<00:00,  9.96it/s]\n",
            "                 Class     Images  Instances      Box(P          R      mAP50  mAP50-95): 100%|██████████| 3/3 [00:00<00:00,  9.52it/s]"
          ]
        },
        {
          "output_type": "stream",
          "name": "stdout",
          "text": [
            "                   all         68         62      0.978      0.914      0.935      0.861\n"
          ]
        },
        {
          "output_type": "stream",
          "name": "stderr",
          "text": [
            "\n"
          ]
        },
        {
          "output_type": "stream",
          "name": "stdout",
          "text": [
            "\n",
            "50 epochs completed in 0.075 hours.\n",
            "Optimizer stripped from runs/detect/exp-YOLOV5N/weights/last.pt, 5.3MB\n",
            "Optimizer stripped from runs/detect/exp-YOLOV5N/weights/best.pt, 5.3MB\n",
            "\n",
            "Validating runs/detect/exp-YOLOV5N/weights/best.pt...\n",
            "Ultralytics YOLOv8.2.69 🚀 Python-3.10.12 torch-2.3.1+cu121 CUDA:0 (NVIDIA L4, 22700MiB)\n",
            "YOLOv5n summary (fused): 193 layers, 2,503,724 parameters, 0 gradients, 7.1 GFLOPs\n"
          ]
        },
        {
          "output_type": "stream",
          "name": "stderr",
          "text": [
            "                 Class     Images  Instances      Box(P          R      mAP50  mAP50-95): 100%|██████████| 3/3 [00:00<00:00,  8.94it/s]\n"
          ]
        },
        {
          "output_type": "stream",
          "name": "stdout",
          "text": [
            "                   all         68         62      0.978      0.914      0.934      0.861\n",
            "                  Gala         14         14      0.995      0.857       0.91      0.793\n",
            "                Golden         14         14      0.989          1      0.995      0.955\n",
            "                Granny         16         16      0.994          1      0.995      0.977\n",
            "                   Red         18         18      0.935      0.798      0.837      0.721\n",
            "Speed: 0.2ms preprocess, 1.0ms inference, 0.0ms loss, 1.3ms postprocess per image\n",
            "Results saved to \u001b[1mruns/detect/exp-YOLOV5N\u001b[0m\n"
          ]
        },
        {
          "output_type": "execute_result",
          "data": {
            "text/plain": [
              "ultralytics.utils.metrics.DetMetrics object with attributes:\n",
              "\n",
              "ap_class_index: array([0, 1, 2, 3])\n",
              "box: ultralytics.utils.metrics.Metric object\n",
              "confusion_matrix: <ultralytics.utils.metrics.ConfusionMatrix object at 0x7aaadc0b28f0>\n",
              "curves: ['Precision-Recall(B)', 'F1-Confidence(B)', 'Precision-Confidence(B)', 'Recall-Confidence(B)']\n",
              "curves_results: [[array([          0,    0.001001,    0.002002,    0.003003,    0.004004,    0.005005,    0.006006,    0.007007,    0.008008,    0.009009,     0.01001,    0.011011,    0.012012,    0.013013,    0.014014,    0.015015,    0.016016,    0.017017,    0.018018,    0.019019,     0.02002,    0.021021,    0.022022,    0.023023,\n",
              "          0.024024,    0.025025,    0.026026,    0.027027,    0.028028,    0.029029,     0.03003,    0.031031,    0.032032,    0.033033,    0.034034,    0.035035,    0.036036,    0.037037,    0.038038,    0.039039,     0.04004,    0.041041,    0.042042,    0.043043,    0.044044,    0.045045,    0.046046,    0.047047,\n",
              "          0.048048,    0.049049,     0.05005,    0.051051,    0.052052,    0.053053,    0.054054,    0.055055,    0.056056,    0.057057,    0.058058,    0.059059,     0.06006,    0.061061,    0.062062,    0.063063,    0.064064,    0.065065,    0.066066,    0.067067,    0.068068,    0.069069,     0.07007,    0.071071,\n",
              "          0.072072,    0.073073,    0.074074,    0.075075,    0.076076,    0.077077,    0.078078,    0.079079,     0.08008,    0.081081,    0.082082,    0.083083,    0.084084,    0.085085,    0.086086,    0.087087,    0.088088,    0.089089,     0.09009,    0.091091,    0.092092,    0.093093,    0.094094,    0.095095,\n",
              "          0.096096,    0.097097,    0.098098,    0.099099,      0.1001,      0.1011,      0.1021,      0.1031,      0.1041,     0.10511,     0.10611,     0.10711,     0.10811,     0.10911,     0.11011,     0.11111,     0.11211,     0.11311,     0.11411,     0.11512,     0.11612,     0.11712,     0.11812,     0.11912,\n",
              "           0.12012,     0.12112,     0.12212,     0.12312,     0.12412,     0.12513,     0.12613,     0.12713,     0.12813,     0.12913,     0.13013,     0.13113,     0.13213,     0.13313,     0.13413,     0.13514,     0.13614,     0.13714,     0.13814,     0.13914,     0.14014,     0.14114,     0.14214,     0.14314,\n",
              "           0.14414,     0.14515,     0.14615,     0.14715,     0.14815,     0.14915,     0.15015,     0.15115,     0.15215,     0.15315,     0.15415,     0.15516,     0.15616,     0.15716,     0.15816,     0.15916,     0.16016,     0.16116,     0.16216,     0.16316,     0.16416,     0.16517,     0.16617,     0.16717,\n",
              "           0.16817,     0.16917,     0.17017,     0.17117,     0.17217,     0.17317,     0.17417,     0.17518,     0.17618,     0.17718,     0.17818,     0.17918,     0.18018,     0.18118,     0.18218,     0.18318,     0.18418,     0.18519,     0.18619,     0.18719,     0.18819,     0.18919,     0.19019,     0.19119,\n",
              "           0.19219,     0.19319,     0.19419,      0.1952,      0.1962,      0.1972,      0.1982,      0.1992,      0.2002,      0.2012,      0.2022,      0.2032,      0.2042,     0.20521,     0.20621,     0.20721,     0.20821,     0.20921,     0.21021,     0.21121,     0.21221,     0.21321,     0.21421,     0.21522,\n",
              "           0.21622,     0.21722,     0.21822,     0.21922,     0.22022,     0.22122,     0.22222,     0.22322,     0.22422,     0.22523,     0.22623,     0.22723,     0.22823,     0.22923,     0.23023,     0.23123,     0.23223,     0.23323,     0.23423,     0.23524,     0.23624,     0.23724,     0.23824,     0.23924,\n",
              "           0.24024,     0.24124,     0.24224,     0.24324,     0.24424,     0.24525,     0.24625,     0.24725,     0.24825,     0.24925,     0.25025,     0.25125,     0.25225,     0.25325,     0.25425,     0.25526,     0.25626,     0.25726,     0.25826,     0.25926,     0.26026,     0.26126,     0.26226,     0.26326,\n",
              "           0.26426,     0.26527,     0.26627,     0.26727,     0.26827,     0.26927,     0.27027,     0.27127,     0.27227,     0.27327,     0.27427,     0.27528,     0.27628,     0.27728,     0.27828,     0.27928,     0.28028,     0.28128,     0.28228,     0.28328,     0.28428,     0.28529,     0.28629,     0.28729,\n",
              "           0.28829,     0.28929,     0.29029,     0.29129,     0.29229,     0.29329,     0.29429,      0.2953,      0.2963,      0.2973,      0.2983,      0.2993,      0.3003,      0.3013,      0.3023,      0.3033,      0.3043,     0.30531,     0.30631,     0.30731,     0.30831,     0.30931,     0.31031,     0.31131,\n",
              "           0.31231,     0.31331,     0.31431,     0.31532,     0.31632,     0.31732,     0.31832,     0.31932,     0.32032,     0.32132,     0.32232,     0.32332,     0.32432,     0.32533,     0.32633,     0.32733,     0.32833,     0.32933,     0.33033,     0.33133,     0.33233,     0.33333,     0.33433,     0.33534,\n",
              "           0.33634,     0.33734,     0.33834,     0.33934,     0.34034,     0.34134,     0.34234,     0.34334,     0.34434,     0.34535,     0.34635,     0.34735,     0.34835,     0.34935,     0.35035,     0.35135,     0.35235,     0.35335,     0.35435,     0.35536,     0.35636,     0.35736,     0.35836,     0.35936,\n",
              "           0.36036,     0.36136,     0.36236,     0.36336,     0.36436,     0.36537,     0.36637,     0.36737,     0.36837,     0.36937,     0.37037,     0.37137,     0.37237,     0.37337,     0.37437,     0.37538,     0.37638,     0.37738,     0.37838,     0.37938,     0.38038,     0.38138,     0.38238,     0.38338,\n",
              "           0.38438,     0.38539,     0.38639,     0.38739,     0.38839,     0.38939,     0.39039,     0.39139,     0.39239,     0.39339,     0.39439,      0.3954,      0.3964,      0.3974,      0.3984,      0.3994,      0.4004,      0.4014,      0.4024,      0.4034,      0.4044,     0.40541,     0.40641,     0.40741,\n",
              "           0.40841,     0.40941,     0.41041,     0.41141,     0.41241,     0.41341,     0.41441,     0.41542,     0.41642,     0.41742,     0.41842,     0.41942,     0.42042,     0.42142,     0.42242,     0.42342,     0.42442,     0.42543,     0.42643,     0.42743,     0.42843,     0.42943,     0.43043,     0.43143,\n",
              "           0.43243,     0.43343,     0.43443,     0.43544,     0.43644,     0.43744,     0.43844,     0.43944,     0.44044,     0.44144,     0.44244,     0.44344,     0.44444,     0.44545,     0.44645,     0.44745,     0.44845,     0.44945,     0.45045,     0.45145,     0.45245,     0.45345,     0.45445,     0.45546,\n",
              "           0.45646,     0.45746,     0.45846,     0.45946,     0.46046,     0.46146,     0.46246,     0.46346,     0.46446,     0.46547,     0.46647,     0.46747,     0.46847,     0.46947,     0.47047,     0.47147,     0.47247,     0.47347,     0.47447,     0.47548,     0.47648,     0.47748,     0.47848,     0.47948,\n",
              "           0.48048,     0.48148,     0.48248,     0.48348,     0.48448,     0.48549,     0.48649,     0.48749,     0.48849,     0.48949,     0.49049,     0.49149,     0.49249,     0.49349,     0.49449,      0.4955,      0.4965,      0.4975,      0.4985,      0.4995,      0.5005,      0.5015,      0.5025,      0.5035,\n",
              "            0.5045,     0.50551,     0.50651,     0.50751,     0.50851,     0.50951,     0.51051,     0.51151,     0.51251,     0.51351,     0.51451,     0.51552,     0.51652,     0.51752,     0.51852,     0.51952,     0.52052,     0.52152,     0.52252,     0.52352,     0.52452,     0.52553,     0.52653,     0.52753,\n",
              "           0.52853,     0.52953,     0.53053,     0.53153,     0.53253,     0.53353,     0.53453,     0.53554,     0.53654,     0.53754,     0.53854,     0.53954,     0.54054,     0.54154,     0.54254,     0.54354,     0.54454,     0.54555,     0.54655,     0.54755,     0.54855,     0.54955,     0.55055,     0.55155,\n",
              "           0.55255,     0.55355,     0.55455,     0.55556,     0.55656,     0.55756,     0.55856,     0.55956,     0.56056,     0.56156,     0.56256,     0.56356,     0.56456,     0.56557,     0.56657,     0.56757,     0.56857,     0.56957,     0.57057,     0.57157,     0.57257,     0.57357,     0.57457,     0.57558,\n",
              "           0.57658,     0.57758,     0.57858,     0.57958,     0.58058,     0.58158,     0.58258,     0.58358,     0.58458,     0.58559,     0.58659,     0.58759,     0.58859,     0.58959,     0.59059,     0.59159,     0.59259,     0.59359,     0.59459,      0.5956,      0.5966,      0.5976,      0.5986,      0.5996,\n",
              "            0.6006,      0.6016,      0.6026,      0.6036,      0.6046,     0.60561,     0.60661,     0.60761,     0.60861,     0.60961,     0.61061,     0.61161,     0.61261,     0.61361,     0.61461,     0.61562,     0.61662,     0.61762,     0.61862,     0.61962,     0.62062,     0.62162,     0.62262,     0.62362,\n",
              "           0.62462,     0.62563,     0.62663,     0.62763,     0.62863,     0.62963,     0.63063,     0.63163,     0.63263,     0.63363,     0.63463,     0.63564,     0.63664,     0.63764,     0.63864,     0.63964,     0.64064,     0.64164,     0.64264,     0.64364,     0.64464,     0.64565,     0.64665,     0.64765,\n",
              "           0.64865,     0.64965,     0.65065,     0.65165,     0.65265,     0.65365,     0.65465,     0.65566,     0.65666,     0.65766,     0.65866,     0.65966,     0.66066,     0.66166,     0.66266,     0.66366,     0.66466,     0.66567,     0.66667,     0.66767,     0.66867,     0.66967,     0.67067,     0.67167,\n",
              "           0.67267,     0.67367,     0.67467,     0.67568,     0.67668,     0.67768,     0.67868,     0.67968,     0.68068,     0.68168,     0.68268,     0.68368,     0.68468,     0.68569,     0.68669,     0.68769,     0.68869,     0.68969,     0.69069,     0.69169,     0.69269,     0.69369,     0.69469,      0.6957,\n",
              "            0.6967,      0.6977,      0.6987,      0.6997,      0.7007,      0.7017,      0.7027,      0.7037,      0.7047,     0.70571,     0.70671,     0.70771,     0.70871,     0.70971,     0.71071,     0.71171,     0.71271,     0.71371,     0.71471,     0.71572,     0.71672,     0.71772,     0.71872,     0.71972,\n",
              "           0.72072,     0.72172,     0.72272,     0.72372,     0.72472,     0.72573,     0.72673,     0.72773,     0.72873,     0.72973,     0.73073,     0.73173,     0.73273,     0.73373,     0.73473,     0.73574,     0.73674,     0.73774,     0.73874,     0.73974,     0.74074,     0.74174,     0.74274,     0.74374,\n",
              "           0.74474,     0.74575,     0.74675,     0.74775,     0.74875,     0.74975,     0.75075,     0.75175,     0.75275,     0.75375,     0.75475,     0.75576,     0.75676,     0.75776,     0.75876,     0.75976,     0.76076,     0.76176,     0.76276,     0.76376,     0.76476,     0.76577,     0.76677,     0.76777,\n",
              "           0.76877,     0.76977,     0.77077,     0.77177,     0.77277,     0.77377,     0.77477,     0.77578,     0.77678,     0.77778,     0.77878,     0.77978,     0.78078,     0.78178,     0.78278,     0.78378,     0.78478,     0.78579,     0.78679,     0.78779,     0.78879,     0.78979,     0.79079,     0.79179,\n",
              "           0.79279,     0.79379,     0.79479,      0.7958,      0.7968,      0.7978,      0.7988,      0.7998,      0.8008,      0.8018,      0.8028,      0.8038,      0.8048,     0.80581,     0.80681,     0.80781,     0.80881,     0.80981,     0.81081,     0.81181,     0.81281,     0.81381,     0.81481,     0.81582,\n",
              "           0.81682,     0.81782,     0.81882,     0.81982,     0.82082,     0.82182,     0.82282,     0.82382,     0.82482,     0.82583,     0.82683,     0.82783,     0.82883,     0.82983,     0.83083,     0.83183,     0.83283,     0.83383,     0.83483,     0.83584,     0.83684,     0.83784,     0.83884,     0.83984,\n",
              "           0.84084,     0.84184,     0.84284,     0.84384,     0.84484,     0.84585,     0.84685,     0.84785,     0.84885,     0.84985,     0.85085,     0.85185,     0.85285,     0.85385,     0.85485,     0.85586,     0.85686,     0.85786,     0.85886,     0.85986,     0.86086,     0.86186,     0.86286,     0.86386,\n",
              "           0.86486,     0.86587,     0.86687,     0.86787,     0.86887,     0.86987,     0.87087,     0.87187,     0.87287,     0.87387,     0.87487,     0.87588,     0.87688,     0.87788,     0.87888,     0.87988,     0.88088,     0.88188,     0.88288,     0.88388,     0.88488,     0.88589,     0.88689,     0.88789,\n",
              "           0.88889,     0.88989,     0.89089,     0.89189,     0.89289,     0.89389,     0.89489,      0.8959,      0.8969,      0.8979,      0.8989,      0.8999,      0.9009,      0.9019,      0.9029,      0.9039,      0.9049,     0.90591,     0.90691,     0.90791,     0.90891,     0.90991,     0.91091,     0.91191,\n",
              "           0.91291,     0.91391,     0.91491,     0.91592,     0.91692,     0.91792,     0.91892,     0.91992,     0.92092,     0.92192,     0.92292,     0.92392,     0.92492,     0.92593,     0.92693,     0.92793,     0.92893,     0.92993,     0.93093,     0.93193,     0.93293,     0.93393,     0.93493,     0.93594,\n",
              "           0.93694,     0.93794,     0.93894,     0.93994,     0.94094,     0.94194,     0.94294,     0.94394,     0.94494,     0.94595,     0.94695,     0.94795,     0.94895,     0.94995,     0.95095,     0.95195,     0.95295,     0.95395,     0.95495,     0.95596,     0.95696,     0.95796,     0.95896,     0.95996,\n",
              "           0.96096,     0.96196,     0.96296,     0.96396,     0.96496,     0.96597,     0.96697,     0.96797,     0.96897,     0.96997,     0.97097,     0.97197,     0.97297,     0.97397,     0.97497,     0.97598,     0.97698,     0.97798,     0.97898,     0.97998,     0.98098,     0.98198,     0.98298,     0.98398,\n",
              "           0.98498,     0.98599,     0.98699,     0.98799,     0.98899,     0.98999,     0.99099,     0.99199,     0.99299,     0.99399,     0.99499,       0.996,       0.997,       0.998,       0.999,           1]), array([[          1,           1,           1, ...,   0.0071444,   0.0035722,           0],\n",
              "       [          1,           1,           1, ...,           1,           1,           0],\n",
              "       [          1,           1,           1, ...,           1,           1,           0],\n",
              "       [          1,           1,           1, ...,    0.001056,    0.000528,           0]]), 'Recall', 'Precision'], [array([          0,    0.001001,    0.002002,    0.003003,    0.004004,    0.005005,    0.006006,    0.007007,    0.008008,    0.009009,     0.01001,    0.011011,    0.012012,    0.013013,    0.014014,    0.015015,    0.016016,    0.017017,    0.018018,    0.019019,     0.02002,    0.021021,    0.022022,    0.023023,\n",
              "          0.024024,    0.025025,    0.026026,    0.027027,    0.028028,    0.029029,     0.03003,    0.031031,    0.032032,    0.033033,    0.034034,    0.035035,    0.036036,    0.037037,    0.038038,    0.039039,     0.04004,    0.041041,    0.042042,    0.043043,    0.044044,    0.045045,    0.046046,    0.047047,\n",
              "          0.048048,    0.049049,     0.05005,    0.051051,    0.052052,    0.053053,    0.054054,    0.055055,    0.056056,    0.057057,    0.058058,    0.059059,     0.06006,    0.061061,    0.062062,    0.063063,    0.064064,    0.065065,    0.066066,    0.067067,    0.068068,    0.069069,     0.07007,    0.071071,\n",
              "          0.072072,    0.073073,    0.074074,    0.075075,    0.076076,    0.077077,    0.078078,    0.079079,     0.08008,    0.081081,    0.082082,    0.083083,    0.084084,    0.085085,    0.086086,    0.087087,    0.088088,    0.089089,     0.09009,    0.091091,    0.092092,    0.093093,    0.094094,    0.095095,\n",
              "          0.096096,    0.097097,    0.098098,    0.099099,      0.1001,      0.1011,      0.1021,      0.1031,      0.1041,     0.10511,     0.10611,     0.10711,     0.10811,     0.10911,     0.11011,     0.11111,     0.11211,     0.11311,     0.11411,     0.11512,     0.11612,     0.11712,     0.11812,     0.11912,\n",
              "           0.12012,     0.12112,     0.12212,     0.12312,     0.12412,     0.12513,     0.12613,     0.12713,     0.12813,     0.12913,     0.13013,     0.13113,     0.13213,     0.13313,     0.13413,     0.13514,     0.13614,     0.13714,     0.13814,     0.13914,     0.14014,     0.14114,     0.14214,     0.14314,\n",
              "           0.14414,     0.14515,     0.14615,     0.14715,     0.14815,     0.14915,     0.15015,     0.15115,     0.15215,     0.15315,     0.15415,     0.15516,     0.15616,     0.15716,     0.15816,     0.15916,     0.16016,     0.16116,     0.16216,     0.16316,     0.16416,     0.16517,     0.16617,     0.16717,\n",
              "           0.16817,     0.16917,     0.17017,     0.17117,     0.17217,     0.17317,     0.17417,     0.17518,     0.17618,     0.17718,     0.17818,     0.17918,     0.18018,     0.18118,     0.18218,     0.18318,     0.18418,     0.18519,     0.18619,     0.18719,     0.18819,     0.18919,     0.19019,     0.19119,\n",
              "           0.19219,     0.19319,     0.19419,      0.1952,      0.1962,      0.1972,      0.1982,      0.1992,      0.2002,      0.2012,      0.2022,      0.2032,      0.2042,     0.20521,     0.20621,     0.20721,     0.20821,     0.20921,     0.21021,     0.21121,     0.21221,     0.21321,     0.21421,     0.21522,\n",
              "           0.21622,     0.21722,     0.21822,     0.21922,     0.22022,     0.22122,     0.22222,     0.22322,     0.22422,     0.22523,     0.22623,     0.22723,     0.22823,     0.22923,     0.23023,     0.23123,     0.23223,     0.23323,     0.23423,     0.23524,     0.23624,     0.23724,     0.23824,     0.23924,\n",
              "           0.24024,     0.24124,     0.24224,     0.24324,     0.24424,     0.24525,     0.24625,     0.24725,     0.24825,     0.24925,     0.25025,     0.25125,     0.25225,     0.25325,     0.25425,     0.25526,     0.25626,     0.25726,     0.25826,     0.25926,     0.26026,     0.26126,     0.26226,     0.26326,\n",
              "           0.26426,     0.26527,     0.26627,     0.26727,     0.26827,     0.26927,     0.27027,     0.27127,     0.27227,     0.27327,     0.27427,     0.27528,     0.27628,     0.27728,     0.27828,     0.27928,     0.28028,     0.28128,     0.28228,     0.28328,     0.28428,     0.28529,     0.28629,     0.28729,\n",
              "           0.28829,     0.28929,     0.29029,     0.29129,     0.29229,     0.29329,     0.29429,      0.2953,      0.2963,      0.2973,      0.2983,      0.2993,      0.3003,      0.3013,      0.3023,      0.3033,      0.3043,     0.30531,     0.30631,     0.30731,     0.30831,     0.30931,     0.31031,     0.31131,\n",
              "           0.31231,     0.31331,     0.31431,     0.31532,     0.31632,     0.31732,     0.31832,     0.31932,     0.32032,     0.32132,     0.32232,     0.32332,     0.32432,     0.32533,     0.32633,     0.32733,     0.32833,     0.32933,     0.33033,     0.33133,     0.33233,     0.33333,     0.33433,     0.33534,\n",
              "           0.33634,     0.33734,     0.33834,     0.33934,     0.34034,     0.34134,     0.34234,     0.34334,     0.34434,     0.34535,     0.34635,     0.34735,     0.34835,     0.34935,     0.35035,     0.35135,     0.35235,     0.35335,     0.35435,     0.35536,     0.35636,     0.35736,     0.35836,     0.35936,\n",
              "           0.36036,     0.36136,     0.36236,     0.36336,     0.36436,     0.36537,     0.36637,     0.36737,     0.36837,     0.36937,     0.37037,     0.37137,     0.37237,     0.37337,     0.37437,     0.37538,     0.37638,     0.37738,     0.37838,     0.37938,     0.38038,     0.38138,     0.38238,     0.38338,\n",
              "           0.38438,     0.38539,     0.38639,     0.38739,     0.38839,     0.38939,     0.39039,     0.39139,     0.39239,     0.39339,     0.39439,      0.3954,      0.3964,      0.3974,      0.3984,      0.3994,      0.4004,      0.4014,      0.4024,      0.4034,      0.4044,     0.40541,     0.40641,     0.40741,\n",
              "           0.40841,     0.40941,     0.41041,     0.41141,     0.41241,     0.41341,     0.41441,     0.41542,     0.41642,     0.41742,     0.41842,     0.41942,     0.42042,     0.42142,     0.42242,     0.42342,     0.42442,     0.42543,     0.42643,     0.42743,     0.42843,     0.42943,     0.43043,     0.43143,\n",
              "           0.43243,     0.43343,     0.43443,     0.43544,     0.43644,     0.43744,     0.43844,     0.43944,     0.44044,     0.44144,     0.44244,     0.44344,     0.44444,     0.44545,     0.44645,     0.44745,     0.44845,     0.44945,     0.45045,     0.45145,     0.45245,     0.45345,     0.45445,     0.45546,\n",
              "           0.45646,     0.45746,     0.45846,     0.45946,     0.46046,     0.46146,     0.46246,     0.46346,     0.46446,     0.46547,     0.46647,     0.46747,     0.46847,     0.46947,     0.47047,     0.47147,     0.47247,     0.47347,     0.47447,     0.47548,     0.47648,     0.47748,     0.47848,     0.47948,\n",
              "           0.48048,     0.48148,     0.48248,     0.48348,     0.48448,     0.48549,     0.48649,     0.48749,     0.48849,     0.48949,     0.49049,     0.49149,     0.49249,     0.49349,     0.49449,      0.4955,      0.4965,      0.4975,      0.4985,      0.4995,      0.5005,      0.5015,      0.5025,      0.5035,\n",
              "            0.5045,     0.50551,     0.50651,     0.50751,     0.50851,     0.50951,     0.51051,     0.51151,     0.51251,     0.51351,     0.51451,     0.51552,     0.51652,     0.51752,     0.51852,     0.51952,     0.52052,     0.52152,     0.52252,     0.52352,     0.52452,     0.52553,     0.52653,     0.52753,\n",
              "           0.52853,     0.52953,     0.53053,     0.53153,     0.53253,     0.53353,     0.53453,     0.53554,     0.53654,     0.53754,     0.53854,     0.53954,     0.54054,     0.54154,     0.54254,     0.54354,     0.54454,     0.54555,     0.54655,     0.54755,     0.54855,     0.54955,     0.55055,     0.55155,\n",
              "           0.55255,     0.55355,     0.55455,     0.55556,     0.55656,     0.55756,     0.55856,     0.55956,     0.56056,     0.56156,     0.56256,     0.56356,     0.56456,     0.56557,     0.56657,     0.56757,     0.56857,     0.56957,     0.57057,     0.57157,     0.57257,     0.57357,     0.57457,     0.57558,\n",
              "           0.57658,     0.57758,     0.57858,     0.57958,     0.58058,     0.58158,     0.58258,     0.58358,     0.58458,     0.58559,     0.58659,     0.58759,     0.58859,     0.58959,     0.59059,     0.59159,     0.59259,     0.59359,     0.59459,      0.5956,      0.5966,      0.5976,      0.5986,      0.5996,\n",
              "            0.6006,      0.6016,      0.6026,      0.6036,      0.6046,     0.60561,     0.60661,     0.60761,     0.60861,     0.60961,     0.61061,     0.61161,     0.61261,     0.61361,     0.61461,     0.61562,     0.61662,     0.61762,     0.61862,     0.61962,     0.62062,     0.62162,     0.62262,     0.62362,\n",
              "           0.62462,     0.62563,     0.62663,     0.62763,     0.62863,     0.62963,     0.63063,     0.63163,     0.63263,     0.63363,     0.63463,     0.63564,     0.63664,     0.63764,     0.63864,     0.63964,     0.64064,     0.64164,     0.64264,     0.64364,     0.64464,     0.64565,     0.64665,     0.64765,\n",
              "           0.64865,     0.64965,     0.65065,     0.65165,     0.65265,     0.65365,     0.65465,     0.65566,     0.65666,     0.65766,     0.65866,     0.65966,     0.66066,     0.66166,     0.66266,     0.66366,     0.66466,     0.66567,     0.66667,     0.66767,     0.66867,     0.66967,     0.67067,     0.67167,\n",
              "           0.67267,     0.67367,     0.67467,     0.67568,     0.67668,     0.67768,     0.67868,     0.67968,     0.68068,     0.68168,     0.68268,     0.68368,     0.68468,     0.68569,     0.68669,     0.68769,     0.68869,     0.68969,     0.69069,     0.69169,     0.69269,     0.69369,     0.69469,      0.6957,\n",
              "            0.6967,      0.6977,      0.6987,      0.6997,      0.7007,      0.7017,      0.7027,      0.7037,      0.7047,     0.70571,     0.70671,     0.70771,     0.70871,     0.70971,     0.71071,     0.71171,     0.71271,     0.71371,     0.71471,     0.71572,     0.71672,     0.71772,     0.71872,     0.71972,\n",
              "           0.72072,     0.72172,     0.72272,     0.72372,     0.72472,     0.72573,     0.72673,     0.72773,     0.72873,     0.72973,     0.73073,     0.73173,     0.73273,     0.73373,     0.73473,     0.73574,     0.73674,     0.73774,     0.73874,     0.73974,     0.74074,     0.74174,     0.74274,     0.74374,\n",
              "           0.74474,     0.74575,     0.74675,     0.74775,     0.74875,     0.74975,     0.75075,     0.75175,     0.75275,     0.75375,     0.75475,     0.75576,     0.75676,     0.75776,     0.75876,     0.75976,     0.76076,     0.76176,     0.76276,     0.76376,     0.76476,     0.76577,     0.76677,     0.76777,\n",
              "           0.76877,     0.76977,     0.77077,     0.77177,     0.77277,     0.77377,     0.77477,     0.77578,     0.77678,     0.77778,     0.77878,     0.77978,     0.78078,     0.78178,     0.78278,     0.78378,     0.78478,     0.78579,     0.78679,     0.78779,     0.78879,     0.78979,     0.79079,     0.79179,\n",
              "           0.79279,     0.79379,     0.79479,      0.7958,      0.7968,      0.7978,      0.7988,      0.7998,      0.8008,      0.8018,      0.8028,      0.8038,      0.8048,     0.80581,     0.80681,     0.80781,     0.80881,     0.80981,     0.81081,     0.81181,     0.81281,     0.81381,     0.81481,     0.81582,\n",
              "           0.81682,     0.81782,     0.81882,     0.81982,     0.82082,     0.82182,     0.82282,     0.82382,     0.82482,     0.82583,     0.82683,     0.82783,     0.82883,     0.82983,     0.83083,     0.83183,     0.83283,     0.83383,     0.83483,     0.83584,     0.83684,     0.83784,     0.83884,     0.83984,\n",
              "           0.84084,     0.84184,     0.84284,     0.84384,     0.84484,     0.84585,     0.84685,     0.84785,     0.84885,     0.84985,     0.85085,     0.85185,     0.85285,     0.85385,     0.85485,     0.85586,     0.85686,     0.85786,     0.85886,     0.85986,     0.86086,     0.86186,     0.86286,     0.86386,\n",
              "           0.86486,     0.86587,     0.86687,     0.86787,     0.86887,     0.86987,     0.87087,     0.87187,     0.87287,     0.87387,     0.87487,     0.87588,     0.87688,     0.87788,     0.87888,     0.87988,     0.88088,     0.88188,     0.88288,     0.88388,     0.88488,     0.88589,     0.88689,     0.88789,\n",
              "           0.88889,     0.88989,     0.89089,     0.89189,     0.89289,     0.89389,     0.89489,      0.8959,      0.8969,      0.8979,      0.8989,      0.8999,      0.9009,      0.9019,      0.9029,      0.9039,      0.9049,     0.90591,     0.90691,     0.90791,     0.90891,     0.90991,     0.91091,     0.91191,\n",
              "           0.91291,     0.91391,     0.91491,     0.91592,     0.91692,     0.91792,     0.91892,     0.91992,     0.92092,     0.92192,     0.92292,     0.92392,     0.92492,     0.92593,     0.92693,     0.92793,     0.92893,     0.92993,     0.93093,     0.93193,     0.93293,     0.93393,     0.93493,     0.93594,\n",
              "           0.93694,     0.93794,     0.93894,     0.93994,     0.94094,     0.94194,     0.94294,     0.94394,     0.94494,     0.94595,     0.94695,     0.94795,     0.94895,     0.94995,     0.95095,     0.95195,     0.95295,     0.95395,     0.95495,     0.95596,     0.95696,     0.95796,     0.95896,     0.95996,\n",
              "           0.96096,     0.96196,     0.96296,     0.96396,     0.96496,     0.96597,     0.96697,     0.96797,     0.96897,     0.96997,     0.97097,     0.97197,     0.97297,     0.97397,     0.97497,     0.97598,     0.97698,     0.97798,     0.97898,     0.97998,     0.98098,     0.98198,     0.98298,     0.98398,\n",
              "           0.98498,     0.98599,     0.98699,     0.98799,     0.98899,     0.98999,     0.99099,     0.99199,     0.99299,     0.99399,     0.99499,       0.996,       0.997,       0.998,       0.999,           1]), array([[        0.4,         0.4,      0.6571, ...,           0,           0,           0],\n",
              "       [    0.17949,     0.17949,      0.2718, ...,           0,           0,           0],\n",
              "       [    0.38095,     0.38095,     0.52355, ...,           0,           0,           0],\n",
              "       [    0.10997,     0.10997,     0.17541, ...,           0,           0,           0]]), 'Confidence', 'F1'], [array([          0,    0.001001,    0.002002,    0.003003,    0.004004,    0.005005,    0.006006,    0.007007,    0.008008,    0.009009,     0.01001,    0.011011,    0.012012,    0.013013,    0.014014,    0.015015,    0.016016,    0.017017,    0.018018,    0.019019,     0.02002,    0.021021,    0.022022,    0.023023,\n",
              "          0.024024,    0.025025,    0.026026,    0.027027,    0.028028,    0.029029,     0.03003,    0.031031,    0.032032,    0.033033,    0.034034,    0.035035,    0.036036,    0.037037,    0.038038,    0.039039,     0.04004,    0.041041,    0.042042,    0.043043,    0.044044,    0.045045,    0.046046,    0.047047,\n",
              "          0.048048,    0.049049,     0.05005,    0.051051,    0.052052,    0.053053,    0.054054,    0.055055,    0.056056,    0.057057,    0.058058,    0.059059,     0.06006,    0.061061,    0.062062,    0.063063,    0.064064,    0.065065,    0.066066,    0.067067,    0.068068,    0.069069,     0.07007,    0.071071,\n",
              "          0.072072,    0.073073,    0.074074,    0.075075,    0.076076,    0.077077,    0.078078,    0.079079,     0.08008,    0.081081,    0.082082,    0.083083,    0.084084,    0.085085,    0.086086,    0.087087,    0.088088,    0.089089,     0.09009,    0.091091,    0.092092,    0.093093,    0.094094,    0.095095,\n",
              "          0.096096,    0.097097,    0.098098,    0.099099,      0.1001,      0.1011,      0.1021,      0.1031,      0.1041,     0.10511,     0.10611,     0.10711,     0.10811,     0.10911,     0.11011,     0.11111,     0.11211,     0.11311,     0.11411,     0.11512,     0.11612,     0.11712,     0.11812,     0.11912,\n",
              "           0.12012,     0.12112,     0.12212,     0.12312,     0.12412,     0.12513,     0.12613,     0.12713,     0.12813,     0.12913,     0.13013,     0.13113,     0.13213,     0.13313,     0.13413,     0.13514,     0.13614,     0.13714,     0.13814,     0.13914,     0.14014,     0.14114,     0.14214,     0.14314,\n",
              "           0.14414,     0.14515,     0.14615,     0.14715,     0.14815,     0.14915,     0.15015,     0.15115,     0.15215,     0.15315,     0.15415,     0.15516,     0.15616,     0.15716,     0.15816,     0.15916,     0.16016,     0.16116,     0.16216,     0.16316,     0.16416,     0.16517,     0.16617,     0.16717,\n",
              "           0.16817,     0.16917,     0.17017,     0.17117,     0.17217,     0.17317,     0.17417,     0.17518,     0.17618,     0.17718,     0.17818,     0.17918,     0.18018,     0.18118,     0.18218,     0.18318,     0.18418,     0.18519,     0.18619,     0.18719,     0.18819,     0.18919,     0.19019,     0.19119,\n",
              "           0.19219,     0.19319,     0.19419,      0.1952,      0.1962,      0.1972,      0.1982,      0.1992,      0.2002,      0.2012,      0.2022,      0.2032,      0.2042,     0.20521,     0.20621,     0.20721,     0.20821,     0.20921,     0.21021,     0.21121,     0.21221,     0.21321,     0.21421,     0.21522,\n",
              "           0.21622,     0.21722,     0.21822,     0.21922,     0.22022,     0.22122,     0.22222,     0.22322,     0.22422,     0.22523,     0.22623,     0.22723,     0.22823,     0.22923,     0.23023,     0.23123,     0.23223,     0.23323,     0.23423,     0.23524,     0.23624,     0.23724,     0.23824,     0.23924,\n",
              "           0.24024,     0.24124,     0.24224,     0.24324,     0.24424,     0.24525,     0.24625,     0.24725,     0.24825,     0.24925,     0.25025,     0.25125,     0.25225,     0.25325,     0.25425,     0.25526,     0.25626,     0.25726,     0.25826,     0.25926,     0.26026,     0.26126,     0.26226,     0.26326,\n",
              "           0.26426,     0.26527,     0.26627,     0.26727,     0.26827,     0.26927,     0.27027,     0.27127,     0.27227,     0.27327,     0.27427,     0.27528,     0.27628,     0.27728,     0.27828,     0.27928,     0.28028,     0.28128,     0.28228,     0.28328,     0.28428,     0.28529,     0.28629,     0.28729,\n",
              "           0.28829,     0.28929,     0.29029,     0.29129,     0.29229,     0.29329,     0.29429,      0.2953,      0.2963,      0.2973,      0.2983,      0.2993,      0.3003,      0.3013,      0.3023,      0.3033,      0.3043,     0.30531,     0.30631,     0.30731,     0.30831,     0.30931,     0.31031,     0.31131,\n",
              "           0.31231,     0.31331,     0.31431,     0.31532,     0.31632,     0.31732,     0.31832,     0.31932,     0.32032,     0.32132,     0.32232,     0.32332,     0.32432,     0.32533,     0.32633,     0.32733,     0.32833,     0.32933,     0.33033,     0.33133,     0.33233,     0.33333,     0.33433,     0.33534,\n",
              "           0.33634,     0.33734,     0.33834,     0.33934,     0.34034,     0.34134,     0.34234,     0.34334,     0.34434,     0.34535,     0.34635,     0.34735,     0.34835,     0.34935,     0.35035,     0.35135,     0.35235,     0.35335,     0.35435,     0.35536,     0.35636,     0.35736,     0.35836,     0.35936,\n",
              "           0.36036,     0.36136,     0.36236,     0.36336,     0.36436,     0.36537,     0.36637,     0.36737,     0.36837,     0.36937,     0.37037,     0.37137,     0.37237,     0.37337,     0.37437,     0.37538,     0.37638,     0.37738,     0.37838,     0.37938,     0.38038,     0.38138,     0.38238,     0.38338,\n",
              "           0.38438,     0.38539,     0.38639,     0.38739,     0.38839,     0.38939,     0.39039,     0.39139,     0.39239,     0.39339,     0.39439,      0.3954,      0.3964,      0.3974,      0.3984,      0.3994,      0.4004,      0.4014,      0.4024,      0.4034,      0.4044,     0.40541,     0.40641,     0.40741,\n",
              "           0.40841,     0.40941,     0.41041,     0.41141,     0.41241,     0.41341,     0.41441,     0.41542,     0.41642,     0.41742,     0.41842,     0.41942,     0.42042,     0.42142,     0.42242,     0.42342,     0.42442,     0.42543,     0.42643,     0.42743,     0.42843,     0.42943,     0.43043,     0.43143,\n",
              "           0.43243,     0.43343,     0.43443,     0.43544,     0.43644,     0.43744,     0.43844,     0.43944,     0.44044,     0.44144,     0.44244,     0.44344,     0.44444,     0.44545,     0.44645,     0.44745,     0.44845,     0.44945,     0.45045,     0.45145,     0.45245,     0.45345,     0.45445,     0.45546,\n",
              "           0.45646,     0.45746,     0.45846,     0.45946,     0.46046,     0.46146,     0.46246,     0.46346,     0.46446,     0.46547,     0.46647,     0.46747,     0.46847,     0.46947,     0.47047,     0.47147,     0.47247,     0.47347,     0.47447,     0.47548,     0.47648,     0.47748,     0.47848,     0.47948,\n",
              "           0.48048,     0.48148,     0.48248,     0.48348,     0.48448,     0.48549,     0.48649,     0.48749,     0.48849,     0.48949,     0.49049,     0.49149,     0.49249,     0.49349,     0.49449,      0.4955,      0.4965,      0.4975,      0.4985,      0.4995,      0.5005,      0.5015,      0.5025,      0.5035,\n",
              "            0.5045,     0.50551,     0.50651,     0.50751,     0.50851,     0.50951,     0.51051,     0.51151,     0.51251,     0.51351,     0.51451,     0.51552,     0.51652,     0.51752,     0.51852,     0.51952,     0.52052,     0.52152,     0.52252,     0.52352,     0.52452,     0.52553,     0.52653,     0.52753,\n",
              "           0.52853,     0.52953,     0.53053,     0.53153,     0.53253,     0.53353,     0.53453,     0.53554,     0.53654,     0.53754,     0.53854,     0.53954,     0.54054,     0.54154,     0.54254,     0.54354,     0.54454,     0.54555,     0.54655,     0.54755,     0.54855,     0.54955,     0.55055,     0.55155,\n",
              "           0.55255,     0.55355,     0.55455,     0.55556,     0.55656,     0.55756,     0.55856,     0.55956,     0.56056,     0.56156,     0.56256,     0.56356,     0.56456,     0.56557,     0.56657,     0.56757,     0.56857,     0.56957,     0.57057,     0.57157,     0.57257,     0.57357,     0.57457,     0.57558,\n",
              "           0.57658,     0.57758,     0.57858,     0.57958,     0.58058,     0.58158,     0.58258,     0.58358,     0.58458,     0.58559,     0.58659,     0.58759,     0.58859,     0.58959,     0.59059,     0.59159,     0.59259,     0.59359,     0.59459,      0.5956,      0.5966,      0.5976,      0.5986,      0.5996,\n",
              "            0.6006,      0.6016,      0.6026,      0.6036,      0.6046,     0.60561,     0.60661,     0.60761,     0.60861,     0.60961,     0.61061,     0.61161,     0.61261,     0.61361,     0.61461,     0.61562,     0.61662,     0.61762,     0.61862,     0.61962,     0.62062,     0.62162,     0.62262,     0.62362,\n",
              "           0.62462,     0.62563,     0.62663,     0.62763,     0.62863,     0.62963,     0.63063,     0.63163,     0.63263,     0.63363,     0.63463,     0.63564,     0.63664,     0.63764,     0.63864,     0.63964,     0.64064,     0.64164,     0.64264,     0.64364,     0.64464,     0.64565,     0.64665,     0.64765,\n",
              "           0.64865,     0.64965,     0.65065,     0.65165,     0.65265,     0.65365,     0.65465,     0.65566,     0.65666,     0.65766,     0.65866,     0.65966,     0.66066,     0.66166,     0.66266,     0.66366,     0.66466,     0.66567,     0.66667,     0.66767,     0.66867,     0.66967,     0.67067,     0.67167,\n",
              "           0.67267,     0.67367,     0.67467,     0.67568,     0.67668,     0.67768,     0.67868,     0.67968,     0.68068,     0.68168,     0.68268,     0.68368,     0.68468,     0.68569,     0.68669,     0.68769,     0.68869,     0.68969,     0.69069,     0.69169,     0.69269,     0.69369,     0.69469,      0.6957,\n",
              "            0.6967,      0.6977,      0.6987,      0.6997,      0.7007,      0.7017,      0.7027,      0.7037,      0.7047,     0.70571,     0.70671,     0.70771,     0.70871,     0.70971,     0.71071,     0.71171,     0.71271,     0.71371,     0.71471,     0.71572,     0.71672,     0.71772,     0.71872,     0.71972,\n",
              "           0.72072,     0.72172,     0.72272,     0.72372,     0.72472,     0.72573,     0.72673,     0.72773,     0.72873,     0.72973,     0.73073,     0.73173,     0.73273,     0.73373,     0.73473,     0.73574,     0.73674,     0.73774,     0.73874,     0.73974,     0.74074,     0.74174,     0.74274,     0.74374,\n",
              "           0.74474,     0.74575,     0.74675,     0.74775,     0.74875,     0.74975,     0.75075,     0.75175,     0.75275,     0.75375,     0.75475,     0.75576,     0.75676,     0.75776,     0.75876,     0.75976,     0.76076,     0.76176,     0.76276,     0.76376,     0.76476,     0.76577,     0.76677,     0.76777,\n",
              "           0.76877,     0.76977,     0.77077,     0.77177,     0.77277,     0.77377,     0.77477,     0.77578,     0.77678,     0.77778,     0.77878,     0.77978,     0.78078,     0.78178,     0.78278,     0.78378,     0.78478,     0.78579,     0.78679,     0.78779,     0.78879,     0.78979,     0.79079,     0.79179,\n",
              "           0.79279,     0.79379,     0.79479,      0.7958,      0.7968,      0.7978,      0.7988,      0.7998,      0.8008,      0.8018,      0.8028,      0.8038,      0.8048,     0.80581,     0.80681,     0.80781,     0.80881,     0.80981,     0.81081,     0.81181,     0.81281,     0.81381,     0.81481,     0.81582,\n",
              "           0.81682,     0.81782,     0.81882,     0.81982,     0.82082,     0.82182,     0.82282,     0.82382,     0.82482,     0.82583,     0.82683,     0.82783,     0.82883,     0.82983,     0.83083,     0.83183,     0.83283,     0.83383,     0.83483,     0.83584,     0.83684,     0.83784,     0.83884,     0.83984,\n",
              "           0.84084,     0.84184,     0.84284,     0.84384,     0.84484,     0.84585,     0.84685,     0.84785,     0.84885,     0.84985,     0.85085,     0.85185,     0.85285,     0.85385,     0.85485,     0.85586,     0.85686,     0.85786,     0.85886,     0.85986,     0.86086,     0.86186,     0.86286,     0.86386,\n",
              "           0.86486,     0.86587,     0.86687,     0.86787,     0.86887,     0.86987,     0.87087,     0.87187,     0.87287,     0.87387,     0.87487,     0.87588,     0.87688,     0.87788,     0.87888,     0.87988,     0.88088,     0.88188,     0.88288,     0.88388,     0.88488,     0.88589,     0.88689,     0.88789,\n",
              "           0.88889,     0.88989,     0.89089,     0.89189,     0.89289,     0.89389,     0.89489,      0.8959,      0.8969,      0.8979,      0.8989,      0.8999,      0.9009,      0.9019,      0.9029,      0.9039,      0.9049,     0.90591,     0.90691,     0.90791,     0.90891,     0.90991,     0.91091,     0.91191,\n",
              "           0.91291,     0.91391,     0.91491,     0.91592,     0.91692,     0.91792,     0.91892,     0.91992,     0.92092,     0.92192,     0.92292,     0.92392,     0.92492,     0.92593,     0.92693,     0.92793,     0.92893,     0.92993,     0.93093,     0.93193,     0.93293,     0.93393,     0.93493,     0.93594,\n",
              "           0.93694,     0.93794,     0.93894,     0.93994,     0.94094,     0.94194,     0.94294,     0.94394,     0.94494,     0.94595,     0.94695,     0.94795,     0.94895,     0.94995,     0.95095,     0.95195,     0.95295,     0.95395,     0.95495,     0.95596,     0.95696,     0.95796,     0.95896,     0.95996,\n",
              "           0.96096,     0.96196,     0.96296,     0.96396,     0.96496,     0.96597,     0.96697,     0.96797,     0.96897,     0.96997,     0.97097,     0.97197,     0.97297,     0.97397,     0.97497,     0.97598,     0.97698,     0.97798,     0.97898,     0.97998,     0.98098,     0.98198,     0.98298,     0.98398,\n",
              "           0.98498,     0.98599,     0.98699,     0.98799,     0.98899,     0.98999,     0.99099,     0.99199,     0.99299,     0.99399,     0.99499,       0.996,       0.997,       0.998,       0.999,           1]), array([[     0.2549,      0.2549,     0.50845, ...,           1,           1,           1],\n",
              "       [   0.098592,    0.098592,     0.15727, ...,           1,           1,           1],\n",
              "       [    0.23529,     0.23529,      0.3546, ...,           1,           1,           1],\n",
              "       [   0.058608,    0.058608,    0.098024, ...,           1,           1,           1]]), 'Confidence', 'Precision'], [array([          0,    0.001001,    0.002002,    0.003003,    0.004004,    0.005005,    0.006006,    0.007007,    0.008008,    0.009009,     0.01001,    0.011011,    0.012012,    0.013013,    0.014014,    0.015015,    0.016016,    0.017017,    0.018018,    0.019019,     0.02002,    0.021021,    0.022022,    0.023023,\n",
              "          0.024024,    0.025025,    0.026026,    0.027027,    0.028028,    0.029029,     0.03003,    0.031031,    0.032032,    0.033033,    0.034034,    0.035035,    0.036036,    0.037037,    0.038038,    0.039039,     0.04004,    0.041041,    0.042042,    0.043043,    0.044044,    0.045045,    0.046046,    0.047047,\n",
              "          0.048048,    0.049049,     0.05005,    0.051051,    0.052052,    0.053053,    0.054054,    0.055055,    0.056056,    0.057057,    0.058058,    0.059059,     0.06006,    0.061061,    0.062062,    0.063063,    0.064064,    0.065065,    0.066066,    0.067067,    0.068068,    0.069069,     0.07007,    0.071071,\n",
              "          0.072072,    0.073073,    0.074074,    0.075075,    0.076076,    0.077077,    0.078078,    0.079079,     0.08008,    0.081081,    0.082082,    0.083083,    0.084084,    0.085085,    0.086086,    0.087087,    0.088088,    0.089089,     0.09009,    0.091091,    0.092092,    0.093093,    0.094094,    0.095095,\n",
              "          0.096096,    0.097097,    0.098098,    0.099099,      0.1001,      0.1011,      0.1021,      0.1031,      0.1041,     0.10511,     0.10611,     0.10711,     0.10811,     0.10911,     0.11011,     0.11111,     0.11211,     0.11311,     0.11411,     0.11512,     0.11612,     0.11712,     0.11812,     0.11912,\n",
              "           0.12012,     0.12112,     0.12212,     0.12312,     0.12412,     0.12513,     0.12613,     0.12713,     0.12813,     0.12913,     0.13013,     0.13113,     0.13213,     0.13313,     0.13413,     0.13514,     0.13614,     0.13714,     0.13814,     0.13914,     0.14014,     0.14114,     0.14214,     0.14314,\n",
              "           0.14414,     0.14515,     0.14615,     0.14715,     0.14815,     0.14915,     0.15015,     0.15115,     0.15215,     0.15315,     0.15415,     0.15516,     0.15616,     0.15716,     0.15816,     0.15916,     0.16016,     0.16116,     0.16216,     0.16316,     0.16416,     0.16517,     0.16617,     0.16717,\n",
              "           0.16817,     0.16917,     0.17017,     0.17117,     0.17217,     0.17317,     0.17417,     0.17518,     0.17618,     0.17718,     0.17818,     0.17918,     0.18018,     0.18118,     0.18218,     0.18318,     0.18418,     0.18519,     0.18619,     0.18719,     0.18819,     0.18919,     0.19019,     0.19119,\n",
              "           0.19219,     0.19319,     0.19419,      0.1952,      0.1962,      0.1972,      0.1982,      0.1992,      0.2002,      0.2012,      0.2022,      0.2032,      0.2042,     0.20521,     0.20621,     0.20721,     0.20821,     0.20921,     0.21021,     0.21121,     0.21221,     0.21321,     0.21421,     0.21522,\n",
              "           0.21622,     0.21722,     0.21822,     0.21922,     0.22022,     0.22122,     0.22222,     0.22322,     0.22422,     0.22523,     0.22623,     0.22723,     0.22823,     0.22923,     0.23023,     0.23123,     0.23223,     0.23323,     0.23423,     0.23524,     0.23624,     0.23724,     0.23824,     0.23924,\n",
              "           0.24024,     0.24124,     0.24224,     0.24324,     0.24424,     0.24525,     0.24625,     0.24725,     0.24825,     0.24925,     0.25025,     0.25125,     0.25225,     0.25325,     0.25425,     0.25526,     0.25626,     0.25726,     0.25826,     0.25926,     0.26026,     0.26126,     0.26226,     0.26326,\n",
              "           0.26426,     0.26527,     0.26627,     0.26727,     0.26827,     0.26927,     0.27027,     0.27127,     0.27227,     0.27327,     0.27427,     0.27528,     0.27628,     0.27728,     0.27828,     0.27928,     0.28028,     0.28128,     0.28228,     0.28328,     0.28428,     0.28529,     0.28629,     0.28729,\n",
              "           0.28829,     0.28929,     0.29029,     0.29129,     0.29229,     0.29329,     0.29429,      0.2953,      0.2963,      0.2973,      0.2983,      0.2993,      0.3003,      0.3013,      0.3023,      0.3033,      0.3043,     0.30531,     0.30631,     0.30731,     0.30831,     0.30931,     0.31031,     0.31131,\n",
              "           0.31231,     0.31331,     0.31431,     0.31532,     0.31632,     0.31732,     0.31832,     0.31932,     0.32032,     0.32132,     0.32232,     0.32332,     0.32432,     0.32533,     0.32633,     0.32733,     0.32833,     0.32933,     0.33033,     0.33133,     0.33233,     0.33333,     0.33433,     0.33534,\n",
              "           0.33634,     0.33734,     0.33834,     0.33934,     0.34034,     0.34134,     0.34234,     0.34334,     0.34434,     0.34535,     0.34635,     0.34735,     0.34835,     0.34935,     0.35035,     0.35135,     0.35235,     0.35335,     0.35435,     0.35536,     0.35636,     0.35736,     0.35836,     0.35936,\n",
              "           0.36036,     0.36136,     0.36236,     0.36336,     0.36436,     0.36537,     0.36637,     0.36737,     0.36837,     0.36937,     0.37037,     0.37137,     0.37237,     0.37337,     0.37437,     0.37538,     0.37638,     0.37738,     0.37838,     0.37938,     0.38038,     0.38138,     0.38238,     0.38338,\n",
              "           0.38438,     0.38539,     0.38639,     0.38739,     0.38839,     0.38939,     0.39039,     0.39139,     0.39239,     0.39339,     0.39439,      0.3954,      0.3964,      0.3974,      0.3984,      0.3994,      0.4004,      0.4014,      0.4024,      0.4034,      0.4044,     0.40541,     0.40641,     0.40741,\n",
              "           0.40841,     0.40941,     0.41041,     0.41141,     0.41241,     0.41341,     0.41441,     0.41542,     0.41642,     0.41742,     0.41842,     0.41942,     0.42042,     0.42142,     0.42242,     0.42342,     0.42442,     0.42543,     0.42643,     0.42743,     0.42843,     0.42943,     0.43043,     0.43143,\n",
              "           0.43243,     0.43343,     0.43443,     0.43544,     0.43644,     0.43744,     0.43844,     0.43944,     0.44044,     0.44144,     0.44244,     0.44344,     0.44444,     0.44545,     0.44645,     0.44745,     0.44845,     0.44945,     0.45045,     0.45145,     0.45245,     0.45345,     0.45445,     0.45546,\n",
              "           0.45646,     0.45746,     0.45846,     0.45946,     0.46046,     0.46146,     0.46246,     0.46346,     0.46446,     0.46547,     0.46647,     0.46747,     0.46847,     0.46947,     0.47047,     0.47147,     0.47247,     0.47347,     0.47447,     0.47548,     0.47648,     0.47748,     0.47848,     0.47948,\n",
              "           0.48048,     0.48148,     0.48248,     0.48348,     0.48448,     0.48549,     0.48649,     0.48749,     0.48849,     0.48949,     0.49049,     0.49149,     0.49249,     0.49349,     0.49449,      0.4955,      0.4965,      0.4975,      0.4985,      0.4995,      0.5005,      0.5015,      0.5025,      0.5035,\n",
              "            0.5045,     0.50551,     0.50651,     0.50751,     0.50851,     0.50951,     0.51051,     0.51151,     0.51251,     0.51351,     0.51451,     0.51552,     0.51652,     0.51752,     0.51852,     0.51952,     0.52052,     0.52152,     0.52252,     0.52352,     0.52452,     0.52553,     0.52653,     0.52753,\n",
              "           0.52853,     0.52953,     0.53053,     0.53153,     0.53253,     0.53353,     0.53453,     0.53554,     0.53654,     0.53754,     0.53854,     0.53954,     0.54054,     0.54154,     0.54254,     0.54354,     0.54454,     0.54555,     0.54655,     0.54755,     0.54855,     0.54955,     0.55055,     0.55155,\n",
              "           0.55255,     0.55355,     0.55455,     0.55556,     0.55656,     0.55756,     0.55856,     0.55956,     0.56056,     0.56156,     0.56256,     0.56356,     0.56456,     0.56557,     0.56657,     0.56757,     0.56857,     0.56957,     0.57057,     0.57157,     0.57257,     0.57357,     0.57457,     0.57558,\n",
              "           0.57658,     0.57758,     0.57858,     0.57958,     0.58058,     0.58158,     0.58258,     0.58358,     0.58458,     0.58559,     0.58659,     0.58759,     0.58859,     0.58959,     0.59059,     0.59159,     0.59259,     0.59359,     0.59459,      0.5956,      0.5966,      0.5976,      0.5986,      0.5996,\n",
              "            0.6006,      0.6016,      0.6026,      0.6036,      0.6046,     0.60561,     0.60661,     0.60761,     0.60861,     0.60961,     0.61061,     0.61161,     0.61261,     0.61361,     0.61461,     0.61562,     0.61662,     0.61762,     0.61862,     0.61962,     0.62062,     0.62162,     0.62262,     0.62362,\n",
              "           0.62462,     0.62563,     0.62663,     0.62763,     0.62863,     0.62963,     0.63063,     0.63163,     0.63263,     0.63363,     0.63463,     0.63564,     0.63664,     0.63764,     0.63864,     0.63964,     0.64064,     0.64164,     0.64264,     0.64364,     0.64464,     0.64565,     0.64665,     0.64765,\n",
              "           0.64865,     0.64965,     0.65065,     0.65165,     0.65265,     0.65365,     0.65465,     0.65566,     0.65666,     0.65766,     0.65866,     0.65966,     0.66066,     0.66166,     0.66266,     0.66366,     0.66466,     0.66567,     0.66667,     0.66767,     0.66867,     0.66967,     0.67067,     0.67167,\n",
              "           0.67267,     0.67367,     0.67467,     0.67568,     0.67668,     0.67768,     0.67868,     0.67968,     0.68068,     0.68168,     0.68268,     0.68368,     0.68468,     0.68569,     0.68669,     0.68769,     0.68869,     0.68969,     0.69069,     0.69169,     0.69269,     0.69369,     0.69469,      0.6957,\n",
              "            0.6967,      0.6977,      0.6987,      0.6997,      0.7007,      0.7017,      0.7027,      0.7037,      0.7047,     0.70571,     0.70671,     0.70771,     0.70871,     0.70971,     0.71071,     0.71171,     0.71271,     0.71371,     0.71471,     0.71572,     0.71672,     0.71772,     0.71872,     0.71972,\n",
              "           0.72072,     0.72172,     0.72272,     0.72372,     0.72472,     0.72573,     0.72673,     0.72773,     0.72873,     0.72973,     0.73073,     0.73173,     0.73273,     0.73373,     0.73473,     0.73574,     0.73674,     0.73774,     0.73874,     0.73974,     0.74074,     0.74174,     0.74274,     0.74374,\n",
              "           0.74474,     0.74575,     0.74675,     0.74775,     0.74875,     0.74975,     0.75075,     0.75175,     0.75275,     0.75375,     0.75475,     0.75576,     0.75676,     0.75776,     0.75876,     0.75976,     0.76076,     0.76176,     0.76276,     0.76376,     0.76476,     0.76577,     0.76677,     0.76777,\n",
              "           0.76877,     0.76977,     0.77077,     0.77177,     0.77277,     0.77377,     0.77477,     0.77578,     0.77678,     0.77778,     0.77878,     0.77978,     0.78078,     0.78178,     0.78278,     0.78378,     0.78478,     0.78579,     0.78679,     0.78779,     0.78879,     0.78979,     0.79079,     0.79179,\n",
              "           0.79279,     0.79379,     0.79479,      0.7958,      0.7968,      0.7978,      0.7988,      0.7998,      0.8008,      0.8018,      0.8028,      0.8038,      0.8048,     0.80581,     0.80681,     0.80781,     0.80881,     0.80981,     0.81081,     0.81181,     0.81281,     0.81381,     0.81481,     0.81582,\n",
              "           0.81682,     0.81782,     0.81882,     0.81982,     0.82082,     0.82182,     0.82282,     0.82382,     0.82482,     0.82583,     0.82683,     0.82783,     0.82883,     0.82983,     0.83083,     0.83183,     0.83283,     0.83383,     0.83483,     0.83584,     0.83684,     0.83784,     0.83884,     0.83984,\n",
              "           0.84084,     0.84184,     0.84284,     0.84384,     0.84484,     0.84585,     0.84685,     0.84785,     0.84885,     0.84985,     0.85085,     0.85185,     0.85285,     0.85385,     0.85485,     0.85586,     0.85686,     0.85786,     0.85886,     0.85986,     0.86086,     0.86186,     0.86286,     0.86386,\n",
              "           0.86486,     0.86587,     0.86687,     0.86787,     0.86887,     0.86987,     0.87087,     0.87187,     0.87287,     0.87387,     0.87487,     0.87588,     0.87688,     0.87788,     0.87888,     0.87988,     0.88088,     0.88188,     0.88288,     0.88388,     0.88488,     0.88589,     0.88689,     0.88789,\n",
              "           0.88889,     0.88989,     0.89089,     0.89189,     0.89289,     0.89389,     0.89489,      0.8959,      0.8969,      0.8979,      0.8989,      0.8999,      0.9009,      0.9019,      0.9029,      0.9039,      0.9049,     0.90591,     0.90691,     0.90791,     0.90891,     0.90991,     0.91091,     0.91191,\n",
              "           0.91291,     0.91391,     0.91491,     0.91592,     0.91692,     0.91792,     0.91892,     0.91992,     0.92092,     0.92192,     0.92292,     0.92392,     0.92492,     0.92593,     0.92693,     0.92793,     0.92893,     0.92993,     0.93093,     0.93193,     0.93293,     0.93393,     0.93493,     0.93594,\n",
              "           0.93694,     0.93794,     0.93894,     0.93994,     0.94094,     0.94194,     0.94294,     0.94394,     0.94494,     0.94595,     0.94695,     0.94795,     0.94895,     0.94995,     0.95095,     0.95195,     0.95295,     0.95395,     0.95495,     0.95596,     0.95696,     0.95796,     0.95896,     0.95996,\n",
              "           0.96096,     0.96196,     0.96296,     0.96396,     0.96496,     0.96597,     0.96697,     0.96797,     0.96897,     0.96997,     0.97097,     0.97197,     0.97297,     0.97397,     0.97497,     0.97598,     0.97698,     0.97798,     0.97898,     0.97998,     0.98098,     0.98198,     0.98298,     0.98398,\n",
              "           0.98498,     0.98599,     0.98699,     0.98799,     0.98899,     0.98999,     0.99099,     0.99199,     0.99299,     0.99399,     0.99499,       0.996,       0.997,       0.998,       0.999,           1]), array([[    0.92857,     0.92857,     0.92857, ...,           0,           0,           0],\n",
              "       [          1,           1,           1, ...,           0,           0,           0],\n",
              "       [          1,           1,           1, ...,           0,           0,           0],\n",
              "       [    0.88889,     0.88889,     0.83333, ...,           0,           0,           0]]), 'Confidence', 'Recall']]\n",
              "fitness: 0.8687171747209079\n",
              "keys: ['metrics/precision(B)', 'metrics/recall(B)', 'metrics/mAP50(B)', 'metrics/mAP50-95(B)']\n",
              "maps: array([    0.79251,     0.95485,     0.97728,     0.72109])\n",
              "names: {0: 'Gala', 1: 'Golden', 2: 'Granny', 3: 'Red'}\n",
              "plot: True\n",
              "results_dict: {'metrics/precision(B)': 0.9779975807667063, 'metrics/recall(B)': 0.9138366234465091, 'metrics/mAP50(B)': 0.9342668549108607, 'metrics/mAP50-95(B)': 0.8614338769220243, 'fitness': 0.8687171747209079}\n",
              "save_dir: PosixPath('runs/detect/exp-YOLOV5N')\n",
              "speed: {'preprocess': 0.17251337275785558, 'inference': 1.0290040689356188, 'loss': 0.0005399479585535386, 'postprocess': 1.2552597943474264}\n",
              "task: 'detect'"
            ]
          },
          "metadata": {},
          "execution_count": 7
        }
      ],
      "source": [
        "from ultralytics import YOLO\n",
        "\n",
        "model = YOLO(\"yolov5nu.pt\")  # Entrenamiento con pesos pre-entrenados\n",
        "\n",
        "#model = YOLO(\"yolov5s.yaml\") # Entrenamiento desde cero, revisar los modelos en https://docs.ultralytics.com/models/yolov5/#supported-tasks-and-modes\n",
        "# NOTA: Yolov5su  has moved towards an anchor-free, objectness-free approach. Sin embargo los detalles arquitectonicos son no cambian, solo el cabezal de detección\n",
        "\n",
        "model.train(\n",
        "    data=r\"/content/Manzanas-clases-1/data.yaml\",\n",
        "    task=\"detect\",\n",
        "    mode='train',\n",
        "    epochs=50,          # Número de épocas de entrenamiento\n",
        "    patience=100,       # Paciencia para el early stopping\n",
        "    batch=16,           # Tamaño del batch\n",
        "    imgsz=640,          # Tamaño de la imagen\n",
        "    save=True,          # Guardar el modelo después de entrenar\n",
        "    cache=False,        # Usar caché de datos\n",
        "    device=None,        # Dispositivo para el entrenamiento (None para auto-detectar)\n",
        "    workers=8,          # Número de workers para el data loading\n",
        "    pretrained=True,    # Usar pesos pre-entrenados\n",
        "    optimizer='auto',   # Optimizador\n",
        "    verbose=True,       # Imprimir información durante el entrenamiento\n",
        "    seed=0,             # Semilla para la reproducibilidad\n",
        "    deterministic=True, # Asegurar entrenamiento determinista\n",
        "    amp=True,           # Mixed precision training\n",
        "    val=True,           # Validar después de cada época\n",
        "    split='val',        # División para validación\n",
        "    iou=0.7,            # Umbral de IoU\n",
        "    max_det=300,        # Máximo número de detecciones por imagen\n",
        "    lr0=0.01,           # Tasa de aprendizaje inicial\n",
        "    lrf=0.01,           # Factor de reducción de la tasa de aprendizaje\n",
        "    momentum=0.937,     # Momento para SGD\n",
        "    weight_decay=0.0005,# Decaimiento de peso\n",
        "    warmup_epochs=3.0,  # Número de épocas de calentamiento\n",
        "    warmup_momentum=0.8,# Momento durante el calentamiento\n",
        "    warmup_bias_lr=0.1, # Tasa de aprendizaje para el sesgo durante el calentamiento\n",
        "    box=7.5,            # Pérdida de la caja\n",
        "    cls=0.5,            # Pérdida de la clase\n",
        "    dfl=1.5,            # Pérdida de distribución focal\n",
        "    mosaic=1.0,         # Probabilidad de aplicar la técnica de mosaic\n",
        "    auto_augment='randaugment', # Tipo de aumento automático\n",
        "    erasing=0.4,        # Probabilidad de borrado aleatorio\n",
        "    save_dir='runs/detect/train', # Directorio para guardar los resultados\n",
        "    name = 'exp-YOLOV5N'\n",
        ")\n"
      ]
    },
    {
      "cell_type": "markdown",
      "metadata": {
        "id": "zbMtlbhVwdKp"
      },
      "source": [
        "## Evaluación del modelo entrenado"
      ]
    },
    {
      "cell_type": "markdown",
      "metadata": {
        "id": "EC7Eh3yUwdKq"
      },
      "source": [
        "https://docs.ultralytics.com/modes/val/"
      ]
    },
    {
      "cell_type": "code",
      "execution_count": 8,
      "metadata": {
        "colab": {
          "base_uri": "https://localhost:8080/"
        },
        "id": "vRRYgAorwdKq",
        "outputId": "06839de4-880e-45b6-e4f0-254a9a5ebd70"
      },
      "outputs": [
        {
          "output_type": "stream",
          "name": "stdout",
          "text": [
            "Ultralytics YOLOv8.2.69 🚀 Python-3.10.12 torch-2.3.1+cu121 CUDA:0 (NVIDIA L4, 22700MiB)\n",
            "YOLOv5n summary (fused): 193 layers, 2,503,724 parameters, 0 gradients, 7.1 GFLOPs\n"
          ]
        },
        {
          "output_type": "stream",
          "name": "stderr",
          "text": [
            "\u001b[34m\u001b[1mval: \u001b[0mScanning /content/Manzanas-clases-1/test/labels... 32 images, 2 backgrounds, 0 corrupt: 100%|██████████| 32/32 [00:00<00:00, 1427.88it/s]"
          ]
        },
        {
          "output_type": "stream",
          "name": "stdout",
          "text": [
            "\u001b[34m\u001b[1mval: \u001b[0mNew cache created: /content/Manzanas-clases-1/test/labels.cache\n"
          ]
        },
        {
          "output_type": "stream",
          "name": "stderr",
          "text": [
            "\n",
            "os.fork() was called. os.fork() is incompatible with multithreaded code, and JAX is multithreaded, so this will likely lead to a deadlock.\n",
            "                 Class     Images  Instances      Box(P          R      mAP50  mAP50-95): 100%|██████████| 2/2 [00:00<00:00,  2.42it/s]\n"
          ]
        },
        {
          "output_type": "stream",
          "name": "stdout",
          "text": [
            "                   all         32         30      0.978       0.91      0.965      0.887\n",
            "                  Gala          8          8      0.993          1      0.995      0.938\n",
            "                Golden          8          8      0.936       0.75      0.874      0.744\n",
            "                Granny          8          8          1      0.891      0.995      0.953\n",
            "                   Red          6          6      0.984          1      0.995      0.912\n",
            "Speed: 0.2ms preprocess, 11.4ms inference, 0.0ms loss, 0.7ms postprocess per image\n",
            "Results saved to \u001b[1mruns/detect/Metrics-test-exp-YOLOV5N\u001b[0m\n"
          ]
        }
      ],
      "source": [
        "metrics = model.val(imgsz = 640, split = 'test', plots = True, name = 'Metrics-test-exp-YOLOV5N')"
      ]
    },
    {
      "cell_type": "code",
      "execution_count": 9,
      "metadata": {
        "colab": {
          "base_uri": "https://localhost:8080/"
        },
        "id": "R5jz54B6wdKq",
        "outputId": "66ac8cd9-431d-4e8c-a039-a84ee725d183"
      },
      "outputs": [
        {
          "output_type": "stream",
          "name": "stdout",
          "text": [
            "Ultralytics YOLOv8.2.69 🚀 Python-3.10.12 torch-2.3.1+cu121 CUDA:0 (NVIDIA L4, 22700MiB)\n"
          ]
        },
        {
          "output_type": "stream",
          "name": "stderr",
          "text": [
            "\u001b[34m\u001b[1mval: \u001b[0mScanning /content/Manzanas-clases-1/valid/labels.cache... 68 images, 6 backgrounds, 0 corrupt: 100%|██████████| 68/68 [00:00<?, ?it/s]\n",
            "os.fork() was called. os.fork() is incompatible with multithreaded code, and JAX is multithreaded, so this will likely lead to a deadlock.\n",
            "                 Class     Images  Instances      Box(P          R      mAP50  mAP50-95): 100%|██████████| 5/5 [00:02<00:00,  2.23it/s]\n"
          ]
        },
        {
          "output_type": "stream",
          "name": "stdout",
          "text": [
            "                   all         68         62      0.978      0.914      0.934      0.862\n",
            "                  Gala         14         14      0.995      0.857       0.91      0.793\n",
            "                Golden         14         14      0.989          1      0.995      0.955\n",
            "                Granny         16         16      0.994          1      0.995      0.977\n",
            "                   Red         18         18      0.935      0.799      0.837      0.721\n",
            "Speed: 0.2ms preprocess, 9.6ms inference, 0.0ms loss, 14.7ms postprocess per image\n",
            "Results saved to \u001b[1mruns/detect/Metrics-val-exp-YOLOV5N\u001b[0m\n"
          ]
        }
      ],
      "source": [
        "metrics = model.val(imgsz = 640, split = 'val', plots = True, name = 'Metrics-val-exp-YOLOV5N')"
      ]
    },
    {
      "cell_type": "code",
      "execution_count": 10,
      "metadata": {
        "colab": {
          "base_uri": "https://localhost:8080/"
        },
        "id": "6Fb7RZyBwdKq",
        "outputId": "0a256d12-8bd2-4a85-b8f3-f0f959e8f7b7"
      },
      "outputs": [
        {
          "output_type": "stream",
          "name": "stdout",
          "text": [
            "Ultralytics YOLOv8.2.69 🚀 Python-3.10.12 torch-2.3.1+cu121 CUDA:0 (NVIDIA L4, 22700MiB)\n"
          ]
        },
        {
          "output_type": "stream",
          "name": "stderr",
          "text": [
            "\u001b[34m\u001b[1mval: \u001b[0mScanning /content/Manzanas-clases-1/train/labels.cache... 684 images, 73 backgrounds, 0 corrupt: 100%|██████████| 684/684 [00:00<?, ?it/s]\n",
            "os.fork() was called. os.fork() is incompatible with multithreaded code, and JAX is multithreaded, so this will likely lead to a deadlock.\n",
            "                 Class     Images  Instances      Box(P          R      mAP50  mAP50-95): 100%|██████████| 43/43 [00:05<00:00,  8.47it/s]\n"
          ]
        },
        {
          "output_type": "stream",
          "name": "stdout",
          "text": [
            "                   all        684        611      0.992      0.952      0.978      0.905\n",
            "                  Gala        144        144          1      0.995      0.995      0.933\n",
            "                Golden        141        141      0.998      0.979      0.994      0.919\n",
            "                Granny        162        162      0.999          1      0.995      0.936\n",
            "                   Red        164        164      0.972      0.835      0.929      0.831\n",
            "Speed: 0.2ms preprocess, 2.7ms inference, 0.0ms loss, 1.4ms postprocess per image\n",
            "Results saved to \u001b[1mruns/detect/Metrics-train-exp-YOLOV5N\u001b[0m\n"
          ]
        }
      ],
      "source": [
        "metrics = model.val(imgsz = 640, split = 'train', plots = True, name = 'Metrics-train-exp-YOLOV5N')"
      ]
    },
    {
      "cell_type": "markdown",
      "metadata": {
        "id": "n0-ugdH4wdKr"
      },
      "source": [
        "# Predicciones"
      ]
    },
    {
      "cell_type": "code",
      "execution_count": 11,
      "metadata": {
        "id": "XhsE5JRNwdKr"
      },
      "outputs": [],
      "source": [
        "from ultralytics import YOLO\n",
        "model = YOLO(r\"/content/runs/detect/exp-YOLOV5N/weights/best.pt\")"
      ]
    },
    {
      "cell_type": "code",
      "execution_count": 12,
      "metadata": {
        "colab": {
          "base_uri": "https://localhost:8080/"
        },
        "collapsed": true,
        "id": "M1UmksDhwdKs",
        "outputId": "593259c7-5706-4423-cd25-da1eb96d70a9"
      },
      "outputs": [
        {
          "output_type": "stream",
          "name": "stdout",
          "text": [
            "\n",
            "image 1/1 /content/Manzanas-clases-1/test/images/Gala-s-6-_png.rf.2ddd212561fc365b60df9f2bf901d896.jpg: 640x640 1 Gala, 10.1ms\n",
            "Speed: 2.7ms preprocess, 10.1ms inference, 2.0ms postprocess per image at shape (1, 3, 640, 640)\n",
            "Results saved to \u001b[1mruns/detect/predict\u001b[0m\n"
          ]
        },
        {
          "output_type": "execute_result",
          "data": {
            "text/plain": [
              "[ultralytics.engine.results.Results object with attributes:\n",
              " \n",
              " boxes: ultralytics.engine.results.Boxes object\n",
              " keypoints: None\n",
              " masks: None\n",
              " names: {0: 'Gala', 1: 'Golden', 2: 'Granny', 3: 'Red'}\n",
              " obb: None\n",
              " orig_img: array([[[158, 158, 158],\n",
              "         [163, 163, 163],\n",
              "         [168, 168, 168],\n",
              "         ...,\n",
              "         [236, 236, 236],\n",
              "         [239, 239, 239],\n",
              "         [239, 239, 239]],\n",
              " \n",
              "        [[161, 161, 161],\n",
              "         [167, 167, 167],\n",
              "         [172, 172, 172],\n",
              "         ...,\n",
              "         [233, 233, 233],\n",
              "         [235, 235, 235],\n",
              "         [235, 235, 235]],\n",
              " \n",
              "        [[166, 166, 166],\n",
              "         [172, 172, 172],\n",
              "         [177, 177, 177],\n",
              "         ...,\n",
              "         [229, 229, 229],\n",
              "         [231, 231, 231],\n",
              "         [232, 232, 232]],\n",
              " \n",
              "        ...,\n",
              " \n",
              "        [[142, 142, 142],\n",
              "         [140, 140, 140],\n",
              "         [136, 136, 136],\n",
              "         ...,\n",
              "         [112, 112, 112],\n",
              "         [110, 110, 110],\n",
              "         [109, 109, 109]],\n",
              " \n",
              "        [[135, 135, 135],\n",
              "         [133, 133, 133],\n",
              "         [129, 129, 129],\n",
              "         ...,\n",
              "         [112, 112, 112],\n",
              "         [110, 110, 110],\n",
              "         [109, 109, 109]],\n",
              " \n",
              "        [[132, 132, 132],\n",
              "         [129, 129, 129],\n",
              "         [125, 125, 125],\n",
              "         ...,\n",
              "         [113, 113, 113],\n",
              "         [111, 111, 111],\n",
              "         [109, 109, 109]]], dtype=uint8)\n",
              " orig_shape: (640, 640)\n",
              " path: '/content/Manzanas-clases-1/test/images/Gala-s-6-_png.rf.2ddd212561fc365b60df9f2bf901d896.jpg'\n",
              " probs: None\n",
              " save_dir: 'runs/detect/predict'\n",
              " speed: {'preprocess': 2.658367156982422, 'inference': 10.116815567016602, 'postprocess': 2.0411014556884766}]"
            ]
          },
          "metadata": {},
          "execution_count": 12
        }
      ],
      "source": [
        "model.predict(r\"/content/Manzanas-clases-1/test/images/Gala-s-6-_png.rf.2ddd212561fc365b60df9f2bf901d896.jpg\", save=True, imgsz=640, conf=0.36)"
      ]
    },
    {
      "cell_type": "code",
      "execution_count": 13,
      "metadata": {
        "colab": {
          "base_uri": "https://localhost:8080/"
        },
        "collapsed": true,
        "id": "9VogtoEGwdKs",
        "outputId": "e95235bc-78e6-449b-cf1e-0667e6dd1130"
      },
      "outputs": [
        {
          "output_type": "stream",
          "name": "stdout",
          "text": [
            "\n",
            "image 1/32 /content/Manzanas-clases-1/test/images/Gala-s-6-_png.rf.2ddd212561fc365b60df9f2bf901d896.jpg: 640x640 1 Gala, 9.9ms\n",
            "image 2/32 /content/Manzanas-clases-1/test/images/Gala-s-6-_png.rf.8129b37fd3984e25aa229699ec685449.jpg: 640x640 1 Gala, 8.5ms\n",
            "image 3/32 /content/Manzanas-clases-1/test/images/Gala-s-6-_png.rf.86e5f40968115b6f9f24b80848690e2c.jpg: 640x640 1 Gala, 8.1ms\n",
            "image 4/32 /content/Manzanas-clases-1/test/images/Gala-s-6-_png.rf.a57c2e370a44c6a4e93b5b872e2b5af0.jpg: 640x640 1 Gala, 9.9ms\n",
            "image 5/32 /content/Manzanas-clases-1/test/images/Gala-s-8-_png.rf.0a042eec877411fdc72a88c29a262320.jpg: 640x640 1 Gala, 7.9ms\n",
            "image 6/32 /content/Manzanas-clases-1/test/images/Gala-s-8-_png.rf.1e2cc253c3065eb2d741a39d33094d35.jpg: 640x640 1 Gala, 7.8ms\n",
            "image 7/32 /content/Manzanas-clases-1/test/images/Gala-s-8-_png.rf.834ee0c55e9c326c22cbcb6c139e6cb6.jpg: 640x640 1 Gala, 7.8ms\n",
            "image 8/32 /content/Manzanas-clases-1/test/images/Gala-s-8-_png.rf.d1b96e412c898ded9dc1185c10f4bed5.jpg: 640x640 1 Gala, 7.4ms\n",
            "image 9/32 /content/Manzanas-clases-1/test/images/Golden-s-27-_png.rf.4491ca3c1cb14d033fb2feff3d7b84bf.jpg: 640x640 1 Golden, 7.8ms\n",
            "image 10/32 /content/Manzanas-clases-1/test/images/Golden-s-27-_png.rf.5bdc01bf067cf8f8e69f0ddb28d84f1f.jpg: 640x640 1 Golden, 7.6ms\n",
            "image 11/32 /content/Manzanas-clases-1/test/images/Golden-s-27-_png.rf.d41232f46b86c71ebd16c5e542b1e4e5.jpg: 640x640 1 Golden, 7.8ms\n",
            "image 12/32 /content/Manzanas-clases-1/test/images/Golden-s-27-_png.rf.d5359c704712693ac332050e7d405b6e.jpg: 640x640 1 Golden, 8.0ms\n",
            "image 13/32 /content/Manzanas-clases-1/test/images/Golden-s-33-_png.rf.2525aa520cd54f0cc9141dee4498a3a3.jpg: 640x640 (no detections), 8.1ms\n",
            "image 14/32 /content/Manzanas-clases-1/test/images/Golden-s-33-_png.rf.745d2114be5bd7698fd94ba0210c9f36.jpg: 640x640 1 Golden, 7.8ms\n",
            "image 15/32 /content/Manzanas-clases-1/test/images/Golden-s-33-_png.rf.77343fc7a8a3e3179d2722d3d4412575.jpg: 640x640 1 Golden, 8.2ms\n",
            "image 16/32 /content/Manzanas-clases-1/test/images/Golden-s-33-_png.rf.8c6c51dd313a1f338b99a9402f956ed8.jpg: 640x640 1 Golden, 8.3ms\n",
            "image 17/32 /content/Manzanas-clases-1/test/images/Granny-s-5-_png.rf.07df22bafc8b795b4fca4a20f90eb572.jpg: 640x640 1 Granny, 8.0ms\n",
            "image 18/32 /content/Manzanas-clases-1/test/images/Granny-s-5-_png.rf.178d0d7cdebbb9a0e85dd1e62106e7b3.jpg: 640x640 1 Granny, 11.2ms\n",
            "image 19/32 /content/Manzanas-clases-1/test/images/Granny-s-5-_png.rf.79bf35679952c860b23574b1b7755cb3.jpg: 640x640 1 Granny, 8.1ms\n",
            "image 20/32 /content/Manzanas-clases-1/test/images/Granny-s-5-_png.rf.d809a9b484dbce194e356e0c6c587c9e.jpg: 640x640 1 Granny, 11.0ms\n",
            "image 21/32 /content/Manzanas-clases-1/test/images/Granny-s-8-_png.rf.35f3d007dbc8a8a34eaa746613fe2770.jpg: 640x640 1 Granny, 9.7ms\n",
            "image 22/32 /content/Manzanas-clases-1/test/images/Granny-s-8-_png.rf.748243f77437bcb502380806bbdfc9a0.jpg: 640x640 1 Granny, 11.0ms\n",
            "image 23/32 /content/Manzanas-clases-1/test/images/Granny-s-8-_png.rf.88effb4d527bedd8ca143845c9804d9b.jpg: 640x640 1 Granny, 10.0ms\n",
            "image 24/32 /content/Manzanas-clases-1/test/images/Granny-s-8-_png.rf.f5b6eecd11a010832c2d78a01f3c0e76.jpg: 640x640 1 Granny, 9.4ms\n",
            "image 25/32 /content/Manzanas-clases-1/test/images/ManzanaV_19_jpg.rf.25ba111050184965be246a7ac421fa0e.jpg: 640x640 1 Red, 8.1ms\n",
            "image 26/32 /content/Manzanas-clases-1/test/images/ManzanaV_19_jpg.rf.2989f823819f2d6e9c0ff15c8795f134.jpg: 640x640 1 Red, 8.1ms\n",
            "image 27/32 /content/Manzanas-clases-1/test/images/ManzanaV_19_jpg.rf.53a86f9ad6f2ade09dc67ea48d5643bc.jpg: 640x640 1 Red, 7.9ms\n",
            "image 28/32 /content/Manzanas-clases-1/test/images/ManzanaV_19_jpg.rf.fe30c13a47caa9cbb2cf30768564afea.jpg: 640x640 1 Red, 7.6ms\n",
            "image 29/32 /content/Manzanas-clases-1/test/images/ManzanaV_5_jpg.rf.37fa923629936695a13044b17d105cd2.jpg: 640x640 (no detections), 7.7ms\n",
            "image 30/32 /content/Manzanas-clases-1/test/images/ManzanaV_5_jpg.rf.3d3ed7d16f619e66a7f7f54d315e7574.jpg: 640x640 (no detections), 7.6ms\n",
            "image 31/32 /content/Manzanas-clases-1/test/images/ManzanaV_5_jpg.rf.b366f5ece8b8b833c170cb6662c61199.jpg: 640x640 1 Red, 7.5ms\n",
            "image 32/32 /content/Manzanas-clases-1/test/images/ManzanaV_5_jpg.rf.d22055fb987c53a23621cfb4b16669ed.jpg: 640x640 1 Red, 7.5ms\n",
            "Speed: 1.8ms preprocess, 8.5ms inference, 1.3ms postprocess per image at shape (1, 3, 640, 640)\n",
            "Results saved to \u001b[1mruns/detect/predict\u001b[0m\n",
            "29 labels saved to runs/detect/predict/labels\n"
          ]
        },
        {
          "output_type": "execute_result",
          "data": {
            "text/plain": [
              "[ultralytics.engine.results.Results object with attributes:\n",
              " \n",
              " boxes: ultralytics.engine.results.Boxes object\n",
              " keypoints: None\n",
              " masks: None\n",
              " names: {0: 'Gala', 1: 'Golden', 2: 'Granny', 3: 'Red'}\n",
              " obb: None\n",
              " orig_img: array([[[158, 158, 158],\n",
              "         [163, 163, 163],\n",
              "         [168, 168, 168],\n",
              "         ...,\n",
              "         [236, 236, 236],\n",
              "         [239, 239, 239],\n",
              "         [239, 239, 239]],\n",
              " \n",
              "        [[161, 161, 161],\n",
              "         [167, 167, 167],\n",
              "         [172, 172, 172],\n",
              "         ...,\n",
              "         [233, 233, 233],\n",
              "         [235, 235, 235],\n",
              "         [235, 235, 235]],\n",
              " \n",
              "        [[166, 166, 166],\n",
              "         [172, 172, 172],\n",
              "         [177, 177, 177],\n",
              "         ...,\n",
              "         [229, 229, 229],\n",
              "         [231, 231, 231],\n",
              "         [232, 232, 232]],\n",
              " \n",
              "        ...,\n",
              " \n",
              "        [[142, 142, 142],\n",
              "         [140, 140, 140],\n",
              "         [136, 136, 136],\n",
              "         ...,\n",
              "         [112, 112, 112],\n",
              "         [110, 110, 110],\n",
              "         [109, 109, 109]],\n",
              " \n",
              "        [[135, 135, 135],\n",
              "         [133, 133, 133],\n",
              "         [129, 129, 129],\n",
              "         ...,\n",
              "         [112, 112, 112],\n",
              "         [110, 110, 110],\n",
              "         [109, 109, 109]],\n",
              " \n",
              "        [[132, 132, 132],\n",
              "         [129, 129, 129],\n",
              "         [125, 125, 125],\n",
              "         ...,\n",
              "         [113, 113, 113],\n",
              "         [111, 111, 111],\n",
              "         [109, 109, 109]]], dtype=uint8)\n",
              " orig_shape: (640, 640)\n",
              " path: '/content/Manzanas-clases-1/test/images/Gala-s-6-_png.rf.2ddd212561fc365b60df9f2bf901d896.jpg'\n",
              " probs: None\n",
              " save_dir: 'runs/detect/predict'\n",
              " speed: {'preprocess': 2.4213790893554688, 'inference': 9.93967056274414, 'postprocess': 1.9257068634033203},\n",
              " ultralytics.engine.results.Results object with attributes:\n",
              " \n",
              " boxes: ultralytics.engine.results.Boxes object\n",
              " keypoints: None\n",
              " masks: None\n",
              " names: {0: 'Gala', 1: 'Golden', 2: 'Granny', 3: 'Red'}\n",
              " obb: None\n",
              " orig_img: array([[[124, 124, 124],\n",
              "         [124, 124, 124],\n",
              "         [124, 124, 124],\n",
              "         ...,\n",
              "         [ 38,  38,  38],\n",
              "         [ 37,  37,  37],\n",
              "         [ 36,  36,  36]],\n",
              " \n",
              "        [[124, 124, 124],\n",
              "         [124, 124, 124],\n",
              "         [124, 124, 124],\n",
              "         ...,\n",
              "         [ 41,  41,  41],\n",
              "         [ 39,  39,  39],\n",
              "         [ 38,  38,  38]],\n",
              " \n",
              "        [[118, 118, 118],\n",
              "         [118, 118, 118],\n",
              "         [118, 118, 118],\n",
              "         ...,\n",
              "         [ 46,  46,  46],\n",
              "         [ 43,  43,  43],\n",
              "         [ 42,  42,  42]],\n",
              " \n",
              "        ...,\n",
              " \n",
              "        [[ 97,  97,  97],\n",
              "         [ 97,  97,  97],\n",
              "         [100, 100, 100],\n",
              "         ...,\n",
              "         [236, 236, 236],\n",
              "         [238, 238, 238],\n",
              "         [240, 240, 240]],\n",
              " \n",
              "        [[ 90,  90,  90],\n",
              "         [ 90,  90,  90],\n",
              "         [ 94,  94,  94],\n",
              "         ...,\n",
              "         [238, 238, 238],\n",
              "         [241, 241, 241],\n",
              "         [244, 244, 244]],\n",
              " \n",
              "        [[ 86,  86,  86],\n",
              "         [ 86,  86,  86],\n",
              "         [ 91,  91,  91],\n",
              "         ...,\n",
              "         [239, 239, 239],\n",
              "         [243, 243, 243],\n",
              "         [247, 247, 247]]], dtype=uint8)\n",
              " orig_shape: (640, 640)\n",
              " path: '/content/Manzanas-clases-1/test/images/Gala-s-6-_png.rf.8129b37fd3984e25aa229699ec685449.jpg'\n",
              " probs: None\n",
              " save_dir: 'runs/detect/predict'\n",
              " speed: {'preprocess': 1.5861988067626953, 'inference': 8.469820022583008, 'postprocess': 1.352548599243164},\n",
              " ultralytics.engine.results.Results object with attributes:\n",
              " \n",
              " boxes: ultralytics.engine.results.Boxes object\n",
              " keypoints: None\n",
              " masks: None\n",
              " names: {0: 'Gala', 1: 'Golden', 2: 'Granny', 3: 'Red'}\n",
              " obb: None\n",
              " orig_img: array([[[ 46,  46,  46],\n",
              "         [ 47,  47,  47],\n",
              "         [ 49,  49,  49],\n",
              "         ...,\n",
              "         [104, 104, 104],\n",
              "         [109, 109, 109],\n",
              "         [113, 113, 113]],\n",
              " \n",
              "        [[ 48,  48,  48],\n",
              "         [ 49,  49,  49],\n",
              "         [ 51,  51,  51],\n",
              "         ...,\n",
              "         [105, 105, 105],\n",
              "         [110, 110, 110],\n",
              "         [113, 113, 113]],\n",
              " \n",
              "        [[ 50,  50,  50],\n",
              "         [ 51,  51,  51],\n",
              "         [ 53,  53,  53],\n",
              "         ...,\n",
              "         [ 90,  90,  90],\n",
              "         [ 94,  94,  94],\n",
              "         [ 96,  96,  96]],\n",
              " \n",
              "        ...,\n",
              " \n",
              "        [[ 50,  50,  50],\n",
              "         [ 74,  74,  74],\n",
              "         [117, 117, 117],\n",
              "         ...,\n",
              "         [ 69,  69,  69],\n",
              "         [ 54,  54,  54],\n",
              "         [ 43,  43,  43]],\n",
              " \n",
              "        [[ 50,  50,  50],\n",
              "         [ 75,  75,  75],\n",
              "         [114, 114, 114],\n",
              "         ...,\n",
              "         [ 58,  58,  58],\n",
              "         [ 45,  45,  45],\n",
              "         [ 36,  36,  36]],\n",
              " \n",
              "        [[ 50,  50,  50],\n",
              "         [ 76,  76,  76],\n",
              "         [114, 114, 114],\n",
              "         ...,\n",
              "         [ 55,  55,  55],\n",
              "         [ 44,  44,  44],\n",
              "         [ 36,  36,  36]]], dtype=uint8)\n",
              " orig_shape: (640, 640)\n",
              " path: '/content/Manzanas-clases-1/test/images/Gala-s-6-_png.rf.86e5f40968115b6f9f24b80848690e2c.jpg'\n",
              " probs: None\n",
              " save_dir: 'runs/detect/predict'\n",
              " speed: {'preprocess': 1.5802383422851562, 'inference': 8.070230484008789, 'postprocess': 1.2793540954589844},\n",
              " ultralytics.engine.results.Results object with attributes:\n",
              " \n",
              " boxes: ultralytics.engine.results.Boxes object\n",
              " keypoints: None\n",
              " masks: None\n",
              " names: {0: 'Gala', 1: 'Golden', 2: 'Granny', 3: 'Red'}\n",
              " obb: None\n",
              " orig_img: array([[[ 30,  30,  30],\n",
              "         [ 54,  54,  54],\n",
              "         [ 83,  83,  83],\n",
              "         ...,\n",
              "         [ 46,  46,  46],\n",
              "         [ 39,  39,  39],\n",
              "         [ 34,  34,  34]],\n",
              " \n",
              "        [[ 35,  35,  35],\n",
              "         [ 57,  57,  57],\n",
              "         [ 83,  83,  83],\n",
              "         ...,\n",
              "         [ 42,  42,  42],\n",
              "         [ 36,  36,  36],\n",
              "         [ 32,  32,  32]],\n",
              " \n",
              "        [[ 27,  27,  27],\n",
              "         [ 46,  46,  46],\n",
              "         [ 67,  67,  67],\n",
              "         ...,\n",
              "         [ 38,  38,  38],\n",
              "         [ 34,  34,  34],\n",
              "         [ 30,  30,  30]],\n",
              " \n",
              "        ...,\n",
              " \n",
              "        [[131, 131, 131],\n",
              "         [131, 131, 131],\n",
              "         [131, 131, 131],\n",
              "         ...,\n",
              "         [127, 127, 127],\n",
              "         [134, 134, 134],\n",
              "         [138, 138, 138]],\n",
              " \n",
              "        [[129, 129, 129],\n",
              "         [129, 129, 129],\n",
              "         [129, 129, 129],\n",
              "         ...,\n",
              "         [123, 123, 123],\n",
              "         [130, 130, 130],\n",
              "         [135, 135, 135]],\n",
              " \n",
              "        [[131, 131, 131],\n",
              "         [131, 131, 131],\n",
              "         [131, 131, 131],\n",
              "         ...,\n",
              "         [120, 120, 120],\n",
              "         [128, 128, 128],\n",
              "         [132, 132, 132]]], dtype=uint8)\n",
              " orig_shape: (640, 640)\n",
              " path: '/content/Manzanas-clases-1/test/images/Gala-s-6-_png.rf.a57c2e370a44c6a4e93b5b872e2b5af0.jpg'\n",
              " probs: None\n",
              " save_dir: 'runs/detect/predict'\n",
              " speed: {'preprocess': 1.4650821685791016, 'inference': 9.937763214111328, 'postprocess': 1.3642311096191406},\n",
              " ultralytics.engine.results.Results object with attributes:\n",
              " \n",
              " boxes: ultralytics.engine.results.Boxes object\n",
              " keypoints: None\n",
              " masks: None\n",
              " names: {0: 'Gala', 1: 'Golden', 2: 'Granny', 3: 'Red'}\n",
              " obb: None\n",
              " orig_img: array([[[ 33,  33,  33],\n",
              "         [ 52,  52,  52],\n",
              "         [ 76,  76,  76],\n",
              "         ...,\n",
              "         [128, 128, 128],\n",
              "         [134, 134, 134],\n",
              "         [134, 134, 134]],\n",
              " \n",
              "        [[ 32,  32,  32],\n",
              "         [ 50,  50,  50],\n",
              "         [ 71,  71,  71],\n",
              "         ...,\n",
              "         [131, 131, 131],\n",
              "         [131, 131, 131],\n",
              "         [129, 129, 129]],\n",
              " \n",
              "        [[ 34,  34,  34],\n",
              "         [ 49,  49,  49],\n",
              "         [ 66,  66,  66],\n",
              "         ...,\n",
              "         [131, 131, 131],\n",
              "         [113, 113, 113],\n",
              "         [100, 100, 100]],\n",
              " \n",
              "        ...,\n",
              " \n",
              "        [[132, 132, 132],\n",
              "         [137, 137, 137],\n",
              "         [144, 144, 144],\n",
              "         ...,\n",
              "         [143, 143, 143],\n",
              "         [144, 144, 144],\n",
              "         [144, 144, 144]],\n",
              " \n",
              "        [[136, 136, 136],\n",
              "         [140, 140, 140],\n",
              "         [146, 146, 146],\n",
              "         ...,\n",
              "         [139, 139, 139],\n",
              "         [139, 139, 139],\n",
              "         [139, 139, 139]],\n",
              " \n",
              "        [[140, 140, 140],\n",
              "         [143, 143, 143],\n",
              "         [149, 149, 149],\n",
              "         ...,\n",
              "         [136, 136, 136],\n",
              "         [135, 135, 135],\n",
              "         [135, 135, 135]]], dtype=uint8)\n",
              " orig_shape: (640, 640)\n",
              " path: '/content/Manzanas-clases-1/test/images/Gala-s-8-_png.rf.0a042eec877411fdc72a88c29a262320.jpg'\n",
              " probs: None\n",
              " save_dir: 'runs/detect/predict'\n",
              " speed: {'preprocess': 1.5475749969482422, 'inference': 7.930517196655273, 'postprocess': 1.256704330444336},\n",
              " ultralytics.engine.results.Results object with attributes:\n",
              " \n",
              " boxes: ultralytics.engine.results.Boxes object\n",
              " keypoints: None\n",
              " masks: None\n",
              " names: {0: 'Gala', 1: 'Golden', 2: 'Granny', 3: 'Red'}\n",
              " obb: None\n",
              " orig_img: array([[[120, 120, 120],\n",
              "         [116, 116, 116],\n",
              "         [113, 113, 113],\n",
              "         ...,\n",
              "         [235, 235, 235],\n",
              "         [238, 238, 238],\n",
              "         [240, 240, 240]],\n",
              " \n",
              "        [[118, 118, 118],\n",
              "         [114, 114, 114],\n",
              "         [113, 113, 113],\n",
              "         ...,\n",
              "         [232, 232, 232],\n",
              "         [235, 235, 235],\n",
              "         [237, 237, 237]],\n",
              " \n",
              "        [[116, 116, 116],\n",
              "         [114, 114, 114],\n",
              "         [115, 115, 115],\n",
              "         ...,\n",
              "         [227, 227, 227],\n",
              "         [231, 231, 231],\n",
              "         [233, 233, 233]],\n",
              " \n",
              "        ...,\n",
              " \n",
              "        [[150, 150, 150],\n",
              "         [150, 150, 150],\n",
              "         [146, 146, 146],\n",
              "         ...,\n",
              "         [108, 108, 108],\n",
              "         [107, 107, 107],\n",
              "         [106, 106, 106]],\n",
              " \n",
              "        [[138, 138, 138],\n",
              "         [137, 137, 137],\n",
              "         [131, 131, 131],\n",
              "         ...,\n",
              "         [110, 110, 110],\n",
              "         [110, 110, 110],\n",
              "         [110, 110, 110]],\n",
              " \n",
              "        [[142, 142, 142],\n",
              "         [139, 139, 139],\n",
              "         [132, 132, 132],\n",
              "         ...,\n",
              "         [112, 112, 112],\n",
              "         [112, 112, 112],\n",
              "         [112, 112, 112]]], dtype=uint8)\n",
              " orig_shape: (640, 640)\n",
              " path: '/content/Manzanas-clases-1/test/images/Gala-s-8-_png.rf.1e2cc253c3065eb2d741a39d33094d35.jpg'\n",
              " probs: None\n",
              " save_dir: 'runs/detect/predict'\n",
              " speed: {'preprocess': 1.4643669128417969, 'inference': 7.785320281982422, 'postprocess': 1.2323856353759766},\n",
              " ultralytics.engine.results.Results object with attributes:\n",
              " \n",
              " boxes: ultralytics.engine.results.Boxes object\n",
              " keypoints: None\n",
              " masks: None\n",
              " names: {0: 'Gala', 1: 'Golden', 2: 'Granny', 3: 'Red'}\n",
              " obb: None\n",
              " orig_img: array([[[ 63,  63,  63],\n",
              "         [ 61,  61,  61],\n",
              "         [ 58,  58,  58],\n",
              "         ...,\n",
              "         [ 79,  79,  79],\n",
              "         [ 81,  81,  81],\n",
              "         [ 81,  81,  81]],\n",
              " \n",
              "        [[ 61,  61,  61],\n",
              "         [ 59,  59,  59],\n",
              "         [ 57,  57,  57],\n",
              "         ...,\n",
              "         [ 74,  74,  74],\n",
              "         [ 78,  78,  78],\n",
              "         [ 79,  79,  79]],\n",
              " \n",
              "        [[ 60,  60,  60],\n",
              "         [ 58,  58,  58],\n",
              "         [ 56,  56,  56],\n",
              "         ...,\n",
              "         [ 67,  67,  67],\n",
              "         [ 71,  71,  71],\n",
              "         [ 73,  73,  73]],\n",
              " \n",
              "        ...,\n",
              " \n",
              "        [[ 48,  48,  48],\n",
              "         [ 76,  76,  76],\n",
              "         [114, 114, 114],\n",
              "         ...,\n",
              "         [ 32,  32,  32],\n",
              "         [ 31,  31,  31],\n",
              "         [ 28,  28,  28]],\n",
              " \n",
              "        [[ 40,  40,  40],\n",
              "         [ 63,  63,  63],\n",
              "         [ 95,  95,  95],\n",
              "         ...,\n",
              "         [ 11,  11,  11],\n",
              "         [ 17,  17,  17],\n",
              "         [ 19,  19,  19]],\n",
              " \n",
              "        [[ 48,  48,  48],\n",
              "         [ 68,  68,  68],\n",
              "         [ 94,  94,  94],\n",
              "         ...,\n",
              "         [  7,   7,   7],\n",
              "         [ 11,  11,  11],\n",
              "         [ 15,  15,  15]]], dtype=uint8)\n",
              " orig_shape: (640, 640)\n",
              " path: '/content/Manzanas-clases-1/test/images/Gala-s-8-_png.rf.834ee0c55e9c326c22cbcb6c139e6cb6.jpg'\n",
              " probs: None\n",
              " save_dir: 'runs/detect/predict'\n",
              " speed: {'preprocess': 1.4460086822509766, 'inference': 7.783412933349609, 'postprocess': 1.2116432189941406},\n",
              " ultralytics.engine.results.Results object with attributes:\n",
              " \n",
              " boxes: ultralytics.engine.results.Boxes object\n",
              " keypoints: None\n",
              " masks: None\n",
              " names: {0: 'Gala', 1: 'Golden', 2: 'Granny', 3: 'Red'}\n",
              " obb: None\n",
              " orig_img: array([[[ 77,  77,  77],\n",
              "         [ 76,  76,  76],\n",
              "         [ 75,  75,  75],\n",
              "         ...,\n",
              "         [ 31,  31,  31],\n",
              "         [ 29,  29,  29],\n",
              "         [ 28,  28,  28]],\n",
              " \n",
              "        [[ 76,  76,  76],\n",
              "         [ 75,  75,  75],\n",
              "         [ 75,  75,  75],\n",
              "         ...,\n",
              "         [ 32,  32,  32],\n",
              "         [ 32,  32,  32],\n",
              "         [ 33,  33,  33]],\n",
              " \n",
              "        [[ 72,  72,  72],\n",
              "         [ 73,  73,  73],\n",
              "         [ 75,  75,  75],\n",
              "         ...,\n",
              "         [ 35,  35,  35],\n",
              "         [ 38,  38,  38],\n",
              "         [ 40,  40,  40]],\n",
              " \n",
              "        ...,\n",
              " \n",
              "        [[ 39,  39,  39],\n",
              "         [ 28,  28,  28],\n",
              "         [ 15,  15,  15],\n",
              "         ...,\n",
              "         [245, 245, 245],\n",
              "         [247, 247, 247],\n",
              "         [248, 248, 248]],\n",
              " \n",
              "        [[ 26,  26,  26],\n",
              "         [ 18,  18,  18],\n",
              "         [  8,   8,   8],\n",
              "         ...,\n",
              "         [244, 244, 244],\n",
              "         [246, 246, 246],\n",
              "         [248, 248, 248]],\n",
              " \n",
              "        [[ 18,  18,  18],\n",
              "         [ 11,  11,  11],\n",
              "         [  4,   4,   4],\n",
              "         ...,\n",
              "         [243, 243, 243],\n",
              "         [245, 245, 245],\n",
              "         [247, 247, 247]]], dtype=uint8)\n",
              " orig_shape: (640, 640)\n",
              " path: '/content/Manzanas-clases-1/test/images/Gala-s-8-_png.rf.d1b96e412c898ded9dc1185c10f4bed5.jpg'\n",
              " probs: None\n",
              " save_dir: 'runs/detect/predict'\n",
              " speed: {'preprocess': 1.4889240264892578, 'inference': 7.447242736816406, 'postprocess': 1.2133121490478516},\n",
              " ultralytics.engine.results.Results object with attributes:\n",
              " \n",
              " boxes: ultralytics.engine.results.Boxes object\n",
              " keypoints: None\n",
              " masks: None\n",
              " names: {0: 'Gala', 1: 'Golden', 2: 'Granny', 3: 'Red'}\n",
              " obb: None\n",
              " orig_img: array([[[ 76,  76,  76],\n",
              "         [ 76,  76,  76],\n",
              "         [ 76,  76,  76],\n",
              "         ...,\n",
              "         [ 35,  35,  35],\n",
              "         [ 34,  34,  34],\n",
              "         [ 34,  34,  34]],\n",
              " \n",
              "        [[ 76,  76,  76],\n",
              "         [ 76,  76,  76],\n",
              "         [ 76,  76,  76],\n",
              "         ...,\n",
              "         [ 37,  37,  37],\n",
              "         [ 36,  36,  36],\n",
              "         [ 37,  37,  37]],\n",
              " \n",
              "        [[ 76,  76,  76],\n",
              "         [ 76,  76,  76],\n",
              "         [ 76,  76,  76],\n",
              "         ...,\n",
              "         [ 40,  40,  40],\n",
              "         [ 41,  41,  41],\n",
              "         [ 41,  41,  41]],\n",
              " \n",
              "        ...,\n",
              " \n",
              "        [[230, 230, 230],\n",
              "         [230, 230, 230],\n",
              "         [230, 230, 230],\n",
              "         ...,\n",
              "         [217, 217, 217],\n",
              "         [212, 212, 212],\n",
              "         [207, 207, 207]],\n",
              " \n",
              "        [[234, 234, 234],\n",
              "         [234, 234, 234],\n",
              "         [235, 235, 235],\n",
              "         ...,\n",
              "         [209, 209, 209],\n",
              "         [204, 204, 204],\n",
              "         [199, 199, 199]],\n",
              " \n",
              "        [[237, 237, 237],\n",
              "         [237, 237, 237],\n",
              "         [238, 238, 238],\n",
              "         ...,\n",
              "         [204, 204, 204],\n",
              "         [198, 198, 198],\n",
              "         [193, 193, 193]]], dtype=uint8)\n",
              " orig_shape: (640, 640)\n",
              " path: '/content/Manzanas-clases-1/test/images/Golden-s-27-_png.rf.4491ca3c1cb14d033fb2feff3d7b84bf.jpg'\n",
              " probs: None\n",
              " save_dir: 'runs/detect/predict'\n",
              " speed: {'preprocess': 1.4786720275878906, 'inference': 7.803201675415039, 'postprocess': 1.241445541381836},\n",
              " ultralytics.engine.results.Results object with attributes:\n",
              " \n",
              " boxes: ultralytics.engine.results.Boxes object\n",
              " keypoints: None\n",
              " masks: None\n",
              " names: {0: 'Gala', 1: 'Golden', 2: 'Granny', 3: 'Red'}\n",
              " obb: None\n",
              " orig_img: array([[[230, 230, 230],\n",
              "         [230, 230, 230],\n",
              "         [229, 229, 229],\n",
              "         ...,\n",
              "         [190, 190, 190],\n",
              "         [194, 194, 194],\n",
              "         [197, 197, 197]],\n",
              " \n",
              "        [[231, 231, 231],\n",
              "         [230, 230, 230],\n",
              "         [230, 230, 230],\n",
              "         ...,\n",
              "         [191, 191, 191],\n",
              "         [197, 197, 197],\n",
              "         [202, 202, 202]],\n",
              " \n",
              "        [[231, 231, 231],\n",
              "         [231, 231, 231],\n",
              "         [231, 231, 231],\n",
              "         ...,\n",
              "         [193, 193, 193],\n",
              "         [202, 202, 202],\n",
              "         [209, 209, 209]],\n",
              " \n",
              "        ...,\n",
              " \n",
              "        [[ 89,  89,  89],\n",
              "         [ 89,  89,  89],\n",
              "         [ 89,  89,  89],\n",
              "         ...,\n",
              "         [ 53,  53,  53],\n",
              "         [ 50,  50,  50],\n",
              "         [ 48,  48,  48]],\n",
              " \n",
              "        [[ 81,  81,  81],\n",
              "         [ 81,  81,  81],\n",
              "         [ 81,  81,  81],\n",
              "         ...,\n",
              "         [ 51,  51,  51],\n",
              "         [ 49,  49,  49],\n",
              "         [ 49,  49,  49]],\n",
              " \n",
              "        [[ 81,  81,  81],\n",
              "         [ 81,  81,  81],\n",
              "         [ 81,  81,  81],\n",
              "         ...,\n",
              "         [ 49,  49,  49],\n",
              "         [ 49,  49,  49],\n",
              "         [ 48,  48,  48]]], dtype=uint8)\n",
              " orig_shape: (640, 640)\n",
              " path: '/content/Manzanas-clases-1/test/images/Golden-s-27-_png.rf.5bdc01bf067cf8f8e69f0ddb28d84f1f.jpg'\n",
              " probs: None\n",
              " save_dir: 'runs/detect/predict'\n",
              " speed: {'preprocess': 1.4834403991699219, 'inference': 7.570028305053711, 'postprocess': 1.211404800415039},\n",
              " ultralytics.engine.results.Results object with attributes:\n",
              " \n",
              " boxes: ultralytics.engine.results.Boxes object\n",
              " keypoints: None\n",
              " masks: None\n",
              " names: {0: 'Gala', 1: 'Golden', 2: 'Granny', 3: 'Red'}\n",
              " obb: None\n",
              " orig_img: array([[[167, 167, 167],\n",
              "         [179, 179, 179],\n",
              "         [197, 197, 197],\n",
              "         ...,\n",
              "         [228, 228, 228],\n",
              "         [231, 231, 231],\n",
              "         [233, 233, 233]],\n",
              " \n",
              "        [[159, 159, 159],\n",
              "         [174, 174, 174],\n",
              "         [197, 197, 197],\n",
              "         ...,\n",
              "         [229, 229, 229],\n",
              "         [230, 230, 230],\n",
              "         [232, 232, 232]],\n",
              " \n",
              "        [[147, 147, 147],\n",
              "         [166, 166, 166],\n",
              "         [196, 196, 196],\n",
              "         ...,\n",
              "         [231, 231, 231],\n",
              "         [231, 231, 231],\n",
              "         [231, 231, 231]],\n",
              " \n",
              "        ...,\n",
              " \n",
              "        [[ 92,  92,  92],\n",
              "         [ 91,  91,  91],\n",
              "         [ 90,  90,  90],\n",
              "         ...,\n",
              "         [ 96,  96,  96],\n",
              "         [ 97,  97,  97],\n",
              "         [ 96,  96,  96]],\n",
              " \n",
              "        [[ 91,  91,  91],\n",
              "         [ 91,  91,  91],\n",
              "         [ 90,  90,  90],\n",
              "         ...,\n",
              "         [ 90,  90,  90],\n",
              "         [ 91,  91,  91],\n",
              "         [ 90,  90,  90]],\n",
              " \n",
              "        [[ 89,  89,  89],\n",
              "         [ 88,  88,  88],\n",
              "         [ 88,  88,  88],\n",
              "         ...,\n",
              "         [ 88,  88,  88],\n",
              "         [ 91,  91,  91],\n",
              "         [ 91,  91,  91]]], dtype=uint8)\n",
              " orig_shape: (640, 640)\n",
              " path: '/content/Manzanas-clases-1/test/images/Golden-s-27-_png.rf.d41232f46b86c71ebd16c5e542b1e4e5.jpg'\n",
              " probs: None\n",
              " save_dir: 'runs/detect/predict'\n",
              " speed: {'preprocess': 1.4557838439941406, 'inference': 7.800817489624023, 'postprocess': 1.2073516845703125},\n",
              " ultralytics.engine.results.Results object with attributes:\n",
              " \n",
              " boxes: ultralytics.engine.results.Boxes object\n",
              " keypoints: None\n",
              " masks: None\n",
              " names: {0: 'Gala', 1: 'Golden', 2: 'Granny', 3: 'Red'}\n",
              " obb: None\n",
              " orig_img: array([[[ 57,  57,  57],\n",
              "         [ 55,  55,  55],\n",
              "         [ 51,  51,  51],\n",
              "         ...,\n",
              "         [ 75,  75,  75],\n",
              "         [ 74,  74,  74],\n",
              "         [ 74,  74,  74]],\n",
              " \n",
              "        [[ 57,  57,  57],\n",
              "         [ 55,  55,  55],\n",
              "         [ 51,  51,  51],\n",
              "         ...,\n",
              "         [ 72,  72,  72],\n",
              "         [ 72,  72,  72],\n",
              "         [ 71,  71,  71]],\n",
              " \n",
              "        [[ 54,  54,  54],\n",
              "         [ 52,  52,  52],\n",
              "         [ 48,  48,  48],\n",
              "         ...,\n",
              "         [ 72,  72,  72],\n",
              "         [ 72,  72,  72],\n",
              "         [ 72,  72,  72]],\n",
              " \n",
              "        ...,\n",
              " \n",
              "        [[232, 232, 232],\n",
              "         [237, 237, 237],\n",
              "         [242, 242, 242],\n",
              "         ...,\n",
              "         [174, 174, 174],\n",
              "         [172, 172, 172],\n",
              "         [170, 170, 170]],\n",
              " \n",
              "        [[229, 229, 229],\n",
              "         [234, 234, 234],\n",
              "         [240, 240, 240],\n",
              "         ...,\n",
              "         [180, 180, 180],\n",
              "         [177, 177, 177],\n",
              "         [176, 176, 176]],\n",
              " \n",
              "        [[226, 226, 226],\n",
              "         [232, 232, 232],\n",
              "         [239, 239, 239],\n",
              "         ...,\n",
              "         [181, 181, 181],\n",
              "         [178, 178, 178],\n",
              "         [177, 177, 177]]], dtype=uint8)\n",
              " orig_shape: (640, 640)\n",
              " path: '/content/Manzanas-clases-1/test/images/Golden-s-27-_png.rf.d5359c704712693ac332050e7d405b6e.jpg'\n",
              " probs: None\n",
              " save_dir: 'runs/detect/predict'\n",
              " speed: {'preprocess': 1.5866756439208984, 'inference': 8.035898208618164, 'postprocess': 1.2650489807128906},\n",
              " ultralytics.engine.results.Results object with attributes:\n",
              " \n",
              " boxes: ultralytics.engine.results.Boxes object\n",
              " keypoints: None\n",
              " masks: None\n",
              " names: {0: 'Gala', 1: 'Golden', 2: 'Granny', 3: 'Red'}\n",
              " obb: None\n",
              " orig_img: array([[[  0,   0,   0],\n",
              "         [  5,   5,   5],\n",
              "         [ 13,  13,  13],\n",
              "         ...,\n",
              "         [185, 185, 185],\n",
              "         [199, 199, 199],\n",
              "         [208, 208, 208]],\n",
              " \n",
              "        [[  0,   0,   0],\n",
              "         [  5,   5,   5],\n",
              "         [ 13,  13,  13],\n",
              "         ...,\n",
              "         [184, 184, 184],\n",
              "         [199, 199, 199],\n",
              "         [210, 210, 210]],\n",
              " \n",
              "        [[  0,   0,   0],\n",
              "         [  5,   5,   5],\n",
              "         [ 14,  14,  14],\n",
              "         ...,\n",
              "         [182, 182, 182],\n",
              "         [200, 200, 200],\n",
              "         [212, 212, 212]],\n",
              " \n",
              "        ...,\n",
              " \n",
              "        [[ 89,  89,  89],\n",
              "         [ 87,  87,  87],\n",
              "         [ 82,  82,  82],\n",
              "         ...,\n",
              "         [ 42,  42,  42],\n",
              "         [ 38,  38,  38],\n",
              "         [ 35,  35,  35]],\n",
              " \n",
              "        [[ 88,  88,  88],\n",
              "         [ 86,  86,  86],\n",
              "         [ 80,  80,  80],\n",
              "         ...,\n",
              "         [ 42,  42,  42],\n",
              "         [ 38,  38,  38],\n",
              "         [ 35,  35,  35]],\n",
              " \n",
              "        [[ 88,  88,  88],\n",
              "         [ 85,  85,  85],\n",
              "         [ 80,  80,  80],\n",
              "         ...,\n",
              "         [ 42,  42,  42],\n",
              "         [ 39,  39,  39],\n",
              "         [ 37,  37,  37]]], dtype=uint8)\n",
              " orig_shape: (640, 640)\n",
              " path: '/content/Manzanas-clases-1/test/images/Golden-s-33-_png.rf.2525aa520cd54f0cc9141dee4498a3a3.jpg'\n",
              " probs: None\n",
              " save_dir: 'runs/detect/predict'\n",
              " speed: {'preprocess': 1.5048980712890625, 'inference': 8.109092712402344, 'postprocess': 0.5021095275878906},\n",
              " ultralytics.engine.results.Results object with attributes:\n",
              " \n",
              " boxes: ultralytics.engine.results.Boxes object\n",
              " keypoints: None\n",
              " masks: None\n",
              " names: {0: 'Gala', 1: 'Golden', 2: 'Granny', 3: 'Red'}\n",
              " obb: None\n",
              " orig_img: array([[[ 64,  64,  64],\n",
              "         [ 66,  66,  66],\n",
              "         [ 68,  68,  68],\n",
              "         ...,\n",
              "         [ 28,  28,  28],\n",
              "         [ 21,  21,  21],\n",
              "         [ 15,  15,  15]],\n",
              " \n",
              "        [[ 66,  66,  66],\n",
              "         [ 66,  66,  66],\n",
              "         [ 66,  66,  66],\n",
              "         ...,\n",
              "         [ 27,  27,  27],\n",
              "         [ 20,  20,  20],\n",
              "         [ 15,  15,  15]],\n",
              " \n",
              "        [[ 67,  67,  67],\n",
              "         [ 66,  66,  66],\n",
              "         [ 63,  63,  63],\n",
              "         ...,\n",
              "         [ 39,  39,  39],\n",
              "         [ 34,  34,  34],\n",
              "         [ 30,  30,  30]],\n",
              " \n",
              "        ...,\n",
              " \n",
              "        [[ 50,  50,  50],\n",
              "         [ 59,  59,  59],\n",
              "         [ 70,  70,  70],\n",
              "         ...,\n",
              "         [204, 204, 204],\n",
              "         [205, 205, 205],\n",
              "         [207, 207, 207]],\n",
              " \n",
              "        [[ 51,  51,  51],\n",
              "         [ 61,  61,  61],\n",
              "         [ 74,  74,  74],\n",
              "         ...,\n",
              "         [192, 192, 192],\n",
              "         [194, 194, 194],\n",
              "         [198, 198, 198]],\n",
              " \n",
              "        [[ 52,  52,  52],\n",
              "         [ 63,  63,  63],\n",
              "         [ 76,  76,  76],\n",
              "         ...,\n",
              "         [189, 189, 189],\n",
              "         [192, 192, 192],\n",
              "         [196, 196, 196]]], dtype=uint8)\n",
              " orig_shape: (640, 640)\n",
              " path: '/content/Manzanas-clases-1/test/images/Golden-s-33-_png.rf.745d2114be5bd7698fd94ba0210c9f36.jpg'\n",
              " probs: None\n",
              " save_dir: 'runs/detect/predict'\n",
              " speed: {'preprocess': 1.4834403991699219, 'inference': 7.843971252441406, 'postprocess': 1.3470649719238281},\n",
              " ultralytics.engine.results.Results object with attributes:\n",
              " \n",
              " boxes: ultralytics.engine.results.Boxes object\n",
              " keypoints: None\n",
              " masks: None\n",
              " names: {0: 'Gala', 1: 'Golden', 2: 'Granny', 3: 'Red'}\n",
              " obb: None\n",
              " orig_img: array([[[ 60,  60,  60],\n",
              "         [ 56,  56,  56],\n",
              "         [ 50,  50,  50],\n",
              "         ...,\n",
              "         [ 88,  88,  88],\n",
              "         [ 88,  88,  88],\n",
              "         [ 88,  88,  88]],\n",
              " \n",
              "        [[ 61,  61,  61],\n",
              "         [ 57,  57,  57],\n",
              "         [ 52,  52,  52],\n",
              "         ...,\n",
              "         [ 88,  88,  88],\n",
              "         [ 89,  89,  89],\n",
              "         [ 89,  89,  89]],\n",
              " \n",
              "        [[ 61,  61,  61],\n",
              "         [ 58,  58,  58],\n",
              "         [ 54,  54,  54],\n",
              "         ...,\n",
              "         [ 90,  90,  90],\n",
              "         [ 92,  92,  92],\n",
              "         [ 94,  94,  94]],\n",
              " \n",
              "        ...,\n",
              " \n",
              "        [[225, 225, 225],\n",
              "         [236, 236, 236],\n",
              "         [244, 244, 244],\n",
              "         ...,\n",
              "         [ 59,  59,  59],\n",
              "         [ 60,  60,  60],\n",
              "         [ 61,  61,  61]],\n",
              " \n",
              "        [[224, 224, 224],\n",
              "         [236, 236, 236],\n",
              "         [244, 244, 244],\n",
              "         ...,\n",
              "         [ 61,  61,  61],\n",
              "         [ 63,  63,  63],\n",
              "         [ 64,  64,  64]],\n",
              " \n",
              "        [[222, 222, 222],\n",
              "         [234, 234, 234],\n",
              "         [243, 243, 243],\n",
              "         ...,\n",
              "         [ 63,  63,  63],\n",
              "         [ 65,  65,  65],\n",
              "         [ 66,  66,  66]]], dtype=uint8)\n",
              " orig_shape: (640, 640)\n",
              " path: '/content/Manzanas-clases-1/test/images/Golden-s-33-_png.rf.77343fc7a8a3e3179d2722d3d4412575.jpg'\n",
              " probs: None\n",
              " save_dir: 'runs/detect/predict'\n",
              " speed: {'preprocess': 1.5342235565185547, 'inference': 8.231639862060547, 'postprocess': 1.215219497680664},\n",
              " ultralytics.engine.results.Results object with attributes:\n",
              " \n",
              " boxes: ultralytics.engine.results.Boxes object\n",
              " keypoints: None\n",
              " masks: None\n",
              " names: {0: 'Gala', 1: 'Golden', 2: 'Granny', 3: 'Red'}\n",
              " obb: None\n",
              " orig_img: array([[[178, 178, 178],\n",
              "         [186, 186, 186],\n",
              "         [201, 201, 201],\n",
              "         ...,\n",
              "         [166, 166, 166],\n",
              "         [170, 170, 170],\n",
              "         [172, 172, 172]],\n",
              " \n",
              "        [[170, 170, 170],\n",
              "         [180, 180, 180],\n",
              "         [199, 199, 199],\n",
              "         ...,\n",
              "         [165, 165, 165],\n",
              "         [170, 170, 170],\n",
              "         [172, 172, 172]],\n",
              " \n",
              "        [[149, 149, 149],\n",
              "         [164, 164, 164],\n",
              "         [190, 190, 190],\n",
              "         ...,\n",
              "         [164, 164, 164],\n",
              "         [168, 168, 168],\n",
              "         [171, 171, 171]],\n",
              " \n",
              "        ...,\n",
              " \n",
              "        [[139, 139, 139],\n",
              "         [139, 139, 139],\n",
              "         [140, 140, 140],\n",
              "         ...,\n",
              "         [133, 133, 133],\n",
              "         [135, 135, 135],\n",
              "         [136, 136, 136]],\n",
              " \n",
              "        [[143, 143, 143],\n",
              "         [142, 142, 142],\n",
              "         [141, 141, 141],\n",
              "         ...,\n",
              "         [125, 125, 125],\n",
              "         [127, 127, 127],\n",
              "         [127, 127, 127]],\n",
              " \n",
              "        [[146, 146, 146],\n",
              "         [144, 144, 144],\n",
              "         [141, 141, 141],\n",
              "         ...,\n",
              "         [122, 122, 122],\n",
              "         [123, 123, 123],\n",
              "         [122, 122, 122]]], dtype=uint8)\n",
              " orig_shape: (640, 640)\n",
              " path: '/content/Manzanas-clases-1/test/images/Golden-s-33-_png.rf.8c6c51dd313a1f338b99a9402f956ed8.jpg'\n",
              " probs: None\n",
              " save_dir: 'runs/detect/predict'\n",
              " speed: {'preprocess': 1.5513896942138672, 'inference': 8.308649063110352, 'postprocess': 1.3041496276855469},\n",
              " ultralytics.engine.results.Results object with attributes:\n",
              " \n",
              " boxes: ultralytics.engine.results.Boxes object\n",
              " keypoints: None\n",
              " masks: None\n",
              " names: {0: 'Gala', 1: 'Golden', 2: 'Granny', 3: 'Red'}\n",
              " obb: None\n",
              " orig_img: array([[[ 34,  34,  34],\n",
              "         [ 34,  34,  34],\n",
              "         [ 40,  40,  40],\n",
              "         ...,\n",
              "         [ 62,  62,  62],\n",
              "         [ 63,  63,  63],\n",
              "         [ 65,  65,  65]],\n",
              " \n",
              "        [[ 33,  33,  33],\n",
              "         [ 33,  33,  33],\n",
              "         [ 38,  38,  38],\n",
              "         ...,\n",
              "         [ 63,  63,  63],\n",
              "         [ 63,  63,  63],\n",
              "         [ 64,  64,  64]],\n",
              " \n",
              "        [[ 32,  32,  32],\n",
              "         [ 32,  32,  32],\n",
              "         [ 38,  38,  38],\n",
              "         ...,\n",
              "         [ 63,  63,  63],\n",
              "         [ 63,  63,  63],\n",
              "         [ 62,  62,  62]],\n",
              " \n",
              "        ...,\n",
              " \n",
              "        [[210, 210, 210],\n",
              "         [207, 207, 207],\n",
              "         [201, 201, 201],\n",
              "         ...,\n",
              "         [165, 165, 165],\n",
              "         [165, 165, 165],\n",
              "         [167, 167, 167]],\n",
              " \n",
              "        [[226, 226, 226],\n",
              "         [222, 222, 222],\n",
              "         [216, 216, 216],\n",
              "         ...,\n",
              "         [166, 166, 166],\n",
              "         [168, 168, 168],\n",
              "         [171, 171, 171]],\n",
              " \n",
              "        [[228, 228, 228],\n",
              "         [224, 224, 224],\n",
              "         [218, 218, 218],\n",
              "         ...,\n",
              "         [167, 167, 167],\n",
              "         [169, 169, 169],\n",
              "         [173, 173, 173]]], dtype=uint8)\n",
              " orig_shape: (640, 640)\n",
              " path: '/content/Manzanas-clases-1/test/images/Granny-s-5-_png.rf.07df22bafc8b795b4fca4a20f90eb572.jpg'\n",
              " probs: None\n",
              " save_dir: 'runs/detect/predict'\n",
              " speed: {'preprocess': 1.554727554321289, 'inference': 8.040904998779297, 'postprocess': 1.3146400451660156},\n",
              " ultralytics.engine.results.Results object with attributes:\n",
              " \n",
              " boxes: ultralytics.engine.results.Boxes object\n",
              " keypoints: None\n",
              " masks: None\n",
              " names: {0: 'Gala', 1: 'Golden', 2: 'Granny', 3: 'Red'}\n",
              " obb: None\n",
              " orig_img: array([[[ 99,  99,  99],\n",
              "         [ 96,  96,  96],\n",
              "         [ 89,  89,  89],\n",
              "         ...,\n",
              "         [ 33,  33,  33],\n",
              "         [ 32,  32,  32],\n",
              "         [ 31,  31,  31]],\n",
              " \n",
              "        [[101, 101, 101],\n",
              "         [ 98,  98,  98],\n",
              "         [ 91,  91,  91],\n",
              "         ...,\n",
              "         [ 37,  37,  37],\n",
              "         [ 36,  36,  36],\n",
              "         [ 35,  35,  35]],\n",
              " \n",
              "        [[103, 103, 103],\n",
              "         [100, 100, 100],\n",
              "         [ 92,  92,  92],\n",
              "         ...,\n",
              "         [ 41,  41,  41],\n",
              "         [ 40,  40,  40],\n",
              "         [ 38,  38,  38]],\n",
              " \n",
              "        ...,\n",
              " \n",
              "        [[137, 137, 137],\n",
              "         [136, 136, 136],\n",
              "         [136, 136, 136],\n",
              "         ...,\n",
              "         [221, 221, 221],\n",
              "         [226, 226, 226],\n",
              "         [230, 230, 230]],\n",
              " \n",
              "        [[140, 140, 140],\n",
              "         [140, 140, 140],\n",
              "         [140, 140, 140],\n",
              "         ...,\n",
              "         [218, 218, 218],\n",
              "         [224, 224, 224],\n",
              "         [229, 229, 229]],\n",
              " \n",
              "        [[142, 142, 142],\n",
              "         [143, 143, 143],\n",
              "         [143, 143, 143],\n",
              "         ...,\n",
              "         [218, 218, 218],\n",
              "         [224, 224, 224],\n",
              "         [230, 230, 230]]], dtype=uint8)\n",
              " orig_shape: (640, 640)\n",
              " path: '/content/Manzanas-clases-1/test/images/Granny-s-5-_png.rf.178d0d7cdebbb9a0e85dd1e62106e7b3.jpg'\n",
              " probs: None\n",
              " save_dir: 'runs/detect/predict'\n",
              " speed: {'preprocess': 2.005338668823242, 'inference': 11.15107536315918, 'postprocess': 1.6720294952392578},\n",
              " ultralytics.engine.results.Results object with attributes:\n",
              " \n",
              " boxes: ultralytics.engine.results.Boxes object\n",
              " keypoints: None\n",
              " masks: None\n",
              " names: {0: 'Gala', 1: 'Golden', 2: 'Granny', 3: 'Red'}\n",
              " obb: None\n",
              " orig_img: array([[[225, 225, 225],\n",
              "         [220, 220, 220],\n",
              "         [209, 209, 209],\n",
              "         ...,\n",
              "         [135, 135, 135],\n",
              "         [139, 139, 139],\n",
              "         [137, 137, 137]],\n",
              " \n",
              "        [[225, 225, 225],\n",
              "         [220, 220, 220],\n",
              "         [209, 209, 209],\n",
              "         ...,\n",
              "         [134, 134, 134],\n",
              "         [141, 141, 141],\n",
              "         [141, 141, 141]],\n",
              " \n",
              "        [[241, 241, 241],\n",
              "         [233, 233, 233],\n",
              "         [218, 218, 218],\n",
              "         ...,\n",
              "         [132, 132, 132],\n",
              "         [141, 141, 141],\n",
              "         [144, 144, 144]],\n",
              " \n",
              "        ...,\n",
              " \n",
              "        [[ 97,  97,  97],\n",
              "         [ 97,  97,  97],\n",
              "         [ 97,  97,  97],\n",
              "         ...,\n",
              "         [109, 109, 109],\n",
              "         [109, 109, 109],\n",
              "         [110, 110, 110]],\n",
              " \n",
              "        [[ 97,  97,  97],\n",
              "         [ 97,  97,  97],\n",
              "         [ 97,  97,  97],\n",
              "         ...,\n",
              "         [107, 107, 107],\n",
              "         [109, 109, 109],\n",
              "         [110, 110, 110]],\n",
              " \n",
              "        [[ 97,  97,  97],\n",
              "         [ 97,  97,  97],\n",
              "         [ 97,  97,  97],\n",
              "         ...,\n",
              "         [106, 106, 106],\n",
              "         [109, 109, 109],\n",
              "         [112, 112, 112]]], dtype=uint8)\n",
              " orig_shape: (640, 640)\n",
              " path: '/content/Manzanas-clases-1/test/images/Granny-s-5-_png.rf.79bf35679952c860b23574b1b7755cb3.jpg'\n",
              " probs: None\n",
              " save_dir: 'runs/detect/predict'\n",
              " speed: {'preprocess': 1.5130043029785156, 'inference': 8.135795593261719, 'postprocess': 1.2967586517333984},\n",
              " ultralytics.engine.results.Results object with attributes:\n",
              " \n",
              " boxes: ultralytics.engine.results.Boxes object\n",
              " keypoints: None\n",
              " masks: None\n",
              " names: {0: 'Gala', 1: 'Golden', 2: 'Granny', 3: 'Red'}\n",
              " obb: None\n",
              " orig_img: array([[[133, 133, 133],\n",
              "         [132, 132, 132],\n",
              "         [130, 130, 130],\n",
              "         ...,\n",
              "         [238, 238, 238],\n",
              "         [242, 242, 242],\n",
              "         [245, 245, 245]],\n",
              " \n",
              "        [[136, 136, 136],\n",
              "         [135, 135, 135],\n",
              "         [132, 132, 132],\n",
              "         ...,\n",
              "         [239, 239, 239],\n",
              "         [241, 241, 241],\n",
              "         [243, 243, 243]],\n",
              " \n",
              "        [[135, 135, 135],\n",
              "         [134, 134, 134],\n",
              "         [131, 131, 131],\n",
              "         ...,\n",
              "         [240, 240, 240],\n",
              "         [240, 240, 240],\n",
              "         [238, 238, 238]],\n",
              " \n",
              "        ...,\n",
              " \n",
              "        [[110, 110, 110],\n",
              "         [113, 113, 113],\n",
              "         [116, 116, 116],\n",
              "         ...,\n",
              "         [119, 119, 119],\n",
              "         [122, 122, 122],\n",
              "         [124, 124, 124]],\n",
              " \n",
              "        [[107, 107, 107],\n",
              "         [110, 110, 110],\n",
              "         [113, 113, 113],\n",
              "         ...,\n",
              "         [121, 121, 121],\n",
              "         [125, 125, 125],\n",
              "         [128, 128, 128]],\n",
              " \n",
              "        [[103, 103, 103],\n",
              "         [106, 106, 106],\n",
              "         [109, 109, 109],\n",
              "         ...,\n",
              "         [123, 123, 123],\n",
              "         [128, 128, 128],\n",
              "         [130, 130, 130]]], dtype=uint8)\n",
              " orig_shape: (640, 640)\n",
              " path: '/content/Manzanas-clases-1/test/images/Granny-s-5-_png.rf.d809a9b484dbce194e356e0c6c587c9e.jpg'\n",
              " probs: None\n",
              " save_dir: 'runs/detect/predict'\n",
              " speed: {'preprocess': 1.9948482513427734, 'inference': 11.029243469238281, 'postprocess': 1.6713142395019531},\n",
              " ultralytics.engine.results.Results object with attributes:\n",
              " \n",
              " boxes: ultralytics.engine.results.Boxes object\n",
              " keypoints: None\n",
              " masks: None\n",
              " names: {0: 'Gala', 1: 'Golden', 2: 'Granny', 3: 'Red'}\n",
              " obb: None\n",
              " orig_img: array([[[ 46,  46,  46],\n",
              "         [ 46,  46,  46],\n",
              "         [ 47,  47,  47],\n",
              "         ...,\n",
              "         [ 80,  80,  80],\n",
              "         [ 78,  78,  78],\n",
              "         [ 76,  76,  76]],\n",
              " \n",
              "        [[ 47,  47,  47],\n",
              "         [ 46,  46,  46],\n",
              "         [ 45,  45,  45],\n",
              "         ...,\n",
              "         [ 78,  78,  78],\n",
              "         [ 77,  77,  77],\n",
              "         [ 77,  77,  77]],\n",
              " \n",
              "        [[ 51,  51,  51],\n",
              "         [ 49,  49,  49],\n",
              "         [ 46,  46,  46],\n",
              "         ...,\n",
              "         [ 77,  77,  77],\n",
              "         [ 79,  79,  79],\n",
              "         [ 80,  80,  80]],\n",
              " \n",
              "        ...,\n",
              " \n",
              "        [[198, 198, 198],\n",
              "         [199, 199, 199],\n",
              "         [199, 199, 199],\n",
              "         ...,\n",
              "         [ 74,  74,  74],\n",
              "         [ 74,  74,  74],\n",
              "         [ 74,  74,  74]],\n",
              " \n",
              "        [[224, 224, 224],\n",
              "         [223, 223, 223],\n",
              "         [221, 221, 221],\n",
              "         ...,\n",
              "         [ 74,  74,  74],\n",
              "         [ 74,  74,  74],\n",
              "         [ 74,  74,  74]],\n",
              " \n",
              "        [[233, 233, 233],\n",
              "         [230, 230, 230],\n",
              "         [226, 226, 226],\n",
              "         ...,\n",
              "         [ 75,  75,  75],\n",
              "         [ 74,  74,  74],\n",
              "         [ 74,  74,  74]]], dtype=uint8)\n",
              " orig_shape: (640, 640)\n",
              " path: '/content/Manzanas-clases-1/test/images/Granny-s-8-_png.rf.35f3d007dbc8a8a34eaa746613fe2770.jpg'\n",
              " probs: None\n",
              " save_dir: 'runs/detect/predict'\n",
              " speed: {'preprocess': 2.0198822021484375, 'inference': 9.671211242675781, 'postprocess': 1.2674331665039062},\n",
              " ultralytics.engine.results.Results object with attributes:\n",
              " \n",
              " boxes: ultralytics.engine.results.Boxes object\n",
              " keypoints: None\n",
              " masks: None\n",
              " names: {0: 'Gala', 1: 'Golden', 2: 'Granny', 3: 'Red'}\n",
              " obb: None\n",
              " orig_img: array([[[ 97,  97,  97],\n",
              "         [ 98,  98,  98],\n",
              "         [100, 100, 100],\n",
              "         ...,\n",
              "         [ 36,  36,  36],\n",
              "         [ 35,  35,  35],\n",
              "         [ 35,  35,  35]],\n",
              " \n",
              "        [[ 99,  99,  99],\n",
              "         [ 99,  99,  99],\n",
              "         [ 99,  99,  99],\n",
              "         ...,\n",
              "         [ 40,  40,  40],\n",
              "         [ 41,  41,  41],\n",
              "         [ 41,  41,  41]],\n",
              " \n",
              "        [[102, 102, 102],\n",
              "         [101, 101, 101],\n",
              "         [100, 100, 100],\n",
              "         ...,\n",
              "         [ 47,  47,  47],\n",
              "         [ 50,  50,  50],\n",
              "         [ 52,  52,  52]],\n",
              " \n",
              "        ...,\n",
              " \n",
              "        [[149, 149, 149],\n",
              "         [149, 149, 149],\n",
              "         [147, 147, 147],\n",
              "         ...,\n",
              "         [236, 236, 236],\n",
              "         [237, 237, 237],\n",
              "         [239, 239, 239]],\n",
              " \n",
              "        [[149, 149, 149],\n",
              "         [149, 149, 149],\n",
              "         [147, 147, 147],\n",
              "         ...,\n",
              "         [221, 221, 221],\n",
              "         [224, 224, 224],\n",
              "         [227, 227, 227]],\n",
              " \n",
              "        [[149, 149, 149],\n",
              "         [149, 149, 149],\n",
              "         [147, 147, 147],\n",
              "         ...,\n",
              "         [226, 226, 226],\n",
              "         [231, 231, 231],\n",
              "         [235, 235, 235]]], dtype=uint8)\n",
              " orig_shape: (640, 640)\n",
              " path: '/content/Manzanas-clases-1/test/images/Granny-s-8-_png.rf.748243f77437bcb502380806bbdfc9a0.jpg'\n",
              " probs: None\n",
              " save_dir: 'runs/detect/predict'\n",
              " speed: {'preprocess': 1.972198486328125, 'inference': 10.999917984008789, 'postprocess': 1.6887187957763672},\n",
              " ultralytics.engine.results.Results object with attributes:\n",
              " \n",
              " boxes: ultralytics.engine.results.Boxes object\n",
              " keypoints: None\n",
              " masks: None\n",
              " names: {0: 'Gala', 1: 'Golden', 2: 'Granny', 3: 'Red'}\n",
              " obb: None\n",
              " orig_img: array([[[ 94,  94,  94],\n",
              "         [ 95,  95,  95],\n",
              "         [ 95,  95,  95],\n",
              "         ...,\n",
              "         [239, 239, 239],\n",
              "         [242, 242, 242],\n",
              "         [247, 247, 247]],\n",
              " \n",
              "        [[ 94,  94,  94],\n",
              "         [ 95,  95,  95],\n",
              "         [ 95,  95,  95],\n",
              "         ...,\n",
              "         [239, 239, 239],\n",
              "         [241, 241, 241],\n",
              "         [245, 245, 245]],\n",
              " \n",
              "        [[ 94,  94,  94],\n",
              "         [ 95,  95,  95],\n",
              "         [ 95,  95,  95],\n",
              "         ...,\n",
              "         [245, 245, 245],\n",
              "         [244, 244, 244],\n",
              "         [245, 245, 245]],\n",
              " \n",
              "        ...,\n",
              " \n",
              "        [[148, 148, 148],\n",
              "         [147, 147, 147],\n",
              "         [144, 144, 144],\n",
              "         ...,\n",
              "         [131, 131, 131],\n",
              "         [138, 138, 138],\n",
              "         [142, 142, 142]],\n",
              " \n",
              "        [[148, 148, 148],\n",
              "         [146, 146, 146],\n",
              "         [141, 141, 141],\n",
              "         ...,\n",
              "         [137, 137, 137],\n",
              "         [143, 143, 143],\n",
              "         [146, 146, 146]],\n",
              " \n",
              "        [[147, 147, 147],\n",
              "         [143, 143, 143],\n",
              "         [139, 139, 139],\n",
              "         ...,\n",
              "         [140, 140, 140],\n",
              "         [145, 145, 145],\n",
              "         [147, 147, 147]]], dtype=uint8)\n",
              " orig_shape: (640, 640)\n",
              " path: '/content/Manzanas-clases-1/test/images/Granny-s-8-_png.rf.88effb4d527bedd8ca143845c9804d9b.jpg'\n",
              " probs: None\n",
              " save_dir: 'runs/detect/predict'\n",
              " speed: {'preprocess': 2.0275115966796875, 'inference': 9.95635986328125, 'postprocess': 1.2426376342773438},\n",
              " ultralytics.engine.results.Results object with attributes:\n",
              " \n",
              " boxes: ultralytics.engine.results.Boxes object\n",
              " keypoints: None\n",
              " masks: None\n",
              " names: {0: 'Gala', 1: 'Golden', 2: 'Granny', 3: 'Red'}\n",
              " obb: None\n",
              " orig_img: array([[[220, 220, 220],\n",
              "         [215, 215, 215],\n",
              "         [210, 210, 210],\n",
              "         ...,\n",
              "         [ 93,  93,  93],\n",
              "         [ 98,  98,  98],\n",
              "         [102, 102, 102]],\n",
              " \n",
              "        [[230, 230, 230],\n",
              "         [224, 224, 224],\n",
              "         [217, 217, 217],\n",
              "         ...,\n",
              "         [ 93,  93,  93],\n",
              "         [ 97,  97,  97],\n",
              "         [101, 101, 101]],\n",
              " \n",
              "        [[243, 243, 243],\n",
              "         [237, 237, 237],\n",
              "         [227, 227, 227],\n",
              "         ...,\n",
              "         [ 93,  93,  93],\n",
              "         [ 97,  97,  97],\n",
              "         [100, 100, 100]],\n",
              " \n",
              "        ...,\n",
              " \n",
              "        [[135, 135, 135],\n",
              "         [135, 135, 135],\n",
              "         [135, 135, 135],\n",
              "         ...,\n",
              "         [146, 146, 146],\n",
              "         [147, 147, 147],\n",
              "         [148, 148, 148]],\n",
              " \n",
              "        [[138, 138, 138],\n",
              "         [138, 138, 138],\n",
              "         [138, 138, 138],\n",
              "         ...,\n",
              "         [143, 143, 143],\n",
              "         [146, 146, 146],\n",
              "         [147, 147, 147]],\n",
              " \n",
              "        [[141, 141, 141],\n",
              "         [141, 141, 141],\n",
              "         [141, 141, 141],\n",
              "         ...,\n",
              "         [142, 142, 142],\n",
              "         [145, 145, 145],\n",
              "         [146, 146, 146]]], dtype=uint8)\n",
              " orig_shape: (640, 640)\n",
              " path: '/content/Manzanas-clases-1/test/images/Granny-s-8-_png.rf.f5b6eecd11a010832c2d78a01f3c0e76.jpg'\n",
              " probs: None\n",
              " save_dir: 'runs/detect/predict'\n",
              " speed: {'preprocess': 1.9688606262207031, 'inference': 9.422063827514648, 'postprocess': 1.2364387512207031},\n",
              " ultralytics.engine.results.Results object with attributes:\n",
              " \n",
              " boxes: ultralytics.engine.results.Boxes object\n",
              " keypoints: None\n",
              " masks: None\n",
              " names: {0: 'Gala', 1: 'Golden', 2: 'Granny', 3: 'Red'}\n",
              " obb: None\n",
              " orig_img: array([[[238, 238, 238],\n",
              "         [223, 223, 223],\n",
              "         [208, 208, 208],\n",
              "         ...,\n",
              "         [  5,   5,   5],\n",
              "         [  5,   5,   5],\n",
              "         [  5,   5,   5]],\n",
              " \n",
              "        [[239, 239, 239],\n",
              "         [224, 224, 224],\n",
              "         [207, 207, 207],\n",
              "         ...,\n",
              "         [  5,   5,   5],\n",
              "         [  5,   5,   5],\n",
              "         [  5,   5,   5]],\n",
              " \n",
              "        [[239, 239, 239],\n",
              "         [224, 224, 224],\n",
              "         [206, 206, 206],\n",
              "         ...,\n",
              "         [  5,   5,   5],\n",
              "         [  5,   5,   5],\n",
              "         [  5,   5,   5]],\n",
              " \n",
              "        ...,\n",
              " \n",
              "        [[131, 131, 131],\n",
              "         [143, 143, 143],\n",
              "         [159, 159, 159],\n",
              "         ...,\n",
              "         [ 64,  64,  64],\n",
              "         [ 68,  68,  68],\n",
              "         [ 71,  71,  71]],\n",
              " \n",
              "        [[ 93,  93,  93],\n",
              "         [107, 107, 107],\n",
              "         [127, 127, 127],\n",
              "         ...,\n",
              "         [ 73,  73,  73],\n",
              "         [ 75,  75,  75],\n",
              "         [ 76,  76,  76]],\n",
              " \n",
              "        [[ 84,  84,  84],\n",
              "         [100, 100, 100],\n",
              "         [121, 121, 121],\n",
              "         ...,\n",
              "         [ 77,  77,  77],\n",
              "         [ 75,  75,  75],\n",
              "         [ 75,  75,  75]]], dtype=uint8)\n",
              " orig_shape: (640, 640)\n",
              " path: '/content/Manzanas-clases-1/test/images/ManzanaV_19_jpg.rf.25ba111050184965be246a7ac421fa0e.jpg'\n",
              " probs: None\n",
              " save_dir: 'runs/detect/predict'\n",
              " speed: {'preprocess': 1.6856193542480469, 'inference': 8.116722106933594, 'postprocess': 1.2688636779785156},\n",
              " ultralytics.engine.results.Results object with attributes:\n",
              " \n",
              " boxes: ultralytics.engine.results.Boxes object\n",
              " keypoints: None\n",
              " masks: None\n",
              " names: {0: 'Gala', 1: 'Golden', 2: 'Granny', 3: 'Red'}\n",
              " obb: None\n",
              " orig_img: array([[[  7,   7,   7],\n",
              "         [  8,   8,   8],\n",
              "         [  0,   0,   0],\n",
              "         ...,\n",
              "         [144, 144, 144],\n",
              "         [184, 184, 184],\n",
              "         [204, 204, 204]],\n",
              " \n",
              "        [[ 13,  13,  13],\n",
              "         [ 11,  11,  11],\n",
              "         [  1,   1,   1],\n",
              "         ...,\n",
              "         [145, 145, 145],\n",
              "         [187, 187, 187],\n",
              "         [208, 208, 208]],\n",
              " \n",
              "        [[ 20,  20,  20],\n",
              "         [ 15,  15,  15],\n",
              "         [  2,   2,   2],\n",
              "         ...,\n",
              "         [148, 148, 148],\n",
              "         [193, 193, 193],\n",
              "         [215, 215, 215]],\n",
              " \n",
              "        ...,\n",
              " \n",
              "        [[ 78,  78,  78],\n",
              "         [ 79,  79,  79],\n",
              "         [ 79,  79,  79],\n",
              "         ...,\n",
              "         [ 46,  46,  46],\n",
              "         [ 46,  46,  46],\n",
              "         [ 45,  45,  45]],\n",
              " \n",
              "        [[ 78,  78,  78],\n",
              "         [ 79,  79,  79],\n",
              "         [ 79,  79,  79],\n",
              "         ...,\n",
              "         [ 51,  51,  51],\n",
              "         [ 51,  51,  51],\n",
              "         [ 50,  50,  50]],\n",
              " \n",
              "        [[ 78,  78,  78],\n",
              "         [ 79,  79,  79],\n",
              "         [ 79,  79,  79],\n",
              "         ...,\n",
              "         [ 54,  54,  54],\n",
              "         [ 54,  54,  54],\n",
              "         [ 54,  54,  54]]], dtype=uint8)\n",
              " orig_shape: (640, 640)\n",
              " path: '/content/Manzanas-clases-1/test/images/ManzanaV_19_jpg.rf.2989f823819f2d6e9c0ff15c8795f134.jpg'\n",
              " probs: None\n",
              " save_dir: 'runs/detect/predict'\n",
              " speed: {'preprocess': 2.086162567138672, 'inference': 8.06283950805664, 'postprocess': 1.2180805206298828},\n",
              " ultralytics.engine.results.Results object with attributes:\n",
              " \n",
              " boxes: ultralytics.engine.results.Boxes object\n",
              " keypoints: None\n",
              " masks: None\n",
              " names: {0: 'Gala', 1: 'Golden', 2: 'Granny', 3: 'Red'}\n",
              " obb: None\n",
              " orig_img: array([[[112, 112, 112],\n",
              "         [111, 111, 111],\n",
              "         [116, 116, 116],\n",
              "         ...,\n",
              "         [121, 121, 121],\n",
              "         [121, 121, 121],\n",
              "         [122, 122, 122]],\n",
              " \n",
              "        [[112, 112, 112],\n",
              "         [111, 111, 111],\n",
              "         [116, 116, 116],\n",
              "         ...,\n",
              "         [122, 122, 122],\n",
              "         [121, 121, 121],\n",
              "         [121, 121, 121]],\n",
              " \n",
              "        [[ 96,  96,  96],\n",
              "         [ 95,  95,  95],\n",
              "         [100, 100, 100],\n",
              "         ...,\n",
              "         [123, 123, 123],\n",
              "         [121, 121, 121],\n",
              "         [121, 121, 121]],\n",
              " \n",
              "        ...,\n",
              " \n",
              "        [[  9,   9,   9],\n",
              "         [ 11,  11,  11],\n",
              "         [ 18,  18,  18],\n",
              "         ...,\n",
              "         [123, 123, 123],\n",
              "         [170, 170, 170],\n",
              "         [200, 200, 200]],\n",
              " \n",
              "        [[  7,   7,   7],\n",
              "         [ 10,  10,  10],\n",
              "         [ 18,  18,  18],\n",
              "         ...,\n",
              "         [129, 129, 129],\n",
              "         [174, 174, 174],\n",
              "         [204, 204, 204]],\n",
              " \n",
              "        [[  7,   7,   7],\n",
              "         [ 10,  10,  10],\n",
              "         [ 20,  20,  20],\n",
              "         ...,\n",
              "         [128, 128, 128],\n",
              "         [172, 172, 172],\n",
              "         [201, 201, 201]]], dtype=uint8)\n",
              " orig_shape: (640, 640)\n",
              " path: '/content/Manzanas-clases-1/test/images/ManzanaV_19_jpg.rf.53a86f9ad6f2ade09dc67ea48d5643bc.jpg'\n",
              " probs: None\n",
              " save_dir: 'runs/detect/predict'\n",
              " speed: {'preprocess': 3.1516551971435547, 'inference': 7.859230041503906, 'postprocess': 1.2235641479492188},\n",
              " ultralytics.engine.results.Results object with attributes:\n",
              " \n",
              " boxes: ultralytics.engine.results.Boxes object\n",
              " keypoints: None\n",
              " masks: None\n",
              " names: {0: 'Gala', 1: 'Golden', 2: 'Granny', 3: 'Red'}\n",
              " obb: None\n",
              " orig_img: array([[[ 63,  63,  63],\n",
              "         [ 64,  64,  64],\n",
              "         [ 64,  64,  64],\n",
              "         ...,\n",
              "         [ 63,  63,  63],\n",
              "         [ 78,  78,  78],\n",
              "         [ 87,  87,  87]],\n",
              " \n",
              "        [[ 63,  63,  63],\n",
              "         [ 63,  63,  63],\n",
              "         [ 63,  63,  63],\n",
              "         ...,\n",
              "         [ 66,  66,  66],\n",
              "         [ 77,  77,  77],\n",
              "         [ 85,  85,  85]],\n",
              " \n",
              "        [[ 63,  63,  63],\n",
              "         [ 63,  63,  63],\n",
              "         [ 61,  61,  61],\n",
              "         ...,\n",
              "         [ 69,  69,  69],\n",
              "         [ 78,  78,  78],\n",
              "         [ 84,  84,  84]],\n",
              " \n",
              "        ...,\n",
              " \n",
              "        [[166, 166, 166],\n",
              "         [166, 166, 166],\n",
              "         [167, 167, 167],\n",
              "         ...,\n",
              "         [ 28,  28,  28],\n",
              "         [ 29,  29,  29],\n",
              "         [ 30,  30,  30]],\n",
              " \n",
              "        [[204, 204, 204],\n",
              "         [198, 198, 198],\n",
              "         [186, 186, 186],\n",
              "         ...,\n",
              "         [ 31,  31,  31],\n",
              "         [ 32,  32,  32],\n",
              "         [ 33,  33,  33]],\n",
              " \n",
              "        [[206, 206, 206],\n",
              "         [199, 199, 199],\n",
              "         [186, 186, 186],\n",
              "         ...,\n",
              "         [ 32,  32,  32],\n",
              "         [ 34,  34,  34],\n",
              "         [ 35,  35,  35]]], dtype=uint8)\n",
              " orig_shape: (640, 640)\n",
              " path: '/content/Manzanas-clases-1/test/images/ManzanaV_19_jpg.rf.fe30c13a47caa9cbb2cf30768564afea.jpg'\n",
              " probs: None\n",
              " save_dir: 'runs/detect/predict'\n",
              " speed: {'preprocess': 1.4069080352783203, 'inference': 7.63392448425293, 'postprocess': 1.2753009796142578},\n",
              " ultralytics.engine.results.Results object with attributes:\n",
              " \n",
              " boxes: ultralytics.engine.results.Boxes object\n",
              " keypoints: None\n",
              " masks: None\n",
              " names: {0: 'Gala', 1: 'Golden', 2: 'Granny', 3: 'Red'}\n",
              " obb: None\n",
              " orig_img: array([[[ 46,  46,  46],\n",
              "         [ 45,  45,  45],\n",
              "         [ 42,  42,  42],\n",
              "         ...,\n",
              "         [ 55,  55,  55],\n",
              "         [ 62,  62,  62],\n",
              "         [ 63,  63,  63]],\n",
              " \n",
              "        [[ 42,  42,  42],\n",
              "         [ 41,  41,  41],\n",
              "         [ 39,  39,  39],\n",
              "         ...,\n",
              "         [ 55,  55,  55],\n",
              "         [ 58,  58,  58],\n",
              "         [ 57,  57,  57]],\n",
              " \n",
              "        [[ 35,  35,  35],\n",
              "         [ 34,  34,  34],\n",
              "         [ 33,  33,  33],\n",
              "         ...,\n",
              "         [ 54,  54,  54],\n",
              "         [ 55,  55,  55],\n",
              "         [ 52,  52,  52]],\n",
              " \n",
              "        ...,\n",
              " \n",
              "        [[161, 161, 161],\n",
              "         [151, 151, 151],\n",
              "         [131, 131, 131],\n",
              "         ...,\n",
              "         [ 49,  49,  49],\n",
              "         [ 49,  49,  49],\n",
              "         [ 49,  49,  49]],\n",
              " \n",
              "        [[171, 171, 171],\n",
              "         [157, 157, 157],\n",
              "         [130, 130, 130],\n",
              "         ...,\n",
              "         [ 49,  49,  49],\n",
              "         [ 49,  49,  49],\n",
              "         [ 49,  49,  49]],\n",
              " \n",
              "        [[179, 179, 179],\n",
              "         [162, 162, 162],\n",
              "         [130, 130, 130],\n",
              "         ...,\n",
              "         [ 49,  49,  49],\n",
              "         [ 49,  49,  49],\n",
              "         [ 49,  49,  49]]], dtype=uint8)\n",
              " orig_shape: (640, 640)\n",
              " path: '/content/Manzanas-clases-1/test/images/ManzanaV_5_jpg.rf.37fa923629936695a13044b17d105cd2.jpg'\n",
              " probs: None\n",
              " save_dir: 'runs/detect/predict'\n",
              " speed: {'preprocess': 2.092599868774414, 'inference': 7.720232009887695, 'postprocess': 0.4992485046386719},\n",
              " ultralytics.engine.results.Results object with attributes:\n",
              " \n",
              " boxes: ultralytics.engine.results.Boxes object\n",
              " keypoints: None\n",
              " masks: None\n",
              " names: {0: 'Gala', 1: 'Golden', 2: 'Granny', 3: 'Red'}\n",
              " obb: None\n",
              " orig_img: array([[[191, 191, 191],\n",
              "         [167, 167, 167],\n",
              "         [138, 138, 138],\n",
              "         ...,\n",
              "         [ 32,  32,  32],\n",
              "         [ 32,  32,  32],\n",
              "         [ 32,  32,  32]],\n",
              " \n",
              "        [[188, 188, 188],\n",
              "         [165, 165, 165],\n",
              "         [138, 138, 138],\n",
              "         ...,\n",
              "         [ 32,  32,  32],\n",
              "         [ 32,  32,  32],\n",
              "         [ 32,  32,  32]],\n",
              " \n",
              "        [[199, 199, 199],\n",
              "         [176, 176, 176],\n",
              "         [147, 147, 147],\n",
              "         ...,\n",
              "         [ 40,  40,  40],\n",
              "         [ 40,  40,  40],\n",
              "         [ 40,  40,  40]],\n",
              " \n",
              "        ...,\n",
              " \n",
              "        [[ 81,  81,  81],\n",
              "         [ 84,  84,  84],\n",
              "         [ 98,  98,  98],\n",
              "         ...,\n",
              "         [ 37,  37,  37],\n",
              "         [ 39,  39,  39],\n",
              "         [ 40,  40,  40]],\n",
              " \n",
              "        [[ 39,  39,  39],\n",
              "         [ 43,  43,  43],\n",
              "         [ 59,  59,  59],\n",
              "         ...,\n",
              "         [ 31,  31,  31],\n",
              "         [ 33,  33,  33],\n",
              "         [ 33,  33,  33]],\n",
              " \n",
              "        [[ 34,  34,  34],\n",
              "         [ 37,  37,  37],\n",
              "         [ 54,  54,  54],\n",
              "         ...,\n",
              "         [ 27,  27,  27],\n",
              "         [ 28,  28,  28],\n",
              "         [ 28,  28,  28]]], dtype=uint8)\n",
              " orig_shape: (640, 640)\n",
              " path: '/content/Manzanas-clases-1/test/images/ManzanaV_5_jpg.rf.3d3ed7d16f619e66a7f7f54d315e7574.jpg'\n",
              " probs: None\n",
              " save_dir: 'runs/detect/predict'\n",
              " speed: {'preprocess': 2.0279884338378906, 'inference': 7.601261138916016, 'postprocess': 0.5147457122802734},\n",
              " ultralytics.engine.results.Results object with attributes:\n",
              " \n",
              " boxes: ultralytics.engine.results.Boxes object\n",
              " keypoints: None\n",
              " masks: None\n",
              " names: {0: 'Gala', 1: 'Golden', 2: 'Granny', 3: 'Red'}\n",
              " obb: None\n",
              " orig_img: array([[[104, 104, 104],\n",
              "         [109, 109, 109],\n",
              "         [119, 119, 119],\n",
              "         ...,\n",
              "         [123, 123, 123],\n",
              "         [123, 123, 123],\n",
              "         [123, 123, 123]],\n",
              " \n",
              "        [[111, 111, 111],\n",
              "         [115, 115, 115],\n",
              "         [124, 124, 124],\n",
              "         ...,\n",
              "         [124, 124, 124],\n",
              "         [122, 122, 122],\n",
              "         [121, 121, 121]],\n",
              " \n",
              "        [[ 88,  88,  88],\n",
              "         [ 92,  92,  92],\n",
              "         [ 99,  99,  99],\n",
              "         ...,\n",
              "         [125, 125, 125],\n",
              "         [121, 121, 121],\n",
              "         [119, 119, 119]],\n",
              " \n",
              "        ...,\n",
              " \n",
              "        [[214, 214, 214],\n",
              "         [217, 217, 217],\n",
              "         [215, 215, 215],\n",
              "         ...,\n",
              "         [177, 177, 177],\n",
              "         [193, 193, 193],\n",
              "         [195, 195, 195]],\n",
              " \n",
              "        [[214, 214, 214],\n",
              "         [217, 217, 217],\n",
              "         [215, 215, 215],\n",
              "         ...,\n",
              "         [197, 197, 197],\n",
              "         [211, 211, 211],\n",
              "         [210, 210, 210]],\n",
              " \n",
              "        [[214, 214, 214],\n",
              "         [217, 217, 217],\n",
              "         [215, 215, 215],\n",
              "         ...,\n",
              "         [195, 195, 195],\n",
              "         [208, 208, 208],\n",
              "         [204, 204, 204]]], dtype=uint8)\n",
              " orig_shape: (640, 640)\n",
              " path: '/content/Manzanas-clases-1/test/images/ManzanaV_5_jpg.rf.b366f5ece8b8b833c170cb6662c61199.jpg'\n",
              " probs: None\n",
              " save_dir: 'runs/detect/predict'\n",
              " speed: {'preprocess': 1.9545555114746094, 'inference': 7.526636123657227, 'postprocess': 1.2629032135009766},\n",
              " ultralytics.engine.results.Results object with attributes:\n",
              " \n",
              " boxes: ultralytics.engine.results.Boxes object\n",
              " keypoints: None\n",
              " masks: None\n",
              " names: {0: 'Gala', 1: 'Golden', 2: 'Granny', 3: 'Red'}\n",
              " obb: None\n",
              " orig_img: array([[[213, 213, 213],\n",
              "         [216, 216, 216],\n",
              "         [215, 215, 215],\n",
              "         ...,\n",
              "         [219, 219, 219],\n",
              "         [226, 226, 226],\n",
              "         [224, 224, 224]],\n",
              " \n",
              "        [[213, 213, 213],\n",
              "         [216, 216, 216],\n",
              "         [215, 215, 215],\n",
              "         ...,\n",
              "         [223, 223, 223],\n",
              "         [230, 230, 230],\n",
              "         [228, 228, 228]],\n",
              " \n",
              "        [[213, 213, 213],\n",
              "         [216, 216, 216],\n",
              "         [215, 215, 215],\n",
              "         ...,\n",
              "         [229, 229, 229],\n",
              "         [236, 236, 236],\n",
              "         [234, 234, 234]],\n",
              " \n",
              "        ...,\n",
              " \n",
              "        [[ 84,  84,  84],\n",
              "         [ 84,  84,  84],\n",
              "         [ 84,  84,  84],\n",
              "         ...,\n",
              "         [ 55,  55,  55],\n",
              "         [ 53,  53,  53],\n",
              "         [ 51,  51,  51]],\n",
              " \n",
              "        [[ 81,  81,  81],\n",
              "         [ 81,  81,  81],\n",
              "         [ 80,  80,  80],\n",
              "         ...,\n",
              "         [ 55,  55,  55],\n",
              "         [ 52,  52,  52],\n",
              "         [ 50,  50,  50]],\n",
              " \n",
              "        [[ 80,  80,  80],\n",
              "         [ 80,  80,  80],\n",
              "         [ 79,  79,  79],\n",
              "         ...,\n",
              "         [ 56,  56,  56],\n",
              "         [ 53,  53,  53],\n",
              "         [ 51,  51,  51]]], dtype=uint8)\n",
              " orig_shape: (640, 640)\n",
              " path: '/content/Manzanas-clases-1/test/images/ManzanaV_5_jpg.rf.d22055fb987c53a23621cfb4b16669ed.jpg'\n",
              " probs: None\n",
              " save_dir: 'runs/detect/predict'\n",
              " speed: {'preprocess': 1.978158950805664, 'inference': 7.545709609985352, 'postprocess': 1.260519027709961}]"
            ]
          },
          "metadata": {},
          "execution_count": 13
        }
      ],
      "source": [
        "model.predict(r\"/content/Manzanas-clases-1/test/images\", save=True, imgsz=640, conf=0.35, save_txt = True, save_conf = False)"
      ]
    },
    {
      "cell_type": "markdown",
      "source": [
        "![Manzana detecion.jpg](data:image/jpeg;base64,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)"
      ],
      "metadata": {
        "id": "8SvqWJA5jRj1"
      }
    }
  ],
  "metadata": {
    "kernelspec": {
      "display_name": "Python 3",
      "name": "python3"
    },
    "language_info": {
      "codemirror_mode": {
        "name": "ipython",
        "version": 3
      },
      "file_extension": ".py",
      "mimetype": "text/x-python",
      "name": "python",
      "nbconvert_exporter": "python",
      "pygments_lexer": "ipython3",
      "version": "3.12.3"
    },
    "colab": {
      "provenance": [],
      "machine_shape": "hm",
      "gpuType": "L4",
      "include_colab_link": true
    },
    "accelerator": "GPU"
  },
  "nbformat": 4,
  "nbformat_minor": 0
}